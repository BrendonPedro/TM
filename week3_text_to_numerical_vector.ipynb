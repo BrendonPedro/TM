{
 "cells": [
  {
   "cell_type": "markdown",
   "metadata": {
    "id": "_TUXXNUHRRnQ"
   },
   "source": [
    "# 0. From our last Assignment we can scrape some data from website or document."
   ]
  },
  {
   "cell_type": "code",
   "execution_count": 1,
   "metadata": {
    "colab": {
     "background_save": true
    },
    "id": "IraWA_-gTgcP"
   },
   "outputs": [],
   "source": [
    "## Initialize library and data\n",
    "\n",
    "#!pip install beautifulsoup4\n",
    "#!pip install urllib\n",
    "#!pip install requests\n",
    "\n",
    "from bs4 import BeautifulSoup\n",
    "from urllib.request import urlopen\n",
    "\n",
    "import requests"
   ]
  },
  {
   "cell_type": "code",
   "execution_count": 2,
   "metadata": {
    "colab": {
     "background_save": true
    },
    "id": "eQbLrbUiRQBB"
   },
   "outputs": [],
   "source": [
    "## Define our own function to scrape the data\n",
    "\n",
    "def getContent(url):\n",
    "  ## Initial variables\n",
    "  url_content=[]\n",
    "  p_content=[]\n",
    "\n",
    "  ## Get html by request \n",
    "  gC_res = requests.get(url)\n",
    "  gC_soup = BeautifulSoup(gC_res.content, 'html.parser')\n",
    "\n",
    "  ## Get news content from specific tag\n",
    "  url_content = gC_soup.find_all('div',{'class':'article-body__content'})\n",
    "  \n",
    "  for p in url_content[0].find_all_next('p'):\n",
    "    ## Remove unneccesary system characters\n",
    "    p_content.append(p.text.replace('\\\"','').replace('\\r','').replace('\\n','').replace('\\t','')) \n",
    "\n",
    "  ## merge data as one string \n",
    "  return \" \".join(p_content)\n"
   ]
  },
  {
   "cell_type": "code",
   "execution_count": 3,
   "metadata": {
    "colab": {
     "base_uri": "https://localhost:8080/"
    },
    "id": "ejEX_vYaEzuF",
    "outputId": "421aff38-74aa-47d6-ff42-4b0705b72d00"
   },
   "outputs": [
    {
     "name": "stdout",
     "output_type": "stream",
     "text": [
      "Fighting raged around key cities in Ukraine on Monday as the country's first talks with Russia since last week’s invasion concluded with no immediate breakthrough. Even as Moscow said officials negotiating at the border had heard each other, Ukraine said its second-largest city was coming under attack from heavy Russian shelling. In nearby Kyiv, satellite images captured by an American firm, Maxar Technologies, showed what it said was a roughly 40 mile military convoy approaching Ukraine’s capital on Monday. Maxar added that a number of homes and buildings appeared to be burning north and northwest of the area where the convoy was traveling. Latest updates on Ukraine: While growing numbers of people have fled the Russian advance, those who stayed were enduring an air assault that Kyiv and international watchdogs said was increasingly hitting civilians.  Russian forces were accused of carrying out massive shelling in Kharkiv, Ukraine’s second-largest city. Graphic video shared on social media Monday appeared to show the assault and its aftermath. In one video, bodies can be seen on the ground in pools of blood. Ukrainian interior ministry adviser Anton Gerashchenko shared video appearing to show flashes in the sky as smoke filled the air and said dozens of people had been killed and hundreds more had been wounded. This horror must be seen by the whole world, he said.  NBC News has verified that the video is authentic, but it has not confirmed reports of any casualties from the incident. Russia has repeatedly denied targeting civilians. Speaking to reporters Monday, Ukraine's ambassador to the United States, Oksana Markarova, claimed the Russian military also used a “vacuum bomb.” The highly explosive weapon uses air to trigger a blast that is “particularly devastating in confined environments, such as urban areas,” N.R. Jenzen-Jones, director of Armament Research Services, told NBC News in an interview. Markarova didn't say where or when the weapon, also known as a thermobaric munition or fuel-air explosive, was used, nor did she provide evidence to support the claim. NBC News has reached out to Russia’s Defense Ministry and the Pentagon for comment. If the weapon was used in a city, it could constitute a war crime because of the indiscriminate effect on civilians, said Matthew Evangelista, a professor of history and political science at Cornell University and author of “The Law, Ethics and the War on Terror.” The International Criminal Court will open an investigation into possible war crimes or crimes against humanity in Ukraine, prosecutor Karim Khan said in a statement Monday. There is a “reasonable basis” to believe Russia has committed both, Khan said. U.N. human rights chief Michelle Bachelet said Monday that 102 civilians, seven of them children, have been killed across Ukraine since Thursday. But the figures probably undercounted the full extent of the national death toll, she said. The head of the U.N. refugee agency, meanwhile, said more than a half a million people had fled the country of 44 million. Others have sought shelter inside metro stations and parking garages while missile strikes and gunfire hit cities. As Russian troops bore down on the capital, a strict 39-hour curfew that kept people off Kyiv's streets all weekend ended early Monday. Residents stepped out Monday to replenish supplies and waited in line at supermarkets between the wail of air raid sirens.  “We are calm and do have a lot of resolve,” Vadym Khortiuk, 28, said, adding that his hopes had been boosted by the fact that we have a lot of support from our friends from the West. The support has taken the form not only of increasing pledges of weapons and other military equipment, but also of a concerted effort to make Russian President Vladimir Putin pay for the invasion economically. Finland, for example, announced Monday that it would ship 2,500 assault rifles, 150,000 bullets, 1,500 antitank weapons and 70,000 food packages to Ukraine. Ukraine sought to tighten its bond with the West on Monday, formally applying to join the European Union. Ukrainian President Volodymyr Zelenskyy posted photos of himself signing the application and appealed to the E.U. to accept Ukraine immediately. Crippling sanctions imposed by the U.S. and its allies sent the ruble plunging to record lows early Monday, while Russia’s central bank kept the stock market closed and raised its interest rate to 20 percent from 9.5 percent to shore up the plummeting national currency and prevent a run on banks. The U.S. continued to ramp up the pressure, announcing it would expand sanctions on the country’s central bank, which will prohibit Americans from doing any business with it, and freeze any assets the bank holds in the U.S. The U.S. also has begun expelling 12 Russian intelligence operatives from the Russian mission to the United Nations, White House press secretary Jen Psaki said Monday.  Psaki said the move, which has been in the works for several months, was made because the operatives were engaging in activities she described as “adverse to our national security.” Switzerland, traditionally a neutral party in international affairs, announced Monday that it would sanction Russia, too. Kremlin spokesman Dmitry Peskov admitted that “Russia’s economic reality has changed” because of the “heavy” sanctions, but he said the country was prepared and able to handle the damage. Putin met with advisers about the economy Monday, calling the West an “empire of lies” in remarks broadcast on state television. Russia also closed its airspace to airlines from the E.U. and several other countries in retaliation for the bloc’s ban on all travel by Russian planes over its airspace. With that in mind, the U.S. urged its citizens to consider leaving Russia immediately given the dwindling number of commercial options available. Washington also authorized the voluntary departure of nonemergency employees and family at the embassy in Moscow and announced that it had suspended all operations at the embassy in Minsk, Belarus. With global pressure growing, the U.N. General Assembly held a rare emergency special session Monday with all 193 member states. The U.S. ambassador to the U.N., Linda Thomas-Greenfield, said she hoped to have the body vote on a resolution to condemn Russia’s actions as early as Wednesday. In the wake of the invasion, cultural institutions and sports organizations have moved to isolate Russia. FIFA and UEFA announced Monday that Russian clubs and national teams would be suspended from international and European soccer competitions. “The bulk of Putin’s ground forces remain more than 30 km [18 miles] to the north of Kyiv,” Britain’s Defense Ministry said in a tweet Monday morning. “Logistical failures and staunch Ukrainian resistance continue to frustrate the Russian advance. With the operation moving slower than expected, Russia was bringing in more troops, weapons and equipment, NATO Secretary General Jens Stoltenberg said. They underestimated the resistance they were going to meet, and that’s why they’re making less progress, Stoltenberg said in an interview Monday morning in Brussels. He added that there was a new wave coming in from Russia and from Belarus with heavy armor and artillery. In Ukraine's southeast, officials confirmed that Russian forces had taken control of the city of Berdyansk as they made their way along the coast toward Mariupol, a key port city considered a prime Russian target.  Zelenskyy hailed Ukraine’s military in a video statement early Monday, and said 4,500 Russian troops had been killed in the conflict. NBC News has not verified the number of those killed on either side. Armed with government-issued machine guns, homemade Molotov cocktails and shovels to build barricades, civilians have helped to reinforce their army’s desperate but for now effective resistance. They will soon be joined by prisoners with combat experience who will now be released, Zelenskyy added.  Zelenskyy and Western officials have said Putin intends to remove Ukraine’s pro-Western government and possibly replace it with a Moscow-friendly regime, restoring influence as the Kremlin moves to upend the post-Cold War order on the continent. The conflict has left Europe facing its gravest security crisis in decades.  Putin made that even clearer Sunday when he issued a directive to increase the readiness of Russia’s nuclear deterrent forces, citing “aggressive statements” by NATO and the tough financial sanctions imposed by the U.S., Europe and others.  Russia, like NATO and the U.S., has thousands of nuclear warheads in its arsenal.  Stoltenberg, branded Putin's move as reckless and dangerous. There’s no reason for that. NATO is no threat to Russia, he said. Although NATO moved to increase its presence in Eastern Europe in the wake of the Ukraine invasion, Stoltenberg repeated that the military alliance had no intention of becoming involved in the conflict itself. “We have a responsibility to make sure that this doesn’t spiral out of control,” he said. “That will be extremely dangerous.” Rachel Elbaum is a London-based editor, producer and writer.  Josh Lederman is an NBC News correspondent. Daniel Arkin is a reporter for NBC News who focuses on popular culture and the entertainment industry, particularly film and television. © 2022 NBC UNIVERSAL\n"
     ]
    }
   ],
   "source": [
    "news_text1 = getContent('https://www.nbcnews.com/news/world/russia-ukraine-meet-fighting-kyiv-sanctions-putin-economy-rcna17893')\n",
    "\n",
    "print(news_text1)"
   ]
  },
  {
   "cell_type": "markdown",
   "metadata": {
    "id": "fLmglKcSOMlt"
   },
   "source": [
    "## 1.Word Tokenization"
   ]
  },
  {
   "cell_type": "code",
   "execution_count": 22,
   "metadata": {
    "id": "6XZ-aw6TNxM1"
   },
   "outputs": [
    {
     "name": "stdout",
     "output_type": "stream",
     "text": [
      "['Fighting', 'raged', 'around', 'key', 'cities', 'in', 'Ukraine', 'on', 'Monday', 'as', 'the', \"country's\", 'first', 'talks', 'with', 'Russia', 'since', 'last', 'week’s', 'invasion', 'concluded', 'with', 'no', 'immediate', 'breakthrough.', 'Even', 'as', 'Moscow', 'said', 'officials', 'negotiating', 'at', 'the', 'border', 'had', 'heard', 'each', 'other,', 'Ukraine', 'said', 'its', 'second-largest', 'city', 'was\\xa0coming', 'under', 'attack\\xa0from', 'heavy', 'Russian', 'shelling.', 'In', 'nearby', 'Kyiv,', 'satellite', 'images', 'captured', 'by', 'an', 'American', 'firm,', 'Maxar', 'Technologies,', 'showed', 'what', 'it', 'said', 'was', 'a', 'roughly', '40', 'mile', 'military', 'convoy', 'approaching', 'Ukraine’s', 'capital', 'on', 'Monday.', 'Maxar', 'added', 'that', 'a', 'number', 'of', 'homes', 'and', 'buildings', 'appeared', 'to', 'be', 'burning', 'north', 'and', 'northwest', 'of', 'the', 'area', 'where', 'the', 'convoy', 'was', 'traveling.', 'Latest', 'updates', 'on', 'Ukraine:', 'While', 'growing', 'numbers', 'of', 'people', 'have', 'fled', 'the', 'Russian', 'advance,', 'those', 'who', 'stayed', 'were', 'enduring', 'an', 'air', 'assault\\xa0that', 'Kyiv', 'and', 'international', 'watchdogs', 'said', 'was', 'increasingly', 'hitting', 'civilians.', '', 'Russian', 'forces', 'were', 'accused', 'of', 'carrying', 'out', 'massive', 'shelling', 'in', 'Kharkiv,', 'Ukraine’s', 'second-largest', 'city.', 'Graphic', 'video', 'shared', 'on', 'social', 'media', 'Monday', 'appeared', 'to', 'show', 'the', 'assault', 'and', 'its', 'aftermath.', 'In', 'one', 'video,', 'bodies', 'can', 'be', 'seen', 'on', 'the', 'ground', 'in', 'pools', 'of', 'blood.', 'Ukrainian', 'interior', 'ministry', 'adviser', 'Anton', 'Gerashchenko', 'shared\\xa0video', 'appearing', 'to', 'show', 'flashes', 'in', 'the', 'sky', 'as', 'smoke', 'filled', 'the', 'air\\xa0and', 'said', 'dozens', 'of', 'people', 'had', 'been', 'killed', 'and', 'hundreds', 'more', 'had', 'been', 'wounded.', 'This', 'horror', 'must', 'be', 'seen', 'by', 'the', 'whole', 'world,', 'he', 'said.\\xa0', 'NBC', 'News', 'has', 'verified', 'that', 'the', 'video', 'is', 'authentic,', 'but', 'it', 'has', 'not', 'confirmed', 'reports', 'of', 'any', 'casualties', 'from', 'the', 'incident.\\xa0Russia', 'has', 'repeatedly', 'denied', 'targeting', 'civilians.', 'Speaking', 'to', 'reporters', 'Monday,', \"Ukraine's\", 'ambassador', 'to', 'the', 'United', 'States,', 'Oksana', 'Markarova,', 'claimed', 'the', 'Russian', 'military', 'also', 'used', 'a', '“vacuum', 'bomb.”', 'The', 'highly', 'explosive', 'weapon', 'uses', 'air', 'to', 'trigger', 'a', 'blast', 'that', 'is', '“particularly', 'devastating', 'in', 'confined', 'environments,', 'such', 'as', 'urban', 'areas,”', 'N.R.', 'Jenzen-Jones,', 'director', 'of', 'Armament', 'Research', 'Services,', 'told', 'NBC', 'News', 'in', 'an', 'interview.', 'Markarova', \"didn't\", 'say', 'where', 'or', 'when', 'the', 'weapon,', 'also', 'known', 'as', 'a', 'thermobaric', 'munition', 'or', 'fuel-air', 'explosive,', 'was', 'used,', 'nor', 'did', 'she', 'provide', 'evidence', 'to', 'support', 'the', 'claim.', 'NBC', 'News', 'has', 'reached', 'out', 'to', 'Russia’s', 'Defense', 'Ministry', 'and', 'the', 'Pentagon', 'for', 'comment.', 'If', 'the', 'weapon', 'was', 'used', 'in', 'a', 'city,', 'it', 'could', 'constitute', 'a', 'war', 'crime', 'because', 'of', 'the', 'indiscriminate', 'effect', 'on', 'civilians,', 'said', 'Matthew', 'Evangelista,', 'a', 'professor', 'of', 'history', 'and', 'political', 'science', 'at', 'Cornell', 'University', 'and', 'author', 'of', '“The', 'Law,', 'Ethics', 'and', 'the', 'War', 'on', 'Terror.”', 'The', 'International', 'Criminal', 'Court', 'will', 'open', 'an', 'investigation', 'into', 'possible', 'war', 'crimes', 'or', 'crimes', 'against', 'humanity', 'in', 'Ukraine,', 'prosecutor', 'Karim', 'Khan', 'said', 'in', 'a', 'statement', 'Monday.', 'There', 'is', 'a', '“reasonable', 'basis”', 'to', 'believe', 'Russia', 'has', 'committed', 'both,', 'Khan', 'said.', 'U.N.', 'human', 'rights', 'chief', 'Michelle', 'Bachelet', 'said', 'Monday', 'that', '102', 'civilians,', 'seven', 'of', 'them', 'children,', 'have', 'been', 'killed', 'across', 'Ukraine', 'since', 'Thursday.', 'But', 'the', 'figures', 'probably', 'undercounted', 'the', 'full', 'extent', 'of', 'the', 'national', 'death', 'toll,', 'she', 'said.', 'The', 'head', 'of', 'the', 'U.N.', 'refugee', 'agency,', 'meanwhile,', 'said', 'more', 'than', 'a', 'half', 'a', 'million', 'people', 'had', 'fled', 'the', 'country', 'of', '44', 'million.', 'Others', 'have', 'sought', 'shelter', 'inside', 'metro', 'stations', 'and', 'parking', 'garages', 'while', 'missile', 'strikes', 'and', 'gunfire', 'hit', 'cities.', 'As', 'Russian', 'troops', 'bore', 'down', 'on', 'the', 'capital,', 'a', 'strict', '39-hour', 'curfew', 'that', 'kept', 'people', 'off', \"Kyiv's\", 'streets', 'all', 'weekend', 'ended', 'early', 'Monday.', 'Residents', 'stepped', 'out', 'Monday', 'to', 'replenish', 'supplies', 'and', 'waited', 'in', 'line', 'at', 'supermarkets', 'between', 'the', 'wail', 'of', 'air', 'raid', 'sirens.', '', '“We', 'are', 'calm', 'and', 'do', 'have', 'a', 'lot', 'of', 'resolve,”', 'Vadym', 'Khortiuk,', '28,', 'said,', 'adding', 'that', 'his', 'hopes', 'had', 'been', 'boosted', 'by', 'the', 'fact', 'that', 'we', 'have', 'a', 'lot', 'of', 'support', 'from', 'our', 'friends', 'from', 'the', 'West.', 'The', 'support', 'has', 'taken', 'the', 'form', 'not', 'only', 'of', 'increasing', 'pledges', 'of', 'weapons', 'and', 'other', 'military', 'equipment,', 'but', 'also', 'of', 'a', 'concerted', 'effort', 'to', 'make', 'Russian', 'President', 'Vladimir', 'Putin', 'pay', 'for', 'the', 'invasion', 'economically.', 'Finland,', 'for', 'example,', 'announced', 'Monday', 'that', 'it', 'would', 'ship', '2,500', 'assault', 'rifles,', '150,000', 'bullets,', '1,500', 'antitank', 'weapons', 'and', '70,000', 'food', 'packages', 'to', 'Ukraine.', 'Ukraine', 'sought', 'to', 'tighten', 'its', 'bond', 'with', 'the', 'West', 'on', 'Monday,', 'formally', 'applying', 'to', 'join', 'the', 'European', 'Union.', 'Ukrainian', 'President', 'Volodymyr', 'Zelenskyy', 'posted', 'photos', 'of', 'himself', 'signing', 'the', 'application', 'and', 'appealed', 'to', 'the', 'E.U.', 'to', 'accept', 'Ukraine', 'immediately.', 'Crippling', 'sanctions', 'imposed', 'by', 'the', 'U.S.', 'and', 'its', 'allies', 'sent', 'the', 'ruble', 'plunging', 'to', 'record', 'lows', 'early', 'Monday,', 'while', 'Russia’s', 'central', 'bank', 'kept', 'the', 'stock', 'market', 'closed', 'and', 'raised', 'its', 'interest', 'rate', 'to', '20', 'percent', 'from', '9.5', 'percent', 'to', 'shore', 'up', 'the', 'plummeting', 'national', 'currency', 'and', 'prevent', 'a', 'run', 'on', 'banks.', 'The', 'U.S.', 'continued', 'to', 'ramp', 'up', 'the', 'pressure,', 'announcing', 'it', 'would', 'expand', 'sanctions', 'on', 'the', 'country’s', 'central', 'bank,', 'which', 'will', 'prohibit', 'Americans', 'from', 'doing', 'any', 'business', 'with', 'it,', 'and', 'freeze', 'any', 'assets', 'the', 'bank', 'holds', 'in', 'the', 'U.S.', 'The', 'U.S.', 'also', 'has', 'begun', 'expelling', '12', 'Russian', 'intelligence', 'operatives', 'from', 'the', 'Russian', 'mission', 'to', 'the', 'United', 'Nations,', 'White', 'House', 'press', 'secretary', 'Jen', 'Psaki', 'said', 'Monday.\\xa0', 'Psaki', 'said', 'the', 'move,', 'which', 'has', 'been', 'in', 'the', 'works', 'for', 'several', 'months,', 'was', 'made', 'because', 'the', 'operatives', 'were', 'engaging', 'in', 'activities', 'she', 'described', 'as', '“adverse', 'to', 'our', 'national', 'security.”', 'Switzerland,', 'traditionally', 'a', 'neutral', 'party', 'in', 'international', 'affairs,', 'announced', 'Monday', 'that', 'it', 'would', 'sanction', 'Russia,', 'too.', 'Kremlin', 'spokesman', 'Dmitry', 'Peskov\\xa0admitted', 'that', '“Russia’s', 'economic', 'reality', 'has', 'changed”', 'because', 'of', 'the', '“heavy”', 'sanctions,', 'but', 'he', 'said', 'the', 'country', 'was', 'prepared', 'and', 'able', 'to', 'handle', 'the', 'damage.', 'Putin', 'met', 'with', 'advisers', 'about', 'the', 'economy', 'Monday,', 'calling', 'the', 'West', 'an', '“empire', 'of', 'lies”', 'in', 'remarks', 'broadcast', 'on', 'state', 'television.', 'Russia', 'also', 'closed', 'its', 'airspace', 'to', 'airlines', 'from', 'the', 'E.U.', 'and', 'several', 'other', 'countries', 'in', 'retaliation', 'for', 'the', 'bloc’s', 'ban', 'on', 'all', 'travel', 'by', 'Russian', 'planes', 'over', 'its', 'airspace.', 'With', 'that', 'in', 'mind,', 'the', 'U.S.', 'urged', 'its', 'citizens', 'to', 'consider', 'leaving', 'Russia', 'immediately', 'given', 'the', 'dwindling', 'number', 'of', 'commercial', 'options', 'available.', 'Washington', 'also', 'authorized', 'the', 'voluntary', 'departure', 'of', 'nonemergency', 'employees', 'and', 'family', 'at', 'the', 'embassy', 'in', 'Moscow', 'and', 'announced', 'that', 'it', 'had', 'suspended', 'all', 'operations', 'at', 'the', 'embassy', 'in', 'Minsk,', 'Belarus.', 'With', 'global', 'pressure', 'growing,', 'the', 'U.N.', 'General', 'Assembly\\xa0held', 'a', 'rare', 'emergency', 'special', 'session', 'Monday', 'with', 'all', '193', 'member', 'states.', 'The', 'U.S.', 'ambassador', 'to', 'the', 'U.N.,', 'Linda', 'Thomas-Greenfield,', 'said', 'she', 'hoped', 'to', 'have', 'the', 'body', 'vote', 'on', 'a', 'resolution', 'to', 'condemn', 'Russia’s', 'actions', 'as', 'early', 'as', 'Wednesday.', 'In', 'the', 'wake', 'of', 'the', 'invasion,', 'cultural', 'institutions', 'and', 'sports', 'organizations', 'have', 'moved', 'to', 'isolate', 'Russia.', 'FIFA', 'and', 'UEFA', 'announced', 'Monday', 'that', 'Russian', 'clubs', 'and', 'national', 'teams', 'would', 'be', 'suspended', 'from', 'international', 'and', 'European', 'soccer', 'competitions.', '“The', 'bulk', 'of', 'Putin’s', 'ground', 'forces', 'remain', 'more', 'than', '30', 'km', '[18', 'miles]', 'to', 'the', 'north', 'of', 'Kyiv,”', 'Britain’s', 'Defense', 'Ministry', 'said', 'in', 'a', 'tweet', 'Monday', 'morning.', '“Logistical', 'failures', 'and', 'staunch', 'Ukrainian', 'resistance', 'continue', 'to', 'frustrate', 'the', 'Russian', 'advance.', 'With', 'the', 'operation', 'moving', 'slower', 'than', 'expected,', 'Russia', 'was', 'bringing', 'in', 'more', 'troops,', 'weapons', 'and', 'equipment,', 'NATO', 'Secretary', 'General', 'Jens', 'Stoltenberg', 'said.', 'They', 'underestimated', 'the', 'resistance', 'they', 'were', 'going', 'to', 'meet,', 'and', 'that’s', 'why', 'they’re', 'making', 'less', 'progress,', 'Stoltenberg', 'said', 'in', 'an', 'interview', 'Monday', 'morning', 'in', 'Brussels.', 'He', 'added', 'that', 'there', 'was', 'a', 'new', 'wave', 'coming', 'in', 'from', 'Russia', 'and', 'from', 'Belarus', 'with', 'heavy', 'armor', 'and', 'artillery.', 'In', \"Ukraine's\", 'southeast,', 'officials', 'confirmed', 'that', 'Russian', 'forces', 'had', 'taken', 'control', 'of', 'the', 'city', 'of', 'Berdyansk', 'as', 'they', 'made', 'their', 'way', 'along', 'the', 'coast', 'toward', 'Mariupol,', 'a', 'key', 'port', 'city', 'considered', 'a', 'prime', 'Russian', 'target.', '', 'Zelenskyy', 'hailed', 'Ukraine’s', 'military', 'in', 'a', 'video', 'statement', 'early', 'Monday,', 'and', 'said', '4,500', 'Russian', 'troops', 'had', 'been', 'killed', 'in', 'the', 'conflict.', 'NBC', 'News', 'has', 'not', 'verified', 'the', 'number', 'of', 'those', 'killed', 'on', 'either', 'side.', 'Armed', 'with', 'government-issued', 'machine', 'guns,', 'homemade', 'Molotov', 'cocktails', 'and', 'shovels', 'to', 'build', 'barricades,', 'civilians', 'have', 'helped', 'to', 'reinforce', 'their', 'army’s\\xa0desperate', 'but', 'for', 'now', 'effective', 'resistance.', 'They', 'will', 'soon', 'be', 'joined', 'by', 'prisoners', 'with', 'combat', 'experience', 'who', 'will', 'now', 'be', 'released,', 'Zelenskyy', 'added.\\xa0', 'Zelenskyy', 'and', 'Western', 'officials', 'have', 'said', 'Putin', 'intends', 'to', 'remove', 'Ukraine’s', 'pro-Western', 'government', 'and', 'possibly', 'replace', 'it', 'with', 'a', 'Moscow-friendly', 'regime,', 'restoring', 'influence', 'as', 'the', 'Kremlin', 'moves', 'to', 'upend', 'the', 'post-Cold', 'War', 'order', 'on', 'the', 'continent.', 'The', 'conflict', 'has', 'left', 'Europe', 'facing', 'its', 'gravest', 'security', 'crisis', 'in', 'decades.', '', 'Putin', 'made', 'that', 'even', 'clearer', 'Sunday', 'when', 'he', 'issued', 'a', 'directive', 'to', 'increase', 'the', 'readiness', 'of', 'Russia’s', 'nuclear', 'deterrent', 'forces,', 'citing', '“aggressive', 'statements”', 'by', 'NATO', 'and', 'the', 'tough', 'financial', 'sanctions', 'imposed', 'by', 'the', 'U.S.,', 'Europe', 'and', 'others.', '', 'Russia,', 'like', 'NATO', 'and', 'the', 'U.S.,', 'has', 'thousands', 'of', 'nuclear', 'warheads', 'in', 'its', 'arsenal.', '', 'Stoltenberg,', 'branded', \"Putin's\", 'move', 'as', 'reckless', 'and', 'dangerous.', 'There’s', 'no', 'reason', 'for', 'that.', 'NATO', 'is', 'no', 'threat', 'to', 'Russia,', 'he', 'said.', 'Although', 'NATO', 'moved', 'to', 'increase', 'its', 'presence', 'in', 'Eastern', 'Europe', 'in', 'the', 'wake', 'of', 'the', 'Ukraine', 'invasion,', 'Stoltenberg', 'repeated', 'that', 'the', 'military', 'alliance', 'had', 'no', 'intention', 'of', 'becoming', 'involved', 'in', 'the', 'conflict', 'itself.', '“We', 'have', 'a', 'responsibility', 'to', 'make', 'sure', 'that', 'this', 'doesn’t', 'spiral', 'out', 'of', 'control,”', 'he', 'said.', '“That', 'will', 'be', 'extremely', 'dangerous.”', 'Rachel', 'Elbaum', 'is', 'a', 'London-based', 'editor,', 'producer', 'and', 'writer.\\xa0', 'Josh', 'Lederman', 'is', 'an', 'NBC', 'News', 'correspondent.', 'Daniel', 'Arkin', 'is', 'a', 'reporter', 'for', 'NBC', 'News', 'who', 'focuses', 'on', 'popular', 'culture', 'and', 'the', 'entertainment', 'industry,', 'particularly', 'film', 'and', 'television.', '©\\xa02022', 'NBC', 'UNIVERSAL']\n"
     ]
    }
   ],
   "source": [
    "text1=\"Let's go ahead and start now. We can't wait any longer.\"\n",
    "text1=news_text1\n",
    "\n",
    "## split text base on space\n",
    "news_text1_space_token=news_text1.split(\" \")\n",
    "print(news_text1_space_token)"
   ]
  },
  {
   "cell_type": "code",
   "execution_count": 9,
   "metadata": {
    "colab": {
     "base_uri": "https://localhost:8080/"
    },
    "id": "rfQQdARcQhN4",
    "outputId": "86e56218-3a24-43a8-cbc6-82a5496fd862"
   },
   "outputs": [
    {
     "name": "stdout",
     "output_type": "stream",
     "text": [
      "Let's go ahead and start now. We can't wait any longer.\n"
     ]
    }
   ],
   "source": [
    "print(text1)"
   ]
  },
  {
   "cell_type": "code",
   "execution_count": 10,
   "metadata": {
    "colab": {
     "base_uri": "https://localhost:8080/"
    },
    "id": "NwpDGlAnJRqq",
    "outputId": "57575b74-a603-466a-ea44-9e5452c95da9"
   },
   "outputs": [
    {
     "name": "stdout",
     "output_type": "stream",
     "text": [
      "[\"Let's\", 'go', 'ahead', 'and', 'start', 'now.', 'We', \"can't\", 'wait', 'any', 'longer.']\n"
     ]
    }
   ],
   "source": [
    "## split text base on space\n",
    "text1_space_token=text1.split(\" \")\n",
    "print(text1_space_token)"
   ]
  },
  {
   "cell_type": "code",
   "execution_count": 11,
   "metadata": {
    "colab": {
     "base_uri": "https://localhost:8080/"
    },
    "id": "cgBR4ljwUVxW",
    "outputId": "541cac68-7d7a-4f39-ee60-3422e7a73770"
   },
   "outputs": [
    {
     "name": "stdout",
     "output_type": "stream",
     "text": [
      "['Let', \"'\", 's', 'go', 'ahead', 'and', 'start', 'now', '.', 'We', 'can', \"'\", 't', 'wait', 'any', 'longer', '.']\n"
     ]
    }
   ],
   "source": [
    "## tokenization using wordpunct_tokenize function\n",
    "import nltk  ## nltk stand for natural language toolkit\n",
    "punct_token = nltk.wordpunct_tokenize(text1)\n",
    "print(punct_token)"
   ]
  },
  {
   "cell_type": "code",
   "execution_count": 12,
   "metadata": {
    "colab": {
     "base_uri": "https://localhost:8080/"
    },
    "id": "tZyhTOy5UowA",
    "outputId": "69fbb6d6-23f0-4a0c-d5a5-13d34aead6ae"
   },
   "outputs": [
    {
     "name": "stderr",
     "output_type": "stream",
     "text": [
      "[nltk_data] Downloading package punkt to C:\\Users\\Brendon\n",
      "[nltk_data]     Pedro\\AppData\\Roaming\\nltk_data...\n",
      "[nltk_data]   Unzipping tokenizers\\punkt.zip.\n"
     ]
    },
    {
     "name": "stdout",
     "output_type": "stream",
     "text": [
      "['Let', \"'s\", 'go', 'ahead', 'and', 'start', 'now', '.', 'We', 'ca', \"n't\", 'wait', 'any', 'longer', '.']\n"
     ]
    }
   ],
   "source": [
    "## tokenization using word_tokenize function\n",
    "nltk.download('punkt') ## donwload \"punkt\" dictionary resource\n",
    "text1_tokens = nltk.word_tokenize(text1)\n",
    "print(text1_tokens)"
   ]
  },
  {
   "cell_type": "markdown",
   "metadata": {
    "id": "LewPG9pfSoZh"
   },
   "source": [
    "## 2.Multi-Word Tokenizer"
   ]
  },
  {
   "cell_type": "code",
   "execution_count": 13,
   "metadata": {
    "id": "NUVKkOnn0bgB"
   },
   "outputs": [],
   "source": [
    "text1=\"Let's go ahead and start now. We can't wait any longer.\"\n",
    "text1=news_text1"
   ]
  },
  {
   "cell_type": "code",
   "execution_count": 23,
   "metadata": {
    "colab": {
     "base_uri": "https://localhost:8080/"
    },
    "id": "pe-QAZh9Ta9_",
    "outputId": "8f071509-40b6-4698-a8e5-53395d46f0f6"
   },
   "outputs": [
    {
     "name": "stdout",
     "output_type": "stream",
     "text": [
      "['Fighting', 'raged', 'around', 'key', 'cities', 'in', 'Ukraine', 'on', 'Monday', 'as', 'the', 'country', \"'s\", 'first', 'talks', 'with', 'Russia', 'since', 'last', 'week', '’', 's', 'invasion', 'concluded', 'with', 'no', 'immediate', 'breakthrough', '.', 'Even', 'as', 'Moscow', 'said', 'officials', 'negotiating', 'at', 'the', 'border', 'had', 'heard', 'each', 'other', ',', 'Ukraine', 'said', 'its', 'second-largest', 'city', 'was', 'coming', 'under', 'attack', 'from', 'heavy', 'Russian', 'shelling', '.', 'In', 'nearby', 'Kyiv', ',', 'satellite', 'images', 'captured', 'by', 'an', 'American', 'firm', ',', 'Maxar', 'Technologies', ',', 'showed', 'what', 'it', 'said', 'was', 'a', 'roughly', '40', 'mile', 'military', 'convoy', 'approaching', 'Ukraine', '’', 's', 'capital', 'on', 'Monday', '.', 'Maxar', 'added', 'that', 'a', 'number', 'of', 'homes', 'and', 'buildings', 'appeared', 'to', 'be', 'burning', 'north', 'and', 'northwest', 'of', 'the', 'area', 'where', 'the', 'convoy', 'was', 'traveling', '.', 'Latest', 'updates', 'on', 'Ukraine', ':', 'While', 'growing', 'numbers', 'of', 'people', 'have', 'fled', 'the', 'Russian', 'advance', ',', 'those', 'who', 'stayed', 'were', 'enduring', 'an', 'air', 'assault', 'that', 'Kyiv', 'and', 'international', 'watchdogs', 'said', 'was', 'increasingly', 'hitting', 'civilians', '.', 'Russian', 'forces', 'were', 'accused', 'of', 'carrying', 'out', 'massive', 'shelling', 'in', 'Kharkiv', ',', 'Ukraine', '’', 's', 'second-largest', 'city', '.', 'Graphic', 'video', 'shared', 'on', 'social', 'media', 'Monday', 'appeared', 'to', 'show', 'the', 'assault', 'and', 'its', 'aftermath', '.', 'In', 'one', 'video', ',', 'bodies', 'can', 'be', 'seen', 'on', 'the', 'ground', 'in', 'pools', 'of', 'blood', '.', 'Ukrainian', 'interior', 'ministry', 'adviser', 'Anton', 'Gerashchenko', 'shared', 'video', 'appearing', 'to', 'show', 'flashes', 'in', 'the', 'sky', 'as', 'smoke', 'filled', 'the', 'air', 'and', 'said', 'dozens', 'of', 'people', 'had', 'been', 'killed', 'and', 'hundreds', 'more', 'had', 'been', 'wounded', '.', 'This', 'horror', 'must', 'be', 'seen', 'by', 'the', 'whole', 'world', ',', 'he', 'said', '.', 'NBC', 'News', 'has', 'verified', 'that', 'the', 'video', 'is', 'authentic', ',', 'but', 'it', 'has', 'not', 'confirmed', 'reports', 'of', 'any', 'casualties', 'from', 'the', 'incident', '.', 'Russia', 'has', 'repeatedly', 'denied', 'targeting', 'civilians', '.', 'Speaking', 'to', 'reporters', 'Monday', ',', 'Ukraine', \"'s\", 'ambassador', 'to', 'the', 'United', 'States', ',', 'Oksana', 'Markarova', ',', 'claimed', 'the', 'Russian', 'military', 'also', 'used', 'a', '“', 'vacuum', 'bomb.', '”', 'The', 'highly', 'explosive', 'weapon', 'uses', 'air', 'to', 'trigger', 'a', 'blast', 'that', 'is', '“', 'particularly', 'devastating', 'in', 'confined', 'environments', ',', 'such', 'as', 'urban', 'areas', ',', '”', 'N.R', '.', 'Jenzen-Jones', ',', 'director', 'of', 'Armament', 'Research', 'Services', ',', 'told', 'NBC', 'News', 'in', 'an', 'interview', '.', 'Markarova', 'did', \"n't\", 'say', 'where', 'or', 'when', 'the', 'weapon', ',', 'also', 'known', 'as', 'a', 'thermobaric', 'munition', 'or', 'fuel-air', 'explosive', ',', 'was', 'used', ',', 'nor', 'did', 'she', 'provide', 'evidence', 'to', 'support', 'the', 'claim', '.', 'NBC', 'News', 'has', 'reached', 'out', 'to', 'Russia', '’', 's', 'Defense', 'Ministry', 'and', 'the', 'Pentagon', 'for', 'comment', '.', 'If', 'the', 'weapon', 'was', 'used', 'in', 'a', 'city', ',', 'it', 'could', 'constitute', 'a', 'war', 'crime', 'because', 'of', 'the', 'indiscriminate', 'effect', 'on', 'civilians', ',', 'said', 'Matthew', 'Evangelista', ',', 'a', 'professor', 'of', 'history', 'and', 'political', 'science', 'at', 'Cornell', 'University', 'and', 'author', 'of', '“', 'The', 'Law', ',', 'Ethics', 'and', 'the', 'War', 'on', 'Terror.', '”', 'The', 'International', 'Criminal', 'Court', 'will', 'open', 'an', 'investigation', 'into', 'possible', 'war', 'crimes', 'or', 'crimes', 'against', 'humanity', 'in', 'Ukraine', ',', 'prosecutor', 'Karim', 'Khan', 'said', 'in', 'a', 'statement', 'Monday', '.', 'There', 'is', 'a', '“', 'reasonable', 'basis', '”', 'to', 'believe', 'Russia', 'has', 'committed', 'both', ',', 'Khan', 'said', '.', 'U.N.', 'human', 'rights', 'chief', 'Michelle', 'Bachelet', 'said', 'Monday', 'that', '102', 'civilians', ',', 'seven', 'of', 'them', 'children', ',', 'have', 'been', 'killed', 'across', 'Ukraine', 'since', 'Thursday', '.', 'But', 'the', 'figures', 'probably', 'undercounted', 'the', 'full', 'extent', 'of', 'the', 'national', 'death', 'toll', ',', 'she', 'said', '.', 'The', 'head', 'of', 'the', 'U.N.', 'refugee', 'agency', ',', 'meanwhile', ',', 'said', 'more', 'than', 'a', 'half', 'a', 'million', 'people', 'had', 'fled', 'the', 'country', 'of', '44', 'million', '.', 'Others', 'have', 'sought', 'shelter', 'inside', 'metro', 'stations', 'and', 'parking', 'garages', 'while', 'missile', 'strikes', 'and', 'gunfire', 'hit', 'cities', '.', 'As', 'Russian', 'troops', 'bore', 'down', 'on', 'the', 'capital', ',', 'a', 'strict', '39-hour', 'curfew', 'that', 'kept', 'people', 'off', 'Kyiv', \"'s\", 'streets', 'all', 'weekend', 'ended', 'early', 'Monday', '.', 'Residents', 'stepped', 'out', 'Monday', 'to', 'replenish', 'supplies', 'and', 'waited', 'in', 'line', 'at', 'supermarkets', 'between', 'the', 'wail', 'of', 'air', 'raid', 'sirens', '.', '“', 'We', 'are', 'calm', 'and', 'do', 'have', 'a', 'lot', 'of', 'resolve', ',', '”', 'Vadym', 'Khortiuk', ',', '28', ',', 'said', ',', 'adding', 'that', 'his', 'hopes', 'had', 'been', 'boosted', 'by', 'the', 'fact', 'that', 'we', 'have', 'a', 'lot', 'of', 'support', 'from', 'our', 'friends', 'from', 'the', 'West', '.', 'The', 'support', 'has', 'taken', 'the', 'form', 'not', 'only', 'of', 'increasing', 'pledges', 'of', 'weapons', 'and', 'other', 'military', 'equipment', ',', 'but', 'also', 'of', 'a', 'concerted', 'effort', 'to', 'make', 'Russian', 'President', 'Vladimir', 'Putin', 'pay', 'for', 'the', 'invasion', 'economically', '.', 'Finland', ',', 'for', 'example', ',', 'announced', 'Monday', 'that', 'it', 'would', 'ship', '2,500', 'assault', 'rifles', ',', '150,000', 'bullets', ',', '1,500', 'antitank', 'weapons', 'and', '70,000', 'food', 'packages', 'to', 'Ukraine', '.', 'Ukraine', 'sought', 'to', 'tighten', 'its', 'bond', 'with', 'the', 'West', 'on', 'Monday', ',', 'formally', 'applying', 'to', 'join', 'the', 'European', 'Union', '.', 'Ukrainian', 'President', 'Volodymyr', 'Zelenskyy', 'posted', 'photos', 'of', 'himself', 'signing', 'the', 'application', 'and', 'appealed', 'to', 'the', 'E.U', '.', 'to', 'accept', 'Ukraine', 'immediately', '.', 'Crippling', 'sanctions', 'imposed', 'by', 'the', 'U.S.', 'and', 'its', 'allies', 'sent', 'the', 'ruble', 'plunging', 'to', 'record', 'lows', 'early', 'Monday', ',', 'while', 'Russia', '’', 's', 'central', 'bank', 'kept', 'the', 'stock', 'market', 'closed', 'and', 'raised', 'its', 'interest', 'rate', 'to', '20', 'percent', 'from', '9.5', 'percent', 'to', 'shore', 'up', 'the', 'plummeting', 'national', 'currency', 'and', 'prevent', 'a', 'run', 'on', 'banks', '.', 'The', 'U.S.', 'continued', 'to', 'ramp', 'up', 'the', 'pressure', ',', 'announcing', 'it', 'would', 'expand', 'sanctions', 'on', 'the', 'country', '’', 's', 'central', 'bank', ',', 'which', 'will', 'prohibit', 'Americans', 'from', 'doing', 'any', 'business', 'with', 'it', ',', 'and', 'freeze', 'any', 'assets', 'the', 'bank', 'holds', 'in', 'the', 'U.S', '.', 'The', 'U.S.', 'also', 'has', 'begun', 'expelling', '12', 'Russian', 'intelligence', 'operatives', 'from', 'the', 'Russian', 'mission', 'to', 'the', 'United', 'Nations', ',', 'White', 'House', 'press', 'secretary', 'Jen', 'Psaki', 'said', 'Monday', '.', 'Psaki', 'said', 'the', 'move', ',', 'which', 'has', 'been', 'in', 'the', 'works', 'for', 'several', 'months', ',', 'was', 'made', 'because', 'the', 'operatives', 'were', 'engaging', 'in', 'activities', 'she', 'described', 'as', '“', 'adverse', 'to', 'our', 'national', 'security.', '”', 'Switzerland', ',', 'traditionally', 'a', 'neutral', 'party', 'in', 'international', 'affairs', ',', 'announced', 'Monday', 'that', 'it', 'would', 'sanction', 'Russia', ',', 'too', '.', 'Kremlin', 'spokesman', 'Dmitry', 'Peskov', 'admitted', 'that', '“', 'Russia', '’', 's', 'economic', 'reality', 'has', 'changed', '”', 'because', 'of', 'the', '“', 'heavy', '”', 'sanctions', ',', 'but', 'he', 'said', 'the', 'country', 'was', 'prepared', 'and', 'able', 'to', 'handle', 'the', 'damage', '.', 'Putin', 'met', 'with', 'advisers', 'about', 'the', 'economy', 'Monday', ',', 'calling', 'the', 'West', 'an', '“', 'empire', 'of', 'lies', '”', 'in', 'remarks', 'broadcast', 'on', 'state', 'television', '.', 'Russia', 'also', 'closed', 'its', 'airspace', 'to', 'airlines', 'from', 'the', 'E.U', '.', 'and', 'several', 'other', 'countries', 'in', 'retaliation', 'for', 'the', 'bloc', '’', 's', 'ban', 'on', 'all', 'travel', 'by', 'Russian', 'planes', 'over', 'its', 'airspace', '.', 'With', 'that', 'in', 'mind', ',', 'the', 'U.S.', 'urged', 'its', 'citizens', 'to', 'consider', 'leaving', 'Russia', 'immediately', 'given', 'the', 'dwindling', 'number', 'of', 'commercial', 'options', 'available', '.', 'Washington', 'also', 'authorized', 'the', 'voluntary', 'departure', 'of', 'nonemergency', 'employees', 'and', 'family', 'at', 'the', 'embassy', 'in', 'Moscow', 'and', 'announced', 'that', 'it', 'had', 'suspended', 'all', 'operations', 'at', 'the', 'embassy', 'in', 'Minsk', ',', 'Belarus', '.', 'With', 'global', 'pressure', 'growing', ',', 'the', 'U.N.', 'General', 'Assembly', 'held', 'a', 'rare', 'emergency', 'special', 'session', 'Monday', 'with', 'all', '193', 'member', 'states', '.', 'The', 'U.S.', 'ambassador', 'to', 'the', 'U.N.', ',', 'Linda', 'Thomas-Greenfield', ',', 'said', 'she', 'hoped', 'to', 'have', 'the', 'body', 'vote', 'on', 'a', 'resolution', 'to', 'condemn', 'Russia', '’', 's', 'actions', 'as', 'early', 'as', 'Wednesday', '.', 'In', 'the', 'wake', 'of', 'the', 'invasion', ',', 'cultural', 'institutions', 'and', 'sports', 'organizations', 'have', 'moved', 'to', 'isolate', 'Russia', '.', 'FIFA', 'and', 'UEFA', 'announced', 'Monday', 'that', 'Russian', 'clubs', 'and', 'national', 'teams', 'would', 'be', 'suspended', 'from', 'international', 'and', 'European', 'soccer', 'competitions', '.', '“', 'The', 'bulk', 'of', 'Putin', '’', 's', 'ground', 'forces', 'remain', 'more', 'than', '30', 'km', '[', '18', 'miles', ']', 'to', 'the', 'north', 'of', 'Kyiv', ',', '”', 'Britain', '’', 's', 'Defense', 'Ministry', 'said', 'in', 'a', 'tweet', 'Monday', 'morning', '.', '“', 'Logistical', 'failures', 'and', 'staunch', 'Ukrainian', 'resistance', 'continue', 'to', 'frustrate', 'the', 'Russian', 'advance', '.', 'With', 'the', 'operation', 'moving', 'slower', 'than', 'expected', ',', 'Russia', 'was', 'bringing', 'in', 'more', 'troops', ',', 'weapons', 'and', 'equipment', ',', 'NATO', 'Secretary', 'General', 'Jens', 'Stoltenberg', 'said', '.', 'They', 'underestimated', 'the', 'resistance', 'they', 'were', 'going', 'to', 'meet', ',', 'and', 'that', '’', 's', 'why', 'they', '’', 're', 'making', 'less', 'progress', ',', 'Stoltenberg', 'said', 'in', 'an', 'interview', 'Monday', 'morning', 'in', 'Brussels', '.', 'He', 'added', 'that', 'there', 'was', 'a', 'new', 'wave', 'coming', 'in', 'from', 'Russia', 'and', 'from', 'Belarus', 'with', 'heavy', 'armor', 'and', 'artillery', '.', 'In', 'Ukraine', \"'s\", 'southeast', ',', 'officials', 'confirmed', 'that', 'Russian', 'forces', 'had', 'taken', 'control', 'of', 'the', 'city', 'of', 'Berdyansk', 'as', 'they', 'made', 'their', 'way', 'along', 'the', 'coast', 'toward', 'Mariupol', ',', 'a', 'key', 'port', 'city', 'considered', 'a', 'prime', 'Russian', 'target', '.', 'Zelenskyy', 'hailed', 'Ukraine', '’', 's', 'military', 'in', 'a', 'video', 'statement', 'early', 'Monday', ',', 'and', 'said', '4,500', 'Russian', 'troops', 'had', 'been', 'killed', 'in', 'the', 'conflict', '.', 'NBC', 'News', 'has', 'not', 'verified', 'the', 'number', 'of', 'those', 'killed', 'on', 'either', 'side', '.', 'Armed', 'with', 'government-issued', 'machine', 'guns', ',', 'homemade', 'Molotov', 'cocktails', 'and', 'shovels', 'to', 'build', 'barricades', ',', 'civilians', 'have', 'helped', 'to', 'reinforce', 'their', 'army', '’', 's', 'desperate', 'but', 'for', 'now', 'effective', 'resistance', '.', 'They', 'will', 'soon', 'be', 'joined', 'by', 'prisoners', 'with', 'combat', 'experience', 'who', 'will', 'now', 'be', 'released', ',', 'Zelenskyy', 'added', '.', 'Zelenskyy', 'and', 'Western', 'officials', 'have', 'said', 'Putin', 'intends', 'to', 'remove', 'Ukraine', '’', 's', 'pro-Western', 'government', 'and', 'possibly', 'replace', 'it', 'with', 'a', 'Moscow-friendly', 'regime', ',', 'restoring', 'influence', 'as', 'the', 'Kremlin', 'moves', 'to', 'upend', 'the', 'post-Cold', 'War', 'order', 'on', 'the', 'continent', '.', 'The', 'conflict', 'has', 'left', 'Europe', 'facing', 'its', 'gravest', 'security', 'crisis', 'in', 'decades', '.', 'Putin', 'made', 'that', 'even', 'clearer', 'Sunday', 'when', 'he', 'issued', 'a', 'directive', 'to', 'increase', 'the', 'readiness', 'of', 'Russia', '’', 's', 'nuclear', 'deterrent', 'forces', ',', 'citing', '“', 'aggressive', 'statements', '”', 'by', 'NATO', 'and', 'the', 'tough', 'financial', 'sanctions', 'imposed', 'by', 'the', 'U.S.', ',', 'Europe', 'and', 'others', '.', 'Russia', ',', 'like', 'NATO', 'and', 'the', 'U.S.', ',', 'has', 'thousands', 'of', 'nuclear', 'warheads', 'in', 'its', 'arsenal', '.', 'Stoltenberg', ',', 'branded', 'Putin', \"'s\", 'move', 'as', 'reckless', 'and', 'dangerous', '.', 'There', '’', 's', 'no', 'reason', 'for', 'that', '.', 'NATO', 'is', 'no', 'threat', 'to', 'Russia', ',', 'he', 'said', '.', 'Although', 'NATO', 'moved', 'to', 'increase', 'its', 'presence', 'in', 'Eastern', 'Europe', 'in', 'the', 'wake', 'of', 'the', 'Ukraine', 'invasion', ',', 'Stoltenberg', 'repeated', 'that', 'the', 'military', 'alliance', 'had', 'no', 'intention', 'of', 'becoming', 'involved', 'in', 'the', 'conflict', 'itself', '.', '“', 'We', 'have', 'a', 'responsibility', 'to', 'make', 'sure', 'that', 'this', 'doesn', '’', 't', 'spiral', 'out', 'of', 'control', ',', '”', 'he', 'said', '.', '“', 'That', 'will', 'be', 'extremely', 'dangerous.', '”', 'Rachel', 'Elbaum', 'is', 'a', 'London-based', 'editor', ',', 'producer', 'and', 'writer', '.', 'Josh', 'Lederman', 'is', 'an', 'NBC', 'News', 'correspondent', '.', 'Daniel', 'Arkin', 'is', 'a', 'reporter', 'for', 'NBC', 'News', 'who', 'focuses', 'on', 'popular', 'culture', 'and', 'the', 'entertainment', 'industry', ',', 'particularly', 'film', 'and', 'television', '.', '©', '2022', 'NBC', 'UNIVERSAL']\n"
     ]
    }
   ],
   "source": [
    "#combine 2 word into 1 token\n",
    "import nltk\n",
    "from nltk.tokenize import MWETokenizer\n",
    "mw_tokenizer = nltk.tokenize.MWETokenizer()\n",
    "news_text1_tokens = nltk.word_tokenize(news_text1)\n",
    "mw_tokenizer.add_mwe(('go', 'ahead'))\n",
    "print(mw_tokenizer.tokenize(news_text1_tokens))"
   ]
  },
  {
   "cell_type": "code",
   "execution_count": 15,
   "metadata": {
    "colab": {
     "base_uri": "https://localhost:8080/"
    },
    "id": "CldGTr7jORuI",
    "outputId": "749e76bd-697e-4cf7-c5b5-8a7b8b45d936"
   },
   "outputs": [
    {
     "name": "stdout",
     "output_type": "stream",
     "text": [
      "['National', 'Tsing', 'Hua', 'University', 'was', 'established', 'in', 'Beijing', 'in', '1911', 'as', '“', 'Tsing', 'Hua', 'Academy', '”', '.', 'In', '1956', ',', 'National', 'Tsing', 'Hua', 'University', 'was', 're-established', 'at', 'its', 'present', 'location', 'in', 'Hsinchu', ',', 'Taiwan', '.', 'Since', 'its', 'relocation', ',', 'NTHU', 'has', 'developed', 'into', 'a', 'comprehensive', 'research', 'university', 'offering', 'a', 'full', 'range', 'of', 'degree', 'programs', 'in', 'science', ',', 'technology', ',', 'engineering', ',', 'humanities', ',', 'social', 'sciences', ',', 'and', 'management', '.']\n"
     ]
    }
   ],
   "source": [
    "#Another example\n",
    "text2=\"National Tsing Hua University was established in Beijing in 1911 as “Tsing Hua Academy”. \\\n",
    "In 1956, National Tsing Hua University was re-established at its present location in Hsinchu, Taiwan. \\\n",
    "Since its relocation, NTHU has developed into a comprehensive research university offering a full range \\\n",
    "of degree programs in science, technology, engineering, humanities, social sciences, and management.\"\n",
    "text2_tokens =nltk.word_tokenize(text2)\n",
    "print(text2_tokens)"
   ]
  },
  {
   "cell_type": "code",
   "execution_count": 16,
   "metadata": {
    "colab": {
     "base_uri": "https://localhost:8080/"
    },
    "id": "HVoNen72fqzK",
    "outputId": "9b3920a4-df32-4b82-dbac-038e56b78d5a"
   },
   "outputs": [
    {
     "name": "stdout",
     "output_type": "stream",
     "text": [
      "['National_Tsing_Hua_University', 'was', 'established', 'in', 'Beijing', 'in', '1911', 'as', '“', 'Tsing_Hua_Academy', '”', '.', 'In', '1956', ',', 'National_Tsing_Hua_University', 'was', 're-established', 'at', 'its', 'present', 'location', 'in', 'Hsinchu', ',', 'Taiwan', '.', 'Since', 'its', 'relocation', ',', 'NTHU', 'has', 'developed', 'into', 'a', 'comprehensive', 'research', 'university', 'offering', 'a', 'full', 'range', 'of', 'degree', 'programs', 'in', 'science', ',', 'technology', ',', 'engineering', ',', 'humanities', ',', 'social_sciences', ',', 'and', 'management', '.']\n"
     ]
    }
   ],
   "source": [
    "mw_tokenizer.add_mwe(('National', 'Tsing','Hua','University'))\n",
    "mw_tokenizer.add_mwe(('Tsing', 'Hua', 'Academy'))\n",
    "mw_tokenizer.add_mwe(('social','sciences'))\n",
    "print(mw_tokenizer.tokenize(text2_tokens))\n"
   ]
  },
  {
   "cell_type": "code",
   "execution_count": 17,
   "metadata": {
    "colab": {
     "base_uri": "https://localhost:8080/"
    },
    "id": "6T7kSMFhJFKr",
    "outputId": "2bd2f51e-5897-4f2a-8c51-ed3ad9b5f1f4"
   },
   "outputs": [
    {
     "name": "stdout",
     "output_type": "stream",
     "text": [
      "['Fighting', 'raged', 'around', 'key', 'cities', 'in', 'Ukraine', 'on', 'Monday', 'as', 'the', 'country', \"'s\", 'first', 'talks', 'with', 'Russia', 'since', 'last', 'week', '’', 's', 'invasion', 'concluded', 'with', 'no', 'immediate', 'breakthrough', '.', 'Even', 'as', 'Moscow', 'said', 'officials', 'negotiating', 'at', 'the', 'border', 'had', 'heard', 'each', 'other', ',', 'Ukraine', 'said', 'its', 'second-largest', 'city', 'was', 'coming', 'under', 'attack', 'from', 'heavy', 'Russian', 'shelling', '.', 'In', 'nearby', 'Kyiv', ',', 'satellite', 'images', 'captured', 'by', 'an', 'American', 'firm', ',', 'Maxar', 'Technologies', ',', 'showed', 'what', 'it', 'said', 'was', 'a', 'roughly', '40', 'mile', 'military', 'convoy', 'approaching', 'Ukraine', '’', 's', 'capital', 'on', 'Monday', '.', 'Maxar', 'added', 'that', 'a', 'number', 'of', 'homes', 'and', 'buildings', 'appeared', 'to', 'be', 'burning', 'north', 'and', 'northwest', 'of', 'the', 'area', 'where', 'the', 'convoy', 'was', 'traveling', '.', 'Latest', 'updates', 'on', 'Ukraine', ':', 'While', 'growing', 'numbers', 'of', 'people', 'have', 'fled', 'the', 'Russian', 'advance', ',', 'those', 'who', 'stayed', 'were', 'enduring', 'an', 'air', 'assault', 'that', 'Kyiv', 'and', 'international', 'watchdogs', 'said', 'was', 'increasingly', 'hitting', 'civilians', '.', 'Russian', 'forces', 'were', 'accused', 'of', 'carrying', 'out', 'massive', 'shelling', 'in', 'Kharkiv', ',', 'Ukraine', '’', 's', 'second-largest', 'city', '.', 'Graphic', 'video', 'shared', 'on', 'social', 'media', 'Monday', 'appeared', 'to', 'show', 'the', 'assault', 'and', 'its', 'aftermath', '.', 'In', 'one', 'video', ',', 'bodies', 'can', 'be', 'seen', 'on', 'the', 'ground', 'in', 'pools', 'of', 'blood', '.', 'Ukrainian', 'interior', 'ministry', 'adviser', 'Anton', 'Gerashchenko', 'shared', 'video', 'appearing', 'to', 'show', 'flashes', 'in', 'the', 'sky', 'as', 'smoke', 'filled', 'the', 'air', 'and', 'said', 'dozens', 'of', 'people', 'had', 'been', 'killed', 'and', 'hundreds', 'more', 'had', 'been', 'wounded', '.', 'This', 'horror', 'must', 'be', 'seen', 'by', 'the', 'whole', 'world', ',', 'he', 'said', '.', 'NBC', 'News', 'has', 'verified', 'that', 'the', 'video', 'is', 'authentic', ',', 'but', 'it', 'has', 'not', 'confirmed', 'reports', 'of', 'any', 'casualties', 'from', 'the', 'incident', '.', 'Russia', 'has', 'repeatedly', 'denied', 'targeting', 'civilians', '.', 'Speaking', 'to', 'reporters', 'Monday', ',', 'Ukraine', \"'s\", 'ambassador', 'to', 'the', 'United', 'States', ',', 'Oksana', 'Markarova', ',', 'claimed', 'the', 'Russian', 'military', 'also', 'used', 'a', '“', 'vacuum', 'bomb.', '”', 'The', 'highly', 'explosive', 'weapon', 'uses', 'air', 'to', 'trigger', 'a', 'blast', 'that', 'is', '“', 'particularly', 'devastating', 'in', 'confined', 'environments', ',', 'such', 'as', 'urban', 'areas', ',', '”', 'N.R', '.', 'Jenzen-Jones', ',', 'director', 'of', 'Armament', 'Research', 'Services', ',', 'told', 'NBC', 'News', 'in', 'an', 'interview', '.', 'Markarova', 'did', \"n't\", 'say', 'where', 'or', 'when', 'the', 'weapon', ',', 'also', 'known', 'as', 'a', 'thermobaric', 'munition', 'or', 'fuel-air', 'explosive', ',', 'was', 'used', ',', 'nor', 'did', 'she', 'provide', 'evidence', 'to', 'support', 'the', 'claim', '.', 'NBC', 'News', 'has', 'reached', 'out', 'to', 'Russia', '’', 's', 'Defense', 'Ministry', 'and', 'the', 'Pentagon', 'for', 'comment', '.', 'If', 'the', 'weapon', 'was', 'used', 'in', 'a', 'city', ',', 'it', 'could', 'constitute', 'a', 'war', 'crime', 'because', 'of', 'the', 'indiscriminate', 'effect', 'on', 'civilians', ',', 'said', 'Matthew', 'Evangelista', ',', 'a', 'professor', 'of', 'history', 'and', 'political', 'science', 'at', 'Cornell', 'University', 'and', 'author', 'of', '“', 'The', 'Law', ',', 'Ethics', 'and', 'the', 'War', 'on', 'Terror.', '”', 'The', 'International', 'Criminal', 'Court', 'will', 'open', 'an', 'investigation', 'into', 'possible', 'war', 'crimes', 'or', 'crimes', 'against', 'humanity', 'in', 'Ukraine', ',', 'prosecutor', 'Karim', 'Khan', 'said', 'in', 'a', 'statement', 'Monday', '.', 'There', 'is', 'a', '“', 'reasonable', 'basis', '”', 'to', 'believe', 'Russia', 'has', 'committed', 'both', ',', 'Khan', 'said', '.', 'U.N.', 'human', 'rights', 'chief', 'Michelle', 'Bachelet', 'said', 'Monday', 'that', '102', 'civilians', ',', 'seven', 'of', 'them', 'children', ',', 'have', 'been', 'killed', 'across', 'Ukraine', 'since', 'Thursday', '.', 'But', 'the', 'figures', 'probably', 'undercounted', 'the', 'full', 'extent', 'of', 'the', 'national', 'death', 'toll', ',', 'she', 'said', '.', 'The', 'head', 'of', 'the', 'U.N.', 'refugee', 'agency', ',', 'meanwhile', ',', 'said', 'more', 'than', 'a', 'half', 'a', 'million', 'people', 'had', 'fled', 'the', 'country', 'of', '44', 'million', '.', 'Others', 'have', 'sought', 'shelter', 'inside', 'metro', 'stations', 'and', 'parking', 'garages', 'while', 'missile', 'strikes', 'and', 'gunfire', 'hit', 'cities', '.', 'As', 'Russian', 'troops', 'bore', 'down', 'on', 'the', 'capital', ',', 'a', 'strict', '39-hour', 'curfew', 'that', 'kept', 'people', 'off', 'Kyiv', \"'s\", 'streets', 'all', 'weekend', 'ended', 'early', 'Monday', '.', 'Residents', 'stepped', 'out', 'Monday', 'to', 'replenish', 'supplies', 'and', 'waited', 'in', 'line', 'at', 'supermarkets', 'between', 'the', 'wail', 'of', 'air', 'raid', 'sirens', '.', '“', 'We', 'are', 'calm', 'and', 'do', 'have', 'a', 'lot', 'of', 'resolve', ',', '”', 'Vadym', 'Khortiuk', ',', '28', ',', 'said', ',', 'adding', 'that', 'his', 'hopes', 'had', 'been', 'boosted', 'by', 'the', 'fact', 'that', 'we', 'have', 'a', 'lot', 'of', 'support', 'from', 'our', 'friends', 'from', 'the', 'West', '.', 'The', 'support', 'has', 'taken', 'the', 'form', 'not', 'only', 'of', 'increasing', 'pledges', 'of', 'weapons', 'and', 'other', 'military', 'equipment', ',', 'but', 'also', 'of', 'a', 'concerted', 'effort', 'to', 'make', 'Russian', 'President', 'Vladimir_Putin', 'pay', 'for', 'the', 'invasion', 'economically', '.', 'Finland', ',', 'for', 'example', ',', 'announced', 'Monday', 'that', 'it', 'would', 'ship', '2,500', 'assault', 'rifles', ',', '150,000', 'bullets', ',', '1,500', 'antitank', 'weapons', 'and', '70,000', 'food', 'packages', 'to', 'Ukraine', '.', 'Ukraine', 'sought', 'to', 'tighten', 'its', 'bond', 'with', 'the', 'West', 'on', 'Monday', ',', 'formally', 'applying', 'to', 'join', 'the', 'European', 'Union', '.', 'Ukrainian', 'President', 'Volodymyr_Zelenskyy', 'posted', 'photos', 'of', 'himself', 'signing', 'the', 'application', 'and', 'appealed', 'to', 'the', 'E.U', '.', 'to', 'accept', 'Ukraine', 'immediately', '.', 'Crippling', 'sanctions', 'imposed', 'by', 'the', 'U.S.', 'and', 'its', 'allies', 'sent', 'the', 'ruble', 'plunging', 'to', 'record', 'lows', 'early', 'Monday', ',', 'while', 'Russia', '’', 's', 'central', 'bank', 'kept', 'the', 'stock', 'market', 'closed', 'and', 'raised', 'its', 'interest', 'rate', 'to', '20', 'percent', 'from', '9.5', 'percent', 'to', 'shore', 'up', 'the', 'plummeting', 'national', 'currency', 'and', 'prevent', 'a', 'run', 'on', 'banks', '.', 'The', 'U.S.', 'continued', 'to', 'ramp', 'up', 'the', 'pressure', ',', 'announcing', 'it', 'would', 'expand', 'sanctions', 'on', 'the', 'country', '’', 's', 'central', 'bank', ',', 'which', 'will', 'prohibit', 'Americans', 'from', 'doing', 'any', 'business', 'with', 'it', ',', 'and', 'freeze', 'any', 'assets', 'the', 'bank', 'holds', 'in', 'the', 'U.S', '.', 'The', 'U.S.', 'also', 'has', 'begun', 'expelling', '12', 'Russian', 'intelligence', 'operatives', 'from', 'the', 'Russian', 'mission', 'to', 'the', 'United', 'Nations', ',', 'White', 'House', 'press', 'secretary', 'Jen', 'Psaki', 'said', 'Monday', '.', 'Psaki', 'said', 'the', 'move', ',', 'which', 'has', 'been', 'in', 'the', 'works', 'for', 'several', 'months', ',', 'was', 'made', 'because', 'the', 'operatives', 'were', 'engaging', 'in', 'activities', 'she', 'described', 'as', '“', 'adverse', 'to', 'our', 'national', 'security.', '”', 'Switzerland', ',', 'traditionally', 'a', 'neutral', 'party', 'in', 'international', 'affairs', ',', 'announced', 'Monday', 'that', 'it', 'would', 'sanction', 'Russia', ',', 'too', '.', 'Kremlin', 'spokesman', 'Dmitry', 'Peskov', 'admitted', 'that', '“', 'Russia', '’', 's', 'economic', 'reality', 'has', 'changed', '”', 'because', 'of', 'the', '“', 'heavy', '”', 'sanctions', ',', 'but', 'he', 'said', 'the', 'country', 'was', 'prepared', 'and', 'able', 'to', 'handle', 'the', 'damage', '.', 'Putin', 'met', 'with', 'advisers', 'about', 'the', 'economy', 'Monday', ',', 'calling', 'the', 'West', 'an', '“', 'empire', 'of', 'lies', '”', 'in', 'remarks', 'broadcast', 'on', 'state', 'television', '.', 'Russia', 'also', 'closed', 'its', 'airspace', 'to', 'airlines', 'from', 'the', 'E.U', '.', 'and', 'several', 'other', 'countries', 'in', 'retaliation', 'for', 'the', 'bloc', '’', 's', 'ban', 'on', 'all', 'travel', 'by', 'Russian', 'planes', 'over', 'its', 'airspace', '.', 'With', 'that', 'in', 'mind', ',', 'the', 'U.S.', 'urged', 'its', 'citizens', 'to', 'consider', 'leaving', 'Russia', 'immediately', 'given', 'the', 'dwindling', 'number', 'of', 'commercial', 'options', 'available', '.', 'Washington', 'also', 'authorized', 'the', 'voluntary', 'departure', 'of', 'nonemergency', 'employees', 'and', 'family', 'at', 'the', 'embassy', 'in', 'Moscow', 'and', 'announced', 'that', 'it', 'had', 'suspended', 'all', 'operations', 'at', 'the', 'embassy', 'in', 'Minsk', ',', 'Belarus', '.', 'With', 'global', 'pressure', 'growing', ',', 'the', 'U.N.', 'General', 'Assembly', 'held', 'a', 'rare', 'emergency', 'special', 'session', 'Monday', 'with', 'all', '193', 'member', 'states', '.', 'The', 'U.S.', 'ambassador', 'to', 'the', 'U.N.', ',', 'Linda', 'Thomas-Greenfield', ',', 'said', 'she', 'hoped', 'to', 'have', 'the', 'body', 'vote', 'on', 'a', 'resolution', 'to', 'condemn', 'Russia', '’', 's', 'actions', 'as', 'early', 'as', 'Wednesday', '.', 'In', 'the', 'wake', 'of', 'the', 'invasion', ',', 'cultural', 'institutions', 'and', 'sports', 'organizations', 'have', 'moved', 'to', 'isolate', 'Russia', '.', 'FIFA', 'and', 'UEFA', 'announced', 'Monday', 'that', 'Russian', 'clubs', 'and', 'national', 'teams', 'would', 'be', 'suspended', 'from', 'international', 'and', 'European', 'soccer', 'competitions', '.', '“', 'The', 'bulk', 'of', 'Putin', '’', 's', 'ground', 'forces', 'remain', 'more', 'than', '30', 'km', '[', '18', 'miles', ']', 'to', 'the', 'north', 'of', 'Kyiv', ',', '”', 'Britain', '’', 's', 'Defense', 'Ministry', 'said', 'in', 'a', 'tweet', 'Monday', 'morning', '.', '“', 'Logistical', 'failures', 'and', 'staunch', 'Ukrainian', 'resistance', 'continue', 'to', 'frustrate', 'the', 'Russian', 'advance', '.', 'With', 'the', 'operation', 'moving', 'slower', 'than', 'expected', ',', 'Russia', 'was', 'bringing', 'in', 'more', 'troops', ',', 'weapons', 'and', 'equipment', ',', 'NATO', 'Secretary', 'General', 'Jens', 'Stoltenberg', 'said', '.', 'They', 'underestimated', 'the', 'resistance', 'they', 'were', 'going', 'to', 'meet', ',', 'and', 'that', '’', 's', 'why', 'they', '’', 're', 'making', 'less', 'progress', ',', 'Stoltenberg', 'said', 'in', 'an', 'interview', 'Monday', 'morning', 'in', 'Brussels', '.', 'He', 'added', 'that', 'there', 'was', 'a', 'new', 'wave', 'coming', 'in', 'from', 'Russia', 'and', 'from', 'Belarus', 'with', 'heavy', 'armor', 'and', 'artillery', '.', 'In', 'Ukraine', \"'s\", 'southeast', ',', 'officials', 'confirmed', 'that', 'Russian', 'forces', 'had', 'taken', 'control', 'of', 'the', 'city', 'of', 'Berdyansk', 'as', 'they', 'made', 'their', 'way', 'along', 'the', 'coast', 'toward', 'Mariupol', ',', 'a', 'key', 'port', 'city', 'considered', 'a', 'prime', 'Russian', 'target', '.', 'Zelenskyy', 'hailed', 'Ukraine', '’', 's', 'military', 'in', 'a', 'video', 'statement', 'early', 'Monday', ',', 'and', 'said', '4,500', 'Russian', 'troops', 'had', 'been', 'killed', 'in', 'the', 'conflict', '.', 'NBC', 'News', 'has', 'not', 'verified', 'the', 'number', 'of', 'those', 'killed', 'on', 'either', 'side', '.', 'Armed', 'with', 'government-issued', 'machine', 'guns', ',', 'homemade', 'Molotov', 'cocktails', 'and', 'shovels', 'to', 'build', 'barricades', ',', 'civilians', 'have', 'helped', 'to', 'reinforce', 'their', 'army', '’', 's', 'desperate', 'but', 'for', 'now', 'effective', 'resistance', '.', 'They', 'will', 'soon', 'be', 'joined', 'by', 'prisoners', 'with', 'combat', 'experience', 'who', 'will', 'now', 'be', 'released', ',', 'Zelenskyy', 'added', '.', 'Zelenskyy', 'and', 'Western', 'officials', 'have', 'said', 'Putin', 'intends', 'to', 'remove', 'Ukraine', '’', 's', 'pro-Western', 'government', 'and', 'possibly', 'replace', 'it', 'with', 'a', 'Moscow-friendly', 'regime', ',', 'restoring', 'influence', 'as', 'the', 'Kremlin', 'moves', 'to', 'upend', 'the', 'post-Cold', 'War', 'order', 'on', 'the', 'continent', '.', 'The', 'conflict', 'has', 'left', 'Europe', 'facing', 'its', 'gravest', 'security', 'crisis', 'in', 'decades', '.', 'Putin', 'made', 'that', 'even', 'clearer', 'Sunday', 'when', 'he', 'issued', 'a', 'directive', 'to', 'increase', 'the', 'readiness', 'of', 'Russia', '’', 's', 'nuclear', 'deterrent', 'forces', ',', 'citing', '“', 'aggressive', 'statements', '”', 'by', 'NATO', 'and', 'the', 'tough', 'financial', 'sanctions', 'imposed', 'by', 'the', 'U.S.', ',', 'Europe', 'and', 'others', '.', 'Russia', ',', 'like', 'NATO', 'and', 'the', 'U.S.', ',', 'has', 'thousands', 'of', 'nuclear', 'warheads', 'in', 'its', 'arsenal', '.', 'Stoltenberg', ',', 'branded', 'Putin', \"'s\", 'move', 'as', 'reckless', 'and', 'dangerous', '.', 'There', '’', 's', 'no', 'reason', 'for', 'that', '.', 'NATO', 'is', 'no', 'threat', 'to', 'Russia', ',', 'he', 'said', '.', 'Although', 'NATO', 'moved', 'to', 'increase', 'its', 'presence', 'in', 'Eastern', 'Europe', 'in', 'the', 'wake', 'of', 'the', 'Ukraine', 'invasion', ',', 'Stoltenberg', 'repeated', 'that', 'the', 'military', 'alliance', 'had', 'no', 'intention', 'of', 'becoming', 'involved', 'in', 'the', 'conflict', 'itself', '.', '“', 'We', 'have', 'a', 'responsibility', 'to', 'make', 'sure', 'that', 'this', 'doesn', '’', 't', 'spiral', 'out', 'of', 'control', ',', '”', 'he', 'said', '.', '“', 'That', 'will', 'be', 'extremely', 'dangerous.', '”', 'Rachel', 'Elbaum', 'is', 'a', 'London-based', 'editor', ',', 'producer', 'and', 'writer', '.', 'Josh', 'Lederman', 'is', 'an', 'NBC', 'News', 'correspondent', '.', 'Daniel', 'Arkin', 'is', 'a', 'reporter', 'for', 'NBC', 'News', 'who', 'focuses', 'on', 'popular', 'culture', 'and', 'the', 'entertainment', 'industry', ',', 'particularly', 'film', 'and', 'television', '.', '©', '2022', 'NBC', 'UNIVERSAL']\n"
     ]
    }
   ],
   "source": [
    "##\n",
    "mw_tokenizer.add_mwe(('Volodymyr','Zelenskyy'))\n",
    "mw_tokenizer.add_mwe(('Vladimir','Putin'))\n",
    "\n",
    "print(mw_tokenizer.tokenize(text1_tokens))\n"
   ]
  },
  {
   "cell_type": "markdown",
   "metadata": {
    "id": "81opi3cP2M93"
   },
   "source": [
    "## 3.Use ngrams to discover multi-word token"
   ]
  },
  {
   "cell_type": "code",
   "execution_count": 26,
   "metadata": {
    "colab": {
     "base_uri": "https://localhost:8080/"
    },
    "id": "tfnoWvWJrIm5",
    "outputId": "35f5f47d-a784-4548-c9f7-335436c5f861"
   },
   "outputs": [
    {
     "name": "stdout",
     "output_type": "stream",
     "text": [
      "['Fighting', 'raged', 'around', 'key', 'cities', 'in', 'Ukraine', 'on', 'Monday', 'as', 'the', 'country', \"'s\", 'first', 'talks', 'with', 'Russia', 'since', 'last', 'week', '’', 's', 'invasion', 'concluded', 'with', 'no', 'immediate', 'breakthrough', '.', 'Even', 'as', 'Moscow', 'said', 'officials', 'negotiating', 'at', 'the', 'border', 'had', 'heard', 'each', 'other', ',', 'Ukraine', 'said', 'its', 'second-largest', 'city', 'was', 'coming', 'under', 'attack', 'from', 'heavy', 'Russian', 'shelling', '.', 'In', 'nearby', 'Kyiv', ',', 'satellite', 'images', 'captured', 'by', 'an', 'American', 'firm', ',', 'Maxar', 'Technologies', ',', 'showed', 'what', 'it', 'said', 'was', 'a', 'roughly', '40', 'mile', 'military', 'convoy', 'approaching', 'Ukraine', '’', 's', 'capital', 'on', 'Monday', '.', 'Maxar', 'added', 'that', 'a', 'number', 'of', 'homes', 'and', 'buildings', 'appeared', 'to', 'be', 'burning', 'north', 'and', 'northwest', 'of', 'the', 'area', 'where', 'the', 'convoy', 'was', 'traveling', '.', 'Latest', 'updates', 'on', 'Ukraine', ':', 'While', 'growing', 'numbers', 'of', 'people', 'have', 'fled', 'the', 'Russian', 'advance', ',', 'those', 'who', 'stayed', 'were', 'enduring', 'an', 'air', 'assault', 'that', 'Kyiv', 'and', 'international', 'watchdogs', 'said', 'was', 'increasingly', 'hitting', 'civilians', '.', 'Russian', 'forces', 'were', 'accused', 'of', 'carrying', 'out', 'massive', 'shelling', 'in', 'Kharkiv', ',', 'Ukraine', '’', 's', 'second-largest', 'city', '.', 'Graphic', 'video', 'shared', 'on', 'social', 'media', 'Monday', 'appeared', 'to', 'show', 'the', 'assault', 'and', 'its', 'aftermath', '.', 'In', 'one', 'video', ',', 'bodies', 'can', 'be', 'seen', 'on', 'the', 'ground', 'in', 'pools', 'of', 'blood', '.', 'Ukrainian', 'interior', 'ministry', 'adviser', 'Anton', 'Gerashchenko', 'shared', 'video', 'appearing', 'to', 'show', 'flashes', 'in', 'the', 'sky', 'as', 'smoke', 'filled', 'the', 'air', 'and', 'said', 'dozens', 'of', 'people', 'had', 'been', 'killed', 'and', 'hundreds', 'more', 'had', 'been', 'wounded', '.', 'This', 'horror', 'must', 'be', 'seen', 'by', 'the', 'whole', 'world', ',', 'he', 'said', '.', 'NBC', 'News', 'has', 'verified', 'that', 'the', 'video', 'is', 'authentic', ',', 'but', 'it', 'has', 'not', 'confirmed', 'reports', 'of', 'any', 'casualties', 'from', 'the', 'incident', '.', 'Russia', 'has', 'repeatedly', 'denied', 'targeting', 'civilians', '.', 'Speaking', 'to', 'reporters', 'Monday', ',', 'Ukraine', \"'s\", 'ambassador', 'to', 'the', 'United', 'States', ',', 'Oksana', 'Markarova', ',', 'claimed', 'the', 'Russian', 'military', 'also', 'used', 'a', '“', 'vacuum', 'bomb.', '”', 'The', 'highly', 'explosive', 'weapon', 'uses', 'air', 'to', 'trigger', 'a', 'blast', 'that', 'is', '“', 'particularly', 'devastating', 'in', 'confined', 'environments', ',', 'such', 'as', 'urban', 'areas', ',', '”', 'N.R', '.', 'Jenzen-Jones', ',', 'director', 'of', 'Armament', 'Research', 'Services', ',', 'told', 'NBC', 'News', 'in', 'an', 'interview', '.', 'Markarova', 'did', \"n't\", 'say', 'where', 'or', 'when', 'the', 'weapon', ',', 'also', 'known', 'as', 'a', 'thermobaric', 'munition', 'or', 'fuel-air', 'explosive', ',', 'was', 'used', ',', 'nor', 'did', 'she', 'provide', 'evidence', 'to', 'support', 'the', 'claim', '.', 'NBC', 'News', 'has', 'reached', 'out', 'to', 'Russia', '’', 's', 'Defense', 'Ministry', 'and', 'the', 'Pentagon', 'for', 'comment', '.', 'If', 'the', 'weapon', 'was', 'used', 'in', 'a', 'city', ',', 'it', 'could', 'constitute', 'a', 'war', 'crime', 'because', 'of', 'the', 'indiscriminate', 'effect', 'on', 'civilians', ',', 'said', 'Matthew', 'Evangelista', ',', 'a', 'professor', 'of', 'history', 'and', 'political', 'science', 'at', 'Cornell', 'University', 'and', 'author', 'of', '“', 'The', 'Law', ',', 'Ethics', 'and', 'the', 'War', 'on', 'Terror.', '”', 'The', 'International', 'Criminal', 'Court', 'will', 'open', 'an', 'investigation', 'into', 'possible', 'war', 'crimes', 'or', 'crimes', 'against', 'humanity', 'in', 'Ukraine', ',', 'prosecutor', 'Karim', 'Khan', 'said', 'in', 'a', 'statement', 'Monday', '.', 'There', 'is', 'a', '“', 'reasonable', 'basis', '”', 'to', 'believe', 'Russia', 'has', 'committed', 'both', ',', 'Khan', 'said', '.', 'U.N.', 'human', 'rights', 'chief', 'Michelle', 'Bachelet', 'said', 'Monday', 'that', '102', 'civilians', ',', 'seven', 'of', 'them', 'children', ',', 'have', 'been', 'killed', 'across', 'Ukraine', 'since', 'Thursday', '.', 'But', 'the', 'figures', 'probably', 'undercounted', 'the', 'full', 'extent', 'of', 'the', 'national', 'death', 'toll', ',', 'she', 'said', '.', 'The', 'head', 'of', 'the', 'U.N.', 'refugee', 'agency', ',', 'meanwhile', ',', 'said', 'more', 'than', 'a', 'half', 'a', 'million', 'people', 'had', 'fled', 'the', 'country', 'of', '44', 'million', '.', 'Others', 'have', 'sought', 'shelter', 'inside', 'metro', 'stations', 'and', 'parking', 'garages', 'while', 'missile', 'strikes', 'and', 'gunfire', 'hit', 'cities', '.', 'As', 'Russian', 'troops', 'bore', 'down', 'on', 'the', 'capital', ',', 'a', 'strict', '39-hour', 'curfew', 'that', 'kept', 'people', 'off', 'Kyiv', \"'s\", 'streets', 'all', 'weekend', 'ended', 'early', 'Monday', '.', 'Residents', 'stepped', 'out', 'Monday', 'to', 'replenish', 'supplies', 'and', 'waited', 'in', 'line', 'at', 'supermarkets', 'between', 'the', 'wail', 'of', 'air', 'raid', 'sirens', '.', '“', 'We', 'are', 'calm', 'and', 'do', 'have', 'a', 'lot', 'of', 'resolve', ',', '”', 'Vadym', 'Khortiuk', ',', '28', ',', 'said', ',', 'adding', 'that', 'his', 'hopes', 'had', 'been', 'boosted', 'by', 'the', 'fact', 'that', 'we', 'have', 'a', 'lot', 'of', 'support', 'from', 'our', 'friends', 'from', 'the', 'West', '.', 'The', 'support', 'has', 'taken', 'the', 'form', 'not', 'only', 'of', 'increasing', 'pledges', 'of', 'weapons', 'and', 'other', 'military', 'equipment', ',', 'but', 'also', 'of', 'a', 'concerted', 'effort', 'to', 'make', 'Russian', 'President', 'Vladimir', 'Putin', 'pay', 'for', 'the', 'invasion', 'economically', '.', 'Finland', ',', 'for', 'example', ',', 'announced', 'Monday', 'that', 'it', 'would', 'ship', '2,500', 'assault', 'rifles', ',', '150,000', 'bullets', ',', '1,500', 'antitank', 'weapons', 'and', '70,000', 'food', 'packages', 'to', 'Ukraine', '.', 'Ukraine', 'sought', 'to', 'tighten', 'its', 'bond', 'with', 'the', 'West', 'on', 'Monday', ',', 'formally', 'applying', 'to', 'join', 'the', 'European', 'Union', '.', 'Ukrainian', 'President', 'Volodymyr', 'Zelenskyy', 'posted', 'photos', 'of', 'himself', 'signing', 'the', 'application', 'and', 'appealed', 'to', 'the', 'E.U', '.', 'to', 'accept', 'Ukraine', 'immediately', '.', 'Crippling', 'sanctions', 'imposed', 'by', 'the', 'U.S.', 'and', 'its', 'allies', 'sent', 'the', 'ruble', 'plunging', 'to', 'record', 'lows', 'early', 'Monday', ',', 'while', 'Russia', '’', 's', 'central', 'bank', 'kept', 'the', 'stock', 'market', 'closed', 'and', 'raised', 'its', 'interest', 'rate', 'to', '20', 'percent', 'from', '9.5', 'percent', 'to', 'shore', 'up', 'the', 'plummeting', 'national', 'currency', 'and', 'prevent', 'a', 'run', 'on', 'banks', '.', 'The', 'U.S.', 'continued', 'to', 'ramp', 'up', 'the', 'pressure', ',', 'announcing', 'it', 'would', 'expand', 'sanctions', 'on', 'the', 'country', '’', 's', 'central', 'bank', ',', 'which', 'will', 'prohibit', 'Americans', 'from', 'doing', 'any', 'business', 'with', 'it', ',', 'and', 'freeze', 'any', 'assets', 'the', 'bank', 'holds', 'in', 'the', 'U.S', '.', 'The', 'U.S.', 'also', 'has', 'begun', 'expelling', '12', 'Russian', 'intelligence', 'operatives', 'from', 'the', 'Russian', 'mission', 'to', 'the', 'United', 'Nations', ',', 'White', 'House', 'press', 'secretary', 'Jen', 'Psaki', 'said', 'Monday', '.', 'Psaki', 'said', 'the', 'move', ',', 'which', 'has', 'been', 'in', 'the', 'works', 'for', 'several', 'months', ',', 'was', 'made', 'because', 'the', 'operatives', 'were', 'engaging', 'in', 'activities', 'she', 'described', 'as', '“', 'adverse', 'to', 'our', 'national', 'security.', '”', 'Switzerland', ',', 'traditionally', 'a', 'neutral', 'party', 'in', 'international', 'affairs', ',', 'announced', 'Monday', 'that', 'it', 'would', 'sanction', 'Russia', ',', 'too', '.', 'Kremlin', 'spokesman', 'Dmitry', 'Peskov', 'admitted', 'that', '“', 'Russia', '’', 's', 'economic', 'reality', 'has', 'changed', '”', 'because', 'of', 'the', '“', 'heavy', '”', 'sanctions', ',', 'but', 'he', 'said', 'the', 'country', 'was', 'prepared', 'and', 'able', 'to', 'handle', 'the', 'damage', '.', 'Putin', 'met', 'with', 'advisers', 'about', 'the', 'economy', 'Monday', ',', 'calling', 'the', 'West', 'an', '“', 'empire', 'of', 'lies', '”', 'in', 'remarks', 'broadcast', 'on', 'state', 'television', '.', 'Russia', 'also', 'closed', 'its', 'airspace', 'to', 'airlines', 'from', 'the', 'E.U', '.', 'and', 'several', 'other', 'countries', 'in', 'retaliation', 'for', 'the', 'bloc', '’', 's', 'ban', 'on', 'all', 'travel', 'by', 'Russian', 'planes', 'over', 'its', 'airspace', '.', 'With', 'that', 'in', 'mind', ',', 'the', 'U.S.', 'urged', 'its', 'citizens', 'to', 'consider', 'leaving', 'Russia', 'immediately', 'given', 'the', 'dwindling', 'number', 'of', 'commercial', 'options', 'available', '.', 'Washington', 'also', 'authorized', 'the', 'voluntary', 'departure', 'of', 'nonemergency', 'employees', 'and', 'family', 'at', 'the', 'embassy', 'in', 'Moscow', 'and', 'announced', 'that', 'it', 'had', 'suspended', 'all', 'operations', 'at', 'the', 'embassy', 'in', 'Minsk', ',', 'Belarus', '.', 'With', 'global', 'pressure', 'growing', ',', 'the', 'U.N.', 'General', 'Assembly', 'held', 'a', 'rare', 'emergency', 'special', 'session', 'Monday', 'with', 'all', '193', 'member', 'states', '.', 'The', 'U.S.', 'ambassador', 'to', 'the', 'U.N.', ',', 'Linda', 'Thomas-Greenfield', ',', 'said', 'she', 'hoped', 'to', 'have', 'the', 'body', 'vote', 'on', 'a', 'resolution', 'to', 'condemn', 'Russia', '’', 's', 'actions', 'as', 'early', 'as', 'Wednesday', '.', 'In', 'the', 'wake', 'of', 'the', 'invasion', ',', 'cultural', 'institutions', 'and', 'sports', 'organizations', 'have', 'moved', 'to', 'isolate', 'Russia', '.', 'FIFA', 'and', 'UEFA', 'announced', 'Monday', 'that', 'Russian', 'clubs', 'and', 'national', 'teams', 'would', 'be', 'suspended', 'from', 'international', 'and', 'European', 'soccer', 'competitions', '.', '“', 'The', 'bulk', 'of', 'Putin', '’', 's', 'ground', 'forces', 'remain', 'more', 'than', '30', 'km', '[', '18', 'miles', ']', 'to', 'the', 'north', 'of', 'Kyiv', ',', '”', 'Britain', '’', 's', 'Defense', 'Ministry', 'said', 'in', 'a', 'tweet', 'Monday', 'morning', '.', '“', 'Logistical', 'failures', 'and', 'staunch', 'Ukrainian', 'resistance', 'continue', 'to', 'frustrate', 'the', 'Russian', 'advance', '.', 'With', 'the', 'operation', 'moving', 'slower', 'than', 'expected', ',', 'Russia', 'was', 'bringing', 'in', 'more', 'troops', ',', 'weapons', 'and', 'equipment', ',', 'NATO', 'Secretary', 'General', 'Jens', 'Stoltenberg', 'said', '.', 'They', 'underestimated', 'the', 'resistance', 'they', 'were', 'going', 'to', 'meet', ',', 'and', 'that', '’', 's', 'why', 'they', '’', 're', 'making', 'less', 'progress', ',', 'Stoltenberg', 'said', 'in', 'an', 'interview', 'Monday', 'morning', 'in', 'Brussels', '.', 'He', 'added', 'that', 'there', 'was', 'a', 'new', 'wave', 'coming', 'in', 'from', 'Russia', 'and', 'from', 'Belarus', 'with', 'heavy', 'armor', 'and', 'artillery', '.', 'In', 'Ukraine', \"'s\", 'southeast', ',', 'officials', 'confirmed', 'that', 'Russian', 'forces', 'had', 'taken', 'control', 'of', 'the', 'city', 'of', 'Berdyansk', 'as', 'they', 'made', 'their', 'way', 'along', 'the', 'coast', 'toward', 'Mariupol', ',', 'a', 'key', 'port', 'city', 'considered', 'a', 'prime', 'Russian', 'target', '.', 'Zelenskyy', 'hailed', 'Ukraine', '’', 's', 'military', 'in', 'a', 'video', 'statement', 'early', 'Monday', ',', 'and', 'said', '4,500', 'Russian', 'troops', 'had', 'been', 'killed', 'in', 'the', 'conflict', '.', 'NBC', 'News', 'has', 'not', 'verified', 'the', 'number', 'of', 'those', 'killed', 'on', 'either', 'side', '.', 'Armed', 'with', 'government-issued', 'machine', 'guns', ',', 'homemade', 'Molotov', 'cocktails', 'and', 'shovels', 'to', 'build', 'barricades', ',', 'civilians', 'have', 'helped', 'to', 'reinforce', 'their', 'army', '’', 's', 'desperate', 'but', 'for', 'now', 'effective', 'resistance', '.', 'They', 'will', 'soon', 'be', 'joined', 'by', 'prisoners', 'with', 'combat', 'experience', 'who', 'will', 'now', 'be', 'released', ',', 'Zelenskyy', 'added', '.', 'Zelenskyy', 'and', 'Western', 'officials', 'have', 'said', 'Putin', 'intends', 'to', 'remove', 'Ukraine', '’', 's', 'pro-Western', 'government', 'and', 'possibly', 'replace', 'it', 'with', 'a', 'Moscow-friendly', 'regime', ',', 'restoring', 'influence', 'as', 'the', 'Kremlin', 'moves', 'to', 'upend', 'the', 'post-Cold', 'War', 'order', 'on', 'the', 'continent', '.', 'The', 'conflict', 'has', 'left', 'Europe', 'facing', 'its', 'gravest', 'security', 'crisis', 'in', 'decades', '.', 'Putin', 'made', 'that', 'even', 'clearer', 'Sunday', 'when', 'he', 'issued', 'a', 'directive', 'to', 'increase', 'the', 'readiness', 'of', 'Russia', '’', 's', 'nuclear', 'deterrent', 'forces', ',', 'citing', '“', 'aggressive', 'statements', '”', 'by', 'NATO', 'and', 'the', 'tough', 'financial', 'sanctions', 'imposed', 'by', 'the', 'U.S.', ',', 'Europe', 'and', 'others', '.', 'Russia', ',', 'like', 'NATO', 'and', 'the', 'U.S.', ',', 'has', 'thousands', 'of', 'nuclear', 'warheads', 'in', 'its', 'arsenal', '.', 'Stoltenberg', ',', 'branded', 'Putin', \"'s\", 'move', 'as', 'reckless', 'and', 'dangerous', '.', 'There', '’', 's', 'no', 'reason', 'for', 'that', '.', 'NATO', 'is', 'no', 'threat', 'to', 'Russia', ',', 'he', 'said', '.', 'Although', 'NATO', 'moved', 'to', 'increase', 'its', 'presence', 'in', 'Eastern', 'Europe', 'in', 'the', 'wake', 'of', 'the', 'Ukraine', 'invasion', ',', 'Stoltenberg', 'repeated', 'that', 'the', 'military', 'alliance', 'had', 'no', 'intention', 'of', 'becoming', 'involved', 'in', 'the', 'conflict', 'itself', '.', '“', 'We', 'have', 'a', 'responsibility', 'to', 'make', 'sure', 'that', 'this', 'doesn', '’', 't', 'spiral', 'out', 'of', 'control', ',', '”', 'he', 'said', '.', '“', 'That', 'will', 'be', 'extremely', 'dangerous.', '”', 'Rachel', 'Elbaum', 'is', 'a', 'London-based', 'editor', ',', 'producer', 'and', 'writer', '.', 'Josh', 'Lederman', 'is', 'an', 'NBC', 'News', 'correspondent', '.', 'Daniel', 'Arkin', 'is', 'a', 'reporter', 'for', 'NBC', 'News', 'who', 'focuses', 'on', 'popular', 'culture', 'and', 'the', 'entertainment', 'industry', ',', 'particularly', 'film', 'and', 'television', '.', '©', '2022', 'NBC', 'UNIVERSAL']\n"
     ]
    }
   ],
   "source": [
    "\n",
    "text3 = 'Service Science is truly an interdisciplinary field. With the foundation of systems theory, operations research, management science, marketing science, advanced computing and communication technology, network theory, social computing, and analytics, Service Science can be rigorously developed, involving descriptive, predictive, and prescriptive research of a service spanning its lifecycle'\n",
    "text3 = news_text1\n",
    "\n",
    "news_text1_token= nltk.word_tokenize(news_text1)\n",
    "print(news_text1_token)"
   ]
  },
  {
   "cell_type": "code",
   "execution_count": 19,
   "metadata": {
    "colab": {
     "base_uri": "https://localhost:8080/"
    },
    "id": "kcDJDIV8o5H7",
    "outputId": "1e577e17-88df-449f-cf5f-ec7ce7641499"
   },
   "outputs": [
    {
     "name": "stdout",
     "output_type": "stream",
     "text": [
      "[('Service', 'Science'), ('Science', 'is'), ('is', 'truly'), ('truly', 'an'), ('an', 'interdisciplinary'), ('interdisciplinary', 'field'), ('field', '.'), ('.', 'With'), ('With', 'the'), ('the', 'foundation'), ('foundation', 'of'), ('of', 'systems'), ('systems', 'theory'), ('theory', ','), (',', 'operations'), ('operations', 'research'), ('research', ','), (',', 'management'), ('management', 'science'), ('science', ','), (',', 'marketing'), ('marketing', 'science'), ('science', ','), (',', 'advanced'), ('advanced', 'computing'), ('computing', 'and'), ('and', 'communication'), ('communication', 'technology'), ('technology', ','), (',', 'network'), ('network', 'theory'), ('theory', ','), (',', 'social'), ('social', 'computing'), ('computing', ','), (',', 'and'), ('and', 'analytics'), ('analytics', ','), (',', 'Service'), ('Service', 'Science'), ('Science', 'can'), ('can', 'be'), ('be', 'rigorously'), ('rigorously', 'developed'), ('developed', ','), (',', 'involving'), ('involving', 'descriptive'), ('descriptive', ','), (',', 'predictive'), ('predictive', ','), (',', 'and'), ('and', 'prescriptive'), ('prescriptive', 'research'), ('research', 'of'), ('of', 'a'), ('a', 'service'), ('service', 'spanning'), ('spanning', 'its'), ('its', 'lifecycle')]\n"
     ]
    }
   ],
   "source": [
    "from nltk import ngrams\n",
    "n = 2\n",
    "ngrams = ngrams(text3_token, n)\n",
    "bigrams_list =[gram for gram in ngrams]\n",
    "print(bigrams_list)"
   ]
  },
  {
   "cell_type": "code",
   "execution_count": 20,
   "metadata": {
    "colab": {
     "base_uri": "https://localhost:8080/"
    },
    "id": "w1WH6Lzjtsbf",
    "outputId": "75c264f9-6e78-46fc-e76e-10e363943627"
   },
   "outputs": [
    {
     "name": "stdout",
     "output_type": "stream",
     "text": [
      "('Service', 'Science') 2\n",
      "('Science', 'is') 1\n",
      "('is', 'truly') 1\n",
      "('truly', 'an') 1\n",
      "('an', 'interdisciplinary') 1\n",
      "('interdisciplinary', 'field') 1\n",
      "('field', '.') 1\n",
      "('.', 'With') 1\n",
      "('With', 'the') 1\n",
      "('the', 'foundation') 1\n",
      "('foundation', 'of') 1\n",
      "('of', 'systems') 1\n",
      "('systems', 'theory') 1\n",
      "('theory', ',') 2\n",
      "(',', 'operations') 1\n",
      "('operations', 'research') 1\n",
      "('research', ',') 1\n",
      "(',', 'management') 1\n",
      "('management', 'science') 1\n",
      "('science', ',') 2\n",
      "(',', 'marketing') 1\n",
      "('marketing', 'science') 1\n",
      "(',', 'advanced') 1\n",
      "('advanced', 'computing') 1\n",
      "('computing', 'and') 1\n",
      "('and', 'communication') 1\n",
      "('communication', 'technology') 1\n",
      "('technology', ',') 1\n",
      "(',', 'network') 1\n",
      "('network', 'theory') 1\n",
      "(',', 'social') 1\n",
      "('social', 'computing') 1\n",
      "('computing', ',') 1\n",
      "(',', 'and') 2\n",
      "('and', 'analytics') 1\n",
      "('analytics', ',') 1\n",
      "(',', 'Service') 1\n",
      "('Science', 'can') 1\n",
      "('can', 'be') 1\n",
      "('be', 'rigorously') 1\n",
      "('rigorously', 'developed') 1\n",
      "('developed', ',') 1\n",
      "(',', 'involving') 1\n",
      "('involving', 'descriptive') 1\n",
      "('descriptive', ',') 1\n",
      "(',', 'predictive') 1\n",
      "('predictive', ',') 1\n",
      "('and', 'prescriptive') 1\n",
      "('prescriptive', 'research') 1\n",
      "('research', 'of') 1\n",
      "('of', 'a') 1\n",
      "('a', 'service') 1\n",
      "('service', 'spanning') 1\n",
      "('spanning', 'its') 1\n",
      "('its', 'lifecycle') 1\n"
     ]
    }
   ],
   "source": [
    "#compute frequency distribution for all the ngrams in the text\n",
    "fdist = nltk.FreqDist(bigrams_list)\n",
    "for term,value in fdist.items():\n",
    "    print(term,value)"
   ]
  },
  {
   "cell_type": "markdown",
   "metadata": {
    "id": "efdbM4O2hYMZ"
   },
   "source": [
    "## 4.Tokenization of Sentences"
   ]
  },
  {
   "cell_type": "code",
   "execution_count": null,
   "metadata": {
    "colab": {
     "base_uri": "https://localhost:8080/"
    },
    "id": "Zg6cJBQphact",
    "outputId": "975670c1-5daf-442c-8aea-aa77c99708ca"
   },
   "outputs": [
    {
     "data": {
      "text/plain": [
       "['National Tsing Hua University was established in Beijing in 1911 as “Tsing Hua Academy”.',\n",
       " 'In 1956, National Tsing Hua University was re-established at its present location in Hsinchu, Taiwan.',\n",
       " 'Since its relocation, NTHU has developed into a comprehensive research university offering a full range of degree programs in science, technology, engineering, humanities, social sciences, and management.']"
      ]
     },
     "execution_count": 99,
     "metadata": {},
     "output_type": "execute_result"
    }
   ],
   "source": [
    "from nltk import sent_tokenize\n",
    "sent_tokenize(text2)\n",
    "\n",
    "#sent_tokenize(text1)"
   ]
  },
  {
   "cell_type": "markdown",
   "metadata": {
    "id": "2I7Lrwm20pSz"
   },
   "source": [
    "# Exercise Tokenization and question\n",
    "1. Remove the \"#\" mark within the line that has \"news_text1\" in all previous cells.\n",
    "2. Re-run the code again\n",
    "3. Tokenize the text"
   ]
  },
  {
   "cell_type": "markdown",
   "metadata": {
    "id": "H0k6OrzkywFP"
   },
   "source": [
    "# 5.Stemming vs Lemmatization"
   ]
  },
  {
   "cell_type": "markdown",
   "metadata": {
    "id": "thw5WD5CzInh"
   },
   "source": [
    "## 5.1 Stemming"
   ]
  },
  {
   "cell_type": "code",
   "execution_count": null,
   "metadata": {
    "colab": {
     "base_uri": "https://localhost:8080/"
    },
    "id": "LJtHfttZUpYE",
    "outputId": "9c179042-46ec-44c1-92ac-9119648a0e73"
   },
   "outputs": [
    {
     "name": "stdout",
     "output_type": "stream",
     "text": [
      "jump jump jump\n",
      "lie lie\n",
      "strang\n"
     ]
    }
   ],
   "source": [
    "#The Porter stemming algorithm\n",
    "from nltk import PorterStemmer\n",
    "ps = PorterStemmer()\n",
    "print (ps.stem('jumping'), ps.stem('jumps'), ps.stem('jumped'))\n",
    "print (ps.stem('lying'), ps.stem('lies'))\n",
    "print(ps.stem('strange'))"
   ]
  },
  {
   "cell_type": "code",
   "execution_count": null,
   "metadata": {
    "colab": {
     "base_uri": "https://localhost:8080/"
    },
    "id": "_87hJjaeVhRL",
    "outputId": "be82c169-dd59-4500-cf9c-d9ad5d0d12f4"
   },
   "outputs": [
    {
     "name": "stdout",
     "output_type": "stream",
     "text": [
      "jump jump jump\n",
      "lying lie\n",
      "strange\n"
     ]
    }
   ],
   "source": [
    "#The Lancaster stemming algorithm\n",
    "from nltk import LancasterStemmer\n",
    "ls = LancasterStemmer()\n",
    "print (ls.stem('jumping'), ls.stem('jumps'), ls.stem('jumped'))\n",
    "print (ls.stem('lying'),ls.stem('lies'))\n",
    "print(ls.stem('strange'))"
   ]
  },
  {
   "cell_type": "code",
   "execution_count": null,
   "metadata": {
    "colab": {
     "base_uri": "https://localhost:8080/"
    },
    "id": "qppglj_1rcjV",
    "outputId": "a6930fc9-3d94-4e33-f0a5-e44b7c6b643b"
   },
   "outputs": [
    {
     "name": "stdout",
     "output_type": "stream",
     "text": [
      "['nation', 'tsing', 'hua', 'univers', 'wa', 'establish', 'in', 'beij', 'in', '1911', 'as', '“', 'tsing', 'hua', 'academi', '”', '.', 'In', '1956', ',', 'nation', 'tsing', 'hua', 'univers', 'wa', 're-establish', 'at', 'it', 'present', 'locat', 'in', 'hsinchu', ',', 'taiwan', '.', 'sinc', 'it', 'reloc', ',', 'nthu', 'ha', 'develop', 'into', 'a', 'comprehens', 'research', 'univers', 'offer', 'a', 'full', 'rang', 'of', 'degre', 'program', 'in', 'scienc', ',', 'technolog', ',', 'engin', ',', 'human', ',', 'social', 'scienc', ',', 'and', 'manag', '.']\n"
     ]
    }
   ],
   "source": [
    "#stemming an tokenize word list\n",
    "token_psstem = [ps.stem(word) for word in text2_tokens]\n",
    "#token_psstem = [ps.stem(word) for word in text1_tokens]\n",
    "\n",
    "print(token_psstem)"
   ]
  },
  {
   "cell_type": "code",
   "execution_count": null,
   "metadata": {
    "colab": {
     "base_uri": "https://localhost:8080/"
    },
    "id": "clwVV48klfa5",
    "outputId": "799719a3-e4c5-43e8-94cb-3b939746d9c3"
   },
   "outputs": [
    {
     "name": "stdout",
     "output_type": "stream",
     "text": [
      "['nat', 'tsing', 'hua', 'univers', 'was', 'est', 'in', 'beid', 'in', '1911', 'as', '“', 'tsing', 'hua', 'academy', '”', '.', 'in', '1956', ',', 'nat', 'tsing', 'hua', 'univers', 'was', 're-established', 'at', 'it', 'pres', 'loc', 'in', 'hsinchu', ',', 'taiw', '.', 'sint', 'it', 'reloc', ',', 'nthu', 'has', 'develop', 'into', 'a', 'comprehend', 'research', 'univers', 'off', 'a', 'ful', 'rang', 'of', 'degr', 'program', 'in', 'sci', ',', 'technolog', ',', 'engin', ',', 'hum', ',', 'soc', 'sci', ',', 'and', 'man', '.']\n"
     ]
    }
   ],
   "source": [
    "#stemming an tokenize word list\n",
    "token_lsstem = [ls.stem(word) for word in text2_tokens]\n",
    "#token_lsstem = [ls.stem(word) for word in text1_tokens]\n",
    "\n",
    "print(token_lsstem)"
   ]
  },
  {
   "cell_type": "markdown",
   "metadata": {
    "id": "h9vu2fVYm9xo"
   },
   "source": [
    "## 5.2.Lemmatization"
   ]
  },
  {
   "cell_type": "code",
   "execution_count": null,
   "metadata": {
    "colab": {
     "base_uri": "https://localhost:8080/"
    },
    "id": "iVcw5b5Sm7Lr",
    "outputId": "6163cd4e-4fee-41e8-d5c1-d15381c66a66"
   },
   "outputs": [
    {
     "name": "stdout",
     "output_type": "stream",
     "text": [
      "[nltk_data] Downloading package wordnet to /root/nltk_data...\n",
      "[nltk_data]   Package wordnet is already up-to-date!\n",
      "lie\n",
      "lying\n",
      "lying\n",
      "sad\n",
      "wa\n",
      "be\n"
     ]
    }
   ],
   "source": [
    "nltk.download('wordnet')\n",
    "from nltk.stem import WordNetLemmatizer\n",
    "wnl = WordNetLemmatizer()\n",
    "# lemmatize verb/nouns\n",
    "print (wnl.lemmatize('lying', \"v\"))\n",
    "print (wnl.lemmatize('lying', \"n\"))\n",
    "print (wnl.lemmatize('lying')) # with out Part of Speed (POS), noun is default\n",
    "print (wnl.lemmatize('saddest', 'a'))\n",
    "print (wnl.lemmatize('was'))\n",
    "print (wnl.lemmatize('was', 'v'))"
   ]
  },
  {
   "cell_type": "code",
   "execution_count": null,
   "metadata": {
    "colab": {
     "base_uri": "https://localhost:8080/"
    },
    "id": "bQzqR3j4msEh",
    "outputId": "ef8e1416-d469-4d46-9ae0-3854b81ea370"
   },
   "outputs": [
    {
     "name": "stdout",
     "output_type": "stream",
     "text": [
      "['National', 'Tsing', 'Hua', 'University', 'wa', 'established', 'in', 'Beijing', 'in', '1911', 'a', '“', 'Tsing', 'Hua', 'Academy', '”', '.', 'In', '1956', ',', 'National', 'Tsing', 'Hua', 'University', 'wa', 're-established', 'at', 'it', 'present', 'location', 'in', 'Hsinchu', ',', 'Taiwan', '.', 'Since', 'it', 'relocation', ',', 'NTHU', 'ha', 'developed', 'into', 'a', 'comprehensive', 'research', 'university', 'offering', 'a', 'full', 'range', 'of', 'degree', 'program', 'in', 'science', ',', 'technology', ',', 'engineering', ',', 'humanity', ',', 'social', 'science', ',', 'and', 'management', '.']\n"
     ]
    }
   ],
   "source": [
    "#stemming an tokenize word list\n",
    "token_lem = [wnl.lemmatize(word) for word in text2_tokens]\n",
    "\n",
    "#token_lem = [wnl.lemmatize(word) for word in text1_tokens]\n",
    "\n",
    "print(token_lem)"
   ]
  },
  {
   "cell_type": "code",
   "execution_count": null,
   "metadata": {
    "colab": {
     "base_uri": "https://localhost:8080/"
    },
    "id": "e5JRz5SJnqeV",
    "outputId": "a627cc20-de57-42c6-ea52-9f08e75ead9e"
   },
   "outputs": [
    {
     "name": "stdout",
     "output_type": "stream",
     "text": [
      "['National', 'Tsing', 'Hua', 'University', 'be', 'establish', 'in', 'Beijing', 'in', '1911', 'as', '\"', 'Tsing', 'Hua', 'Academy', '\"', '.', 'in', '1956', ',', 'National', 'Tsing', 'Hua', 'University', 'be', 're', '-', 'establish', 'at', '-PRON-', 'present', 'location', 'in', 'Hsinchu', ',', 'Taiwan', '.', 'since', '-PRON-', 'relocation', ',', 'NTHU', 'have', 'develop', 'into', 'a', 'comprehensive', 'research', 'university', 'offer', 'a', 'full', 'range', 'of', 'degree', 'program', 'in', 'science', ',', 'technology', ',', 'engineering', ',', 'humanity', ',', 'social', 'science', ',', 'and', 'management', '.']\n"
     ]
    }
   ],
   "source": [
    "# spacy is another python package to for Lemmatization\n",
    "import spacy\n",
    "nlp = spacy.load('en')\n",
    "doc = nlp(text2)\n",
    "#doc = nlp(text1)\n",
    "\n",
    "print([token.lemma_ for token in doc])"
   ]
  },
  {
   "cell_type": "markdown",
   "metadata": {
    "id": "rumDew-zLk-L"
   },
   "source": [
    "# 6.Text Normalization"
   ]
  },
  {
   "cell_type": "code",
   "execution_count": null,
   "metadata": {
    "colab": {
     "base_uri": "https://localhost:8080/"
    },
    "id": "ZS9af_J4z9r4",
    "outputId": "ed8e0de1-b79c-41b5-a8d5-e1dca8c8beb4"
   },
   "outputs": [
    {
     "name": "stdout",
     "output_type": "stream",
     "text": [
      "I go to the woods because I wished to live deliberately, to front only the essential facts of life...\n"
     ]
    }
   ],
   "source": [
    "import re\n",
    "sentence=\"I went to the woods because I wished to live deliberately, to front only the essential facts of life...\"\n",
    "text_replace= re.sub(r'went','go',sentence)\n",
    "print(text_replace)"
   ]
  },
  {
   "cell_type": "code",
   "execution_count": null,
   "metadata": {
    "colab": {
     "base_uri": "https://localhost:8080/"
    },
    "id": "dSDBrY89Vjh7",
    "outputId": "aa4b2fe0-3e28-4fca-f8ad-29da3e9370e5"
   },
   "outputs": [
    {
     "name": "stdout",
     "output_type": "stream",
     "text": [
      "I went to the woods because I wished to live deliberately  to front only the essential facts of life   \n"
     ]
    }
   ],
   "source": [
    "import re\n",
    "sentence=\"I went to the woods because I wished to live deliberately, to front only the essential facts of life...\"\n",
    "text_removed_pun=re.sub(r'[^\\w]',' ',sentence) \n",
    "print(text_removed_pun)"
   ]
  },
  {
   "cell_type": "code",
   "execution_count": null,
   "metadata": {
    "id": "RwPoadlxLgn6"
   },
   "outputs": [],
   "source": [
    "sentence=\"I went to the woods because I wished to live deliberately, to front only the essential facts of life...\""
   ]
  },
  {
   "cell_type": "code",
   "execution_count": null,
   "metadata": {
    "colab": {
     "base_uri": "https://localhost:8080/",
     "height": 35
    },
    "id": "vTnJ7BeGQbMe",
    "outputId": "f53580a9-e2b5-4e7a-e773-5c3be9dac097"
   },
   "outputs": [
    {
     "data": {
      "application/vnd.google.colaboratory.intrinsic+json": {
       "type": "string"
      },
      "text/plain": [
       "'i went to the woods because i wished to live deliberately, to front only the essential facts of life...'"
      ]
     },
     "execution_count": 110,
     "metadata": {},
     "output_type": "execute_result"
    }
   ],
   "source": [
    "sentence.lower()"
   ]
  },
  {
   "cell_type": "code",
   "execution_count": null,
   "metadata": {
    "colab": {
     "base_uri": "https://localhost:8080/",
     "height": 35
    },
    "id": "dw9ihPfIQ-xB",
    "outputId": "e3126398-71cf-483c-e573-404b9a82d5c2"
   },
   "outputs": [
    {
     "data": {
      "application/vnd.google.colaboratory.intrinsic+json": {
       "type": "string"
      },
      "text/plain": [
       "'I WENT TO THE WOODS BECAUSE I WISHED TO LIVE DELIBERATELY, TO FRONT ONLY THE ESSENTIAL FACTS OF LIFE...'"
      ]
     },
     "execution_count": 111,
     "metadata": {},
     "output_type": "execute_result"
    }
   ],
   "source": [
    "sentence.upper()"
   ]
  },
  {
   "cell_type": "code",
   "execution_count": null,
   "metadata": {
    "colab": {
     "base_uri": "https://localhost:8080/",
     "height": 35
    },
    "id": "kHUHymO_RAGx",
    "outputId": "22db636d-e68c-4fca-c6de-b91a6d75730f"
   },
   "outputs": [
    {
     "data": {
      "application/vnd.google.colaboratory.intrinsic+json": {
       "type": "string"
      },
      "text/plain": [
       "'I went to the woods because i wished to live deliberately, to front only the essential facts of life...'"
      ]
     },
     "execution_count": 112,
     "metadata": {},
     "output_type": "execute_result"
    }
   ],
   "source": [
    "sentence.capitalize()"
   ]
  },
  {
   "cell_type": "code",
   "execution_count": null,
   "metadata": {
    "colab": {
     "base_uri": "https://localhost:8080/",
     "height": 35
    },
    "id": "hLgK1klHQtTs",
    "outputId": "ae4eca57-5c87-40e2-971e-587ef2ff226e"
   },
   "outputs": [
    {
     "data": {
      "application/vnd.google.colaboratory.intrinsic+json": {
       "type": "string"
      },
      "text/plain": [
       "'I'"
      ]
     },
     "execution_count": 113,
     "metadata": {},
     "output_type": "execute_result"
    }
   ],
   "source": [
    "sentence[0]"
   ]
  },
  {
   "cell_type": "code",
   "execution_count": null,
   "metadata": {
    "colab": {
     "base_uri": "https://localhost:8080/",
     "height": 35
    },
    "id": "TEFmsFYtRVh_",
    "outputId": "2ce26fdd-456c-43aa-ba98-872ba661352c"
   },
   "outputs": [
    {
     "data": {
      "application/vnd.google.colaboratory.intrinsic+json": {
       "type": "string"
      },
      "text/plain": [
       "'.'"
      ]
     },
     "execution_count": 114,
     "metadata": {},
     "output_type": "execute_result"
    }
   ],
   "source": [
    "sentence[-1]"
   ]
  },
  {
   "cell_type": "code",
   "execution_count": null,
   "metadata": {
    "colab": {
     "base_uri": "https://localhost:8080/",
     "height": 35
    },
    "id": "mLacA_jIRbeL",
    "outputId": "57167e33-f420-41f2-bf3e-31868d464c55"
   },
   "outputs": [
    {
     "data": {
      "application/vnd.google.colaboratory.intrinsic+json": {
       "type": "string"
      },
      "text/plain": [
       "' went to '"
      ]
     },
     "execution_count": 115,
     "metadata": {},
     "output_type": "execute_result"
    }
   ],
   "source": [
    "sentence[1:10]"
   ]
  },
  {
   "cell_type": "code",
   "execution_count": null,
   "metadata": {
    "colab": {
     "base_uri": "https://localhost:8080/"
    },
    "id": "AmJOSLOGQW2q",
    "outputId": "5cb20a3b-2942-42fc-a02e-2f5c593c2481"
   },
   "outputs": [
    {
     "data": {
      "text/plain": [
       "True"
      ]
     },
     "execution_count": 116,
     "metadata": {},
     "output_type": "execute_result"
    }
   ],
   "source": [
    "\"A\".isupper()"
   ]
  },
  {
   "cell_type": "code",
   "execution_count": null,
   "metadata": {
    "colab": {
     "base_uri": "https://localhost:8080/"
    },
    "id": "iQBozm3oQbM7",
    "outputId": "0f3f0721-1505-424e-b4e8-716dd031f063"
   },
   "outputs": [
    {
     "data": {
      "text/plain": [
       "True"
      ]
     },
     "execution_count": 117,
     "metadata": {},
     "output_type": "execute_result"
    }
   ],
   "source": [
    "'woods'.isalpha()"
   ]
  },
  {
   "cell_type": "code",
   "execution_count": null,
   "metadata": {
    "colab": {
     "base_uri": "https://localhost:8080/"
    },
    "id": "Lt-uH9kWQbM_",
    "outputId": "f2d15187-7d91-4f83-949b-7a78a5732cd9"
   },
   "outputs": [
    {
     "data": {
      "text/plain": [
       "True"
      ]
     },
     "execution_count": 118,
     "metadata": {},
     "output_type": "execute_result"
    }
   ],
   "source": [
    "'20'.isdigit()"
   ]
  },
  {
   "cell_type": "code",
   "execution_count": null,
   "metadata": {
    "colab": {
     "base_uri": "https://localhost:8080/"
    },
    "id": "0o-NF5a6QbNH",
    "outputId": "f18394e6-6283-444c-93a7-555f2a94712d"
   },
   "outputs": [
    {
     "data": {
      "text/plain": [
       "True"
      ]
     },
     "execution_count": 119,
     "metadata": {},
     "output_type": "execute_result"
    }
   ],
   "source": [
    "'20'.isdecimal()"
   ]
  },
  {
   "cell_type": "code",
   "execution_count": null,
   "metadata": {
    "colab": {
     "base_uri": "https://localhost:8080/"
    },
    "id": "BdsLmBN3QbNK",
    "outputId": "518274a7-fa3f-48f2-a65d-beab137abbad"
   },
   "outputs": [
    {
     "data": {
      "text/plain": [
       "True"
      ]
     },
     "execution_count": 120,
     "metadata": {},
     "output_type": "execute_result"
    }
   ],
   "source": [
    "'12ab'.isalnum() "
   ]
  },
  {
   "cell_type": "markdown",
   "metadata": {
    "id": "Jt51YTnvuj6z"
   },
   "source": [
    "# 7.Remove stopwords"
   ]
  },
  {
   "cell_type": "code",
   "execution_count": null,
   "metadata": {
    "colab": {
     "base_uri": "https://localhost:8080/"
    },
    "id": "xBCqJ069oCi6",
    "outputId": "f713e6a3-6a27-4bca-b655-d9ceedf6db86"
   },
   "outputs": [
    {
     "name": "stdout",
     "output_type": "stream",
     "text": [
      "[nltk_data] Downloading package stopwords to /root/nltk_data...\n",
      "[nltk_data]   Package stopwords is already up-to-date!\n",
      "{'why', 'd', \"you're\", 'had', 'it', \"she's\", 'there', 'won', 'we', 'very', 'll', 'ma', 'shan', \"don't\", 'before', 'having', 'themselves', \"that'll\", 'were', 'at', 'so', 'no', 'both', 'wasn', 'does', 'our', 'for', 'hasn', \"isn't\", 'over', 'are', 'but', 'ain', 'ours', 'as', \"aren't\", 'yourselves', 'be', 'itself', 'himself', 'through', 'until', 'each', 'weren', 'other', 'their', 'doesn', 'into', 'about', 'too', 'those', 'hers', 'further', 'same', 's', 'below', 'when', 'such', 'which', \"didn't\", 'the', 'if', 'against', 'on', 'aren', 'them', 'after', 'should', \"mightn't\", \"couldn't\", \"weren't\", 'what', 'its', 'above', 'all', 'hadn', 'ourselves', 'y', 'him', 'or', 'isn', 'your', 'they', 'yourself', 'mustn', 'she', 'an', 'these', 'you', 'not', 'while', 'o', 'with', 'did', 'off', \"hasn't\", \"you'll\", 'between', 'now', \"hadn't\", 'a', 'have', 'his', 'some', 'couldn', 'her', 'didn', 'i', 'this', 'm', \"wouldn't\", \"you've\", 'here', 'then', 'and', \"you'd\", 'any', 'theirs', \"wasn't\", 'been', 'most', \"needn't\", 'am', 'from', \"haven't\", \"doesn't\", 'me', 'he', 'that', 'shouldn', 'can', 'needn', 'more', 'own', \"shouldn't\", 'yours', 'whom', 'to', 'under', \"shan't\", 'myself', 'only', 've', 'because', 'in', 'of', 'being', 'out', 'nor', 'mightn', 'by', 'once', 'where', 'will', \"won't\", 'was', 'my', 't', 'is', 'has', 'who', 'down', 'don', \"should've\", 'doing', 'do', 'haven', 'again', 'than', 're', 'up', \"it's\", \"mustn't\", 'herself', 'how', 'few', 'just', 'wouldn', 'during'}\n"
     ]
    }
   ],
   "source": [
    "#what is the stopwords?\n",
    "nltk.download('stopwords')\n",
    "from nltk.corpus import stopwords\n",
    "stopwords = set(stopwords.words('english'))\n",
    "print(stopwords)"
   ]
  },
  {
   "cell_type": "code",
   "execution_count": null,
   "metadata": {
    "colab": {
     "base_uri": "https://localhost:8080/"
    },
    "id": "H3z7n-GZqYxY",
    "outputId": "967d2353-fbe4-497b-cb91-72e2b0482c9d"
   },
   "outputs": [
    {
     "name": "stdout",
     "output_type": "stream",
     "text": [
      "['Fighting', 'raged', 'around', 'key', 'cities', 'in', 'Ukraine', 'on', 'Monday', 'as', 'the', 'country', \"'s\", 'first', 'talks', 'with', 'Russia', 'since', 'last', 'week', '’', 's', 'invasion', 'concluded', 'with', 'no', 'immediate', 'breakthrough', '.', 'Even', 'as', 'Moscow', 'said', 'officials', 'negotiating', 'at', 'the', 'border', 'had', 'heard', 'each', 'other', ',', 'Ukraine', 'said', 'its', 'second-largest', 'city', 'was', 'coming', 'under', 'attack', 'from', 'heavy', 'Russian', 'shelling', '.', 'Meanwhile', ',', 'Russian', 'President', 'Vladimir', 'Putin', 'faced', 'the', 'growing', 'fallout', 'from', 'an', 'assault', 'on', 'his', 'democratic', 'neighbor', 'that', 'has', 'rallied', 'the', 'West', 'behind', 'Kyiv', 'and', 'against', 'the', 'Kremlin', ',', 'marginalizing', 'Moscow', 'on', 'the', 'international', 'stage', '.', 'Latest', 'updates', 'on', 'Ukraine', ':', 'Ukraine', '’', 's', 'position', 'has', 'been', 'bolstered', 'by', 'its', 'staunch', 'early', 'resistance', ',', 'military', 'assistance', 'from', 'countries', 'around', 'the', 'world', 'and', 'a', 'growing', 'sanctions', 'effort', 'that', 'has', 'sent', 'Moscow', '’', 's', 'economy', 'reeling', '.', 'The', 'conflict', 'is', 'also', 'being', 'fought', 'in', 'the', 'shadow', 'of', 'nuclear', 'threats', ';', 'the', 'Russian', 'military', 'said', 'Monday', 'that', 'its', 'nuclear', 'deterrent', 'forces', 'had', 'been', 'put', 'on', 'high', 'alert', 'after', 'Putin', '’', 's', 'order', '.', 'While', 'growing', 'numbers', 'of', 'people', 'have', 'fled', 'the', 'Russian', 'advance', ',', 'those', 'who', 'stayed', 'were', 'enduring', 'an', 'air', 'assault', 'that', 'Kyiv', 'and', 'international', 'watchdogs', 'said', 'was', 'increasingly', 'hitting', 'civilians', '.', 'Russian', 'forces', 'were', 'accused', 'of', 'carrying', 'out', 'massive', 'shelling', 'in', 'Ukraine', '’', 's', 'second-largest', 'city', ',', 'Kharkiv', '.', 'Graphic', 'video', 'shared', 'on', 'social', 'media', 'Monday', 'appeared', 'to', 'show', 'the', 'assault', 'and', 'its', 'aftermath', '.', 'In', 'one', 'video', ',', 'bodies', 'can', 'be', 'seen', 'on', 'the', 'ground', 'in', 'pools', 'of', 'blood', '.', 'Ukrainian', 'interior', 'ministry', 'adviser', 'Anton', 'Gerashchenko', 'shared', 'video', 'appearing', 'to', 'show', 'flashes', 'in', 'the', 'sky', 'as', 'smoke', 'filled', 'the', 'air', 'and', 'said', 'dozens', 'of', 'people', 'had', 'been', 'killed', 'and', 'hundreds', 'more', 'had', 'been', 'wounded', '.', 'This', 'horror', 'must', 'be', 'seen', 'by', 'the', 'whole', 'world', ',', 'he', 'said', '.', 'NBC', 'News', 'has', 'verified', 'that', 'the', 'video', 'is', 'authentic', ',', 'but', 'it', 'has', 'not', 'confirmed', 'reports', 'of', 'any', 'casualties', 'from', 'the', 'incident', '.', 'Russia', 'has', 'repeatedly', 'denied', 'targeting', 'civilians', '.', 'Speaking', 'to', 'reporters', 'Monday', ',', 'Ukraine', \"'s\", 'ambassador', 'to', 'the', 'United', 'States', ',', 'Oksana', 'Markarova', ',', 'claimed', 'the', 'Russian', 'military', 'also', 'used', 'a', '“', 'vacuum', 'bomb.', '”', 'The', 'highly', 'explosive', 'weapon', 'uses', 'air', 'to', 'trigger', 'a', 'blast', 'that', 'is', '“', 'particularly', 'devastating', 'in', 'confined', 'environments', ',', 'such', 'as', 'urban', 'areas', ',', '”', 'N.R', '.', 'Jenzen-Jones', ',', 'director', 'of', 'Armament', 'Research', 'Services', ',', 'told', 'NBC', 'News', 'in', 'an', 'interview', '.', 'Markarova', 'did', \"n't\", 'say', 'where', 'or', 'when', 'the', 'weapon', ',', 'also', 'known', 'as', 'a', 'thermobaric', 'munition', 'or', 'fuel-air', 'explosive', ',', 'was', 'used', ',', 'nor', 'did', 'she', 'provide', 'evidence', 'to', 'support', 'the', 'claim', '.', 'NBC', 'News', 'has', 'reached', 'out', 'to', 'Russia', '’', 's', 'Defense', 'Ministry', 'and', 'the', 'Pentagon', 'for', 'comment', '.', 'If', 'the', 'weapon', 'was', 'used', 'in', 'a', 'city', ',', 'it', 'could', 'constitute', 'a', 'war', 'crime', 'because', 'of', 'the', 'indiscriminate', 'effect', 'on', 'civilians', ',', 'said', 'Matthew', 'Evangelista', ',', 'a', 'professor', 'of', 'history', 'and', 'political', 'science', 'at', 'Cornell', 'University', 'and', 'author', 'of', '“', 'The', 'Law', ',', 'Ethics', 'and', 'the', 'War', 'on', 'Terror.', '”', 'The', 'International', 'Criminal', 'Court', 'will', 'open', 'an', 'investigation', 'into', 'possible', 'war', 'crimes', 'or', 'crimes', 'against', 'humanity', 'in', 'Ukraine', ',', 'prosecutor', 'Karim', 'Khan', 'said', 'in', 'a', 'statement', 'Monday', '.', 'There', 'is', 'a', '“', 'reasonable', 'basis', '”', 'to', 'believe', 'Russia', 'has', 'committed', 'both', ',', 'Khan', 'said', '.', 'U.N.', 'human', 'rights', 'chief', 'Michelle', 'Bachelet', 'said', 'Monday', 'that', '102', 'civilians', ',', 'seven', 'of', 'them', 'children', ',', 'have', 'been', 'killed', 'across', 'Ukraine', 'since', 'Thursday', '.', 'But', 'the', 'figures', 'probably', 'undercounted', 'the', 'full', 'extent', 'of', 'the', 'national', 'death', 'toll', ',', 'she', 'said', '.', 'The', 'head', 'of', 'the', 'U.N.', 'refugee', 'agency', ',', 'meanwhile', ',', 'said', 'more', 'than', 'a', 'half', 'a', 'million', 'people', 'had', 'fled', 'the', 'country', 'of', '44', 'million', '.', 'Others', 'have', 'sought', 'shelter', 'inside', 'metro', 'stations', 'and', 'parking', 'garages', 'while', 'missile', 'strikes', 'and', 'gunfire', 'hit', 'cities', '.', 'As', 'Russian', 'troops', 'bore', 'down', 'on', 'the', 'capital', ',', 'a', 'strict', '39-hour', 'curfew', 'that', 'kept', 'people', 'off', 'Kyiv', \"'s\", 'streets', 'all', 'weekend', 'ended', 'early', 'Monday', '.', 'Residents', 'stepped', 'out', 'Monday', 'to', 'replenish', 'supplies', 'and', 'waited', 'in', 'line', 'at', 'supermarkets', 'between', 'the', 'wail', 'of', 'air', 'raid', 'sirens', '.', '“', 'We', 'are', 'calm', 'and', 'do', 'have', 'a', 'lot', 'of', 'resolve', ',', '”', 'Vadym', 'Khortiuk', ',', '28', ',', 'said', ',', 'adding', 'that', 'his', 'hopes', 'had', 'been', 'boosted', 'by', 'the', 'fact', 'that', 'we', 'have', 'a', 'lot', 'of', 'support', 'from', 'our', 'friends', 'from', 'the', 'West', '.', 'The', 'support', 'has', 'taken', 'the', 'form', 'not', 'only', 'of', 'increasing', 'pledges', 'of', 'weapons', 'and', 'other', 'military', 'equipment', ',', 'but', 'also', 'of', 'a', 'concerted', 'effort', 'to', 'make', 'Putin', 'pay', 'for', 'the', 'invasion', 'economically', '.', 'Finland', ',', 'for', 'example', ',', 'announced', 'Monday', 'that', 'it', 'would', 'ship', '2,500', 'assault', 'rifles', ',', '150,000', 'bullets', ',', '1,500', 'antitank', 'weapons', 'and', '70,000', 'food', 'packages', 'to', 'Ukraine', '.', 'Ukraine', 'sought', 'to', 'tighten', 'its', 'bond', 'with', 'the', 'West', 'on', 'Monday', ',', 'formally', 'applying', 'to', 'join', 'the', 'European', 'Union', '.', 'Ukrainian', 'President', 'Volodymyr', 'Zelenskyy', 'posted', 'photos', 'of', 'himself', 'signing', 'the', 'application', 'and', 'appealed', 'to', 'the', 'E.U', '.', 'to', 'accept', 'Ukraine', 'immediately', '.', 'Crippling', 'sanctions', 'imposed', 'by', 'the', 'U.S.', 'and', 'its', 'allies', 'sent', 'the', 'ruble', 'plunging', 'to', 'record', 'lows', 'early', 'Monday', ',', 'while', 'Russia', '’', 's', 'central', 'bank', 'kept', 'the', 'stock', 'market', 'closed', 'and', 'raised', 'its', 'interest', 'rate', 'to', '20', 'percent', 'from', '9.5', 'percent', 'to', 'shore', 'up', 'the', 'plummeting', 'national', 'currency', 'and', 'prevent', 'a', 'run', 'on', 'banks', '.', 'The', 'U.S.', 'continued', 'to', 'ramp', 'up', 'the', 'pressure', ',', 'announcing', 'it', 'would', 'expand', 'sanctions', 'on', 'the', 'country', '’', 's', 'central', 'bank', ',', 'which', 'will', 'prohibit', 'Americans', 'from', 'doing', 'any', 'business', 'with', 'it', ',', 'and', 'freeze', 'any', 'assets', 'the', 'bank', 'holds', 'in', 'the', 'U.S', '.', 'The', 'U.S.', 'also', 'has', 'begun', 'expelling', '12', 'Russian', 'intelligence', 'operatives', 'from', 'the', 'Russian', 'mission', 'to', 'the', 'United', 'Nations', ',', 'White', 'House', 'press', 'secretary', 'Jen', 'Psaki', 'said', 'Monday', '.', 'Psaki', 'said', 'the', 'move', ',', 'which', 'has', 'been', 'in', 'the', 'works', 'for', 'several', 'months', ',', 'was', 'made', 'because', 'the', 'operatives', 'were', 'engaging', 'in', 'activities', 'she', 'described', 'as', '“', 'adverse', 'to', 'our', 'national', 'security.', '”', 'Switzerland', ',', 'traditionally', 'a', 'neutral', 'party', 'in', 'international', 'affairs', ',', 'announced', 'Monday', 'that', 'it', 'would', 'sanction', 'Russia', ',', 'too', '.', 'Kremlin', 'spokesman', 'Dmitry', 'Peskov', 'admitted', 'that', '“', 'Russia', '’', 's', 'economic', 'reality', 'has', 'changed', '”', 'because', 'of', 'the', '“', 'heavy', '”', 'sanctions', ',', 'but', 'he', 'said', 'the', 'country', 'was', 'prepared', 'and', 'able', 'to', 'handle', 'the', 'damage', '.', 'Putin', 'met', 'with', 'advisers', 'about', 'the', 'economy', 'Monday', ',', 'calling', 'the', 'West', 'an', '“', 'empire', 'of', 'lies', '”', 'in', 'remarks', 'broadcast', 'on', 'state', 'television', '.', 'Russia', 'also', 'closed', 'its', 'airspace', 'to', 'airlines', 'from', 'the', 'E.U', '.', 'and', 'several', 'other', 'countries', 'in', 'retaliation', 'for', 'the', 'bloc', '’', 's', 'ban', 'on', 'all', 'travel', 'by', 'Russian', 'planes', 'over', 'its', 'airspace', '.', 'With', 'that', 'in', 'mind', ',', 'the', 'U.S.', 'urged', 'its', 'citizens', 'to', 'consider', 'leaving', 'Russia', 'immediately', 'given', 'the', 'dwindling', 'number', 'of', 'commercial', 'options', 'available', '.', 'Washington', 'also', 'authorized', 'the', 'voluntary', 'departure', 'of', 'nonemergency', 'employees', 'and', 'family', 'at', 'the', 'embassy', 'in', 'Moscow', 'and', 'announced', 'that', 'it', 'had', 'suspended', 'all', 'operations', 'at', 'the', 'embassy', 'in', 'Minsk', ',', 'Belarus', '.', 'With', 'global', 'pressure', 'growing', ',', 'the', 'U.N.', 'General', 'Assembly', 'held', 'a', 'rare', 'emergency', 'special', 'session', 'Monday', 'with', 'all', '193', 'member', 'states', '.', 'The', 'U.S.', 'ambassador', 'to', 'the', 'U.N.', ',', 'Linda', 'Thomas-Greenfield', ',', 'said', 'she', 'hoped', 'to', 'have', 'the', 'body', 'vote', 'on', 'a', 'resolution', 'to', 'condemn', 'Russia', '’', 's', 'actions', 'as', 'early', 'as', 'Wednesday', '.', 'In', 'the', 'wake', 'of', 'the', 'invasion', ',', 'cultural', 'institutions', 'and', 'sports', 'organizations', 'have', 'moved', 'to', 'isolate', 'Russia', '.', 'FIFA', 'and', 'UEFA', 'announced', 'Monday', 'that', 'Russian', 'clubs', 'and', 'national', 'teams', 'would', 'be', 'suspended', 'from', 'international', 'and', 'European', 'soccer', 'competitions', '.', 'Zelenskyy', 'has', 'said', 'he', 'doubted', 'the', 'talks', 'with', 'Russia', 'would', 'produce', 'results', '.', 'But', 'his', 'country', \"'s\", 'forces', 'have', 'slowed', 'Russia', '’', 's', 'advance', 'and', 'still', 'hold', 'the', 'capital', ',', 'Kyiv', ',', 'as', 'well', 'as', 'Kharkiv', ',', 'near', 'the', 'Russian', 'border', ',', 'and', 'other', 'key', 'cities', 'where', 'there', 'has', 'been', 'heavy', 'fighting', '.', '“', 'The', 'bulk', 'of', 'Putin', '’', 's', 'ground', 'forces', 'remain', 'more', 'than', '30', 'km', '[', '18', 'miles', ']', 'to', 'the', 'north', 'of', 'Kyiv', ',', '”', 'Britain', '’', 's', 'Defense', 'Ministry', 'said', 'in', 'a', 'tweet', 'Monday', 'morning', '.', '“', 'Logistical', 'failures', 'and', 'staunch', 'Ukrainian', 'resistance', 'continue', 'to', 'frustrate', 'the', 'Russian', 'advance', '.', 'With', 'the', 'operation', 'moving', 'slower', 'than', 'expected', ',', 'Russia', 'was', 'bringing', 'in', 'more', 'troops', ',', 'weapons', 'and', 'equipment', ',', 'NATO', 'Secretary', 'General', 'Jens', 'Stoltenberg', 'said', '.', 'They', 'underestimated', 'the', 'resistance', 'they', 'were', 'going', 'to', 'meet', ',', 'and', 'that', '’', 's', 'why', 'they', '’', 're', 'making', 'less', 'progress', ',', 'Stoltenberg', 'said', 'in', 'an', 'interview', 'Monday', 'morning', 'in', 'Brussels', '.', 'He', 'added', 'that', 'there', 'was', 'a', 'new', 'wave', 'coming', 'in', 'from', 'Russia', 'and', 'from', 'Belarus', 'with', 'heavy', 'armor', 'and', 'artillery', '.', 'In', 'Ukraine', \"'s\", 'southeast', ',', 'officials', 'confirmed', 'that', 'Russian', 'forces', 'had', 'taken', 'control', 'of', 'the', 'city', 'of', 'Berdyansk', 'as', 'they', 'made', 'their', 'way', 'along', 'the', 'coast', 'toward', 'Mariupol', ',', 'a', 'key', 'port', 'city', 'considered', 'a', 'prime', 'Russian', 'target', '.', 'Zelenskyy', 'hailed', 'Ukraine', '’', 's', 'military', 'in', 'a', 'video', 'statement', 'early', 'Monday', ',', 'and', 'said', '4,500', 'Russian', 'troops', 'had', 'been', 'killed', 'in', 'the', 'conflict', '.', 'NBC', 'News', 'has', 'not', 'verified', 'the', 'number', 'of', 'those', 'killed', 'on', 'either', 'side', '.', 'Armed', 'with', 'government-issued', 'machine', 'guns', ',', 'homemade', 'Molotov', 'cocktails', 'and', 'shovels', 'to', 'build', 'barricades', ',', 'civilians', 'have', 'helped', 'to', 'reinforce', 'their', 'army', '’', 's', 'desperate', 'but', 'for', 'now', 'effective', 'resistance', '.', 'They', 'will', 'soon', 'be', 'joined', 'by', 'prisoners', 'with', 'combat', 'experience', 'who', 'will', 'now', 'be', 'released', ',', 'Zelenskyy', 'added', '.', 'Zelenskyy', 'and', 'Western', 'officials', 'have', 'said', 'Putin', 'intends', 'to', 'remove', 'Ukraine', '’', 's', 'pro-Western', 'government', 'and', 'possibly', 'replace', 'it', 'with', 'a', 'Moscow-friendly', 'regime', ',', 'restoring', 'influence', 'as', 'the', 'Kremlin', 'moves', 'to', 'upend', 'the', 'post-Cold', 'War', 'order', 'on', 'the', 'continent', '.', 'The', 'conflict', 'has', 'left', 'Europe', 'facing', 'its', 'gravest', 'security', 'crisis', 'in', 'decades', '.', 'Putin', 'made', 'that', 'even', 'clearer', 'Sunday', 'when', 'he', 'issued', 'a', 'directive', 'to', 'increase', 'the', 'readiness', 'of', 'Russia', '’', 's', 'nuclear', 'deterrent', 'forces', ',', 'citing', '“', 'aggressive', 'statements', '”', 'by', 'NATO', 'and', 'the', 'tough', 'financial', 'sanctions', 'imposed', 'by', 'the', 'U.S.', ',', 'Europe', 'and', 'others', '.', 'Russia', ',', 'like', 'NATO', 'and', 'the', 'U.S.', ',', 'has', 'thousands', 'of', 'nuclear', 'warheads', 'in', 'its', 'arsenal', '.', 'Stoltenberg', ',', 'branded', 'Putin', \"'s\", 'move', 'as', 'reckless', 'and', 'dangerous', '.', 'There', '’', 's', 'no', 'reason', 'for', 'that', '.', 'NATO', 'is', 'no', 'threat', 'to', 'Russia', ',', 'he', 'said', '.', 'Although', 'NATO', 'moved', 'to', 'increase', 'its', 'presence', 'in', 'Eastern', 'Europe', 'in', 'the', 'wake', 'of', 'the', 'Ukraine', 'invasion', ',', 'Stoltenberg', 'repeated', 'that', 'the', 'military', 'alliance', 'had', 'no', 'intention', 'of', 'becoming', 'involved', 'in', 'the', 'conflict', 'itself', '.', '“', 'We', 'have', 'a', 'responsibility', 'to', 'make', 'sure', 'that', 'this', 'doesn', '’', 't', 'spiral', 'out', 'of', 'control', ',', '”', 'he', 'said', '.', '“', 'That', 'will', 'be', 'extremely', 'dangerous.', '”', 'Rachel', 'Elbaum', 'is', 'a', 'London-based', 'editor', ',', 'producer', 'and', 'writer', '.', 'Josh', 'Lederman', 'is', 'an', 'NBC', 'News', 'correspondent', '.', 'Daniel', 'Arkin', 'is', 'a', 'reporter', 'for', 'NBC', 'News', 'who', 'focuses', 'on', 'popular', 'culture', 'and', 'the', 'entertainment', 'industry', ',', 'particularly', 'film', 'and', 'television', '.', '©', '2022', 'NBC', 'UNIVERSAL']\n",
      "['Fighting', 'raged', 'around', 'key', 'cities', 'Ukraine', 'Monday', 'country', \"'s\", 'first', 'talks', 'Russia', 'since', 'last', 'week', '’', 'invasion', 'concluded', 'immediate', 'breakthrough', '.', 'Even', 'Moscow', 'said', 'officials', 'negotiating', 'border', 'heard', ',', 'Ukraine', 'said', 'second-largest', 'city', 'coming', 'attack', 'heavy', 'Russian', 'shelling', '.', 'Meanwhile', ',', 'Russian', 'President', 'Vladimir', 'Putin', 'faced', 'growing', 'fallout', 'assault', 'democratic', 'neighbor', 'rallied', 'West', 'behind', 'Kyiv', 'Kremlin', ',', 'marginalizing', 'Moscow', 'international', 'stage', '.', 'Latest', 'updates', 'Ukraine', ':', 'Ukraine', '’', 'position', 'bolstered', 'staunch', 'early', 'resistance', ',', 'military', 'assistance', 'countries', 'around', 'world', 'growing', 'sanctions', 'effort', 'sent', 'Moscow', '’', 'economy', 'reeling', '.', 'The', 'conflict', 'also', 'fought', 'shadow', 'nuclear', 'threats', ';', 'Russian', 'military', 'said', 'Monday', 'nuclear', 'deterrent', 'forces', 'put', 'high', 'alert', 'Putin', '’', 'order', '.', 'While', 'growing', 'numbers', 'people', 'fled', 'Russian', 'advance', ',', 'stayed', 'enduring', 'air', 'assault', 'Kyiv', 'international', 'watchdogs', 'said', 'increasingly', 'hitting', 'civilians', '.', 'Russian', 'forces', 'accused', 'carrying', 'massive', 'shelling', 'Ukraine', '’', 'second-largest', 'city', ',', 'Kharkiv', '.', 'Graphic', 'video', 'shared', 'social', 'media', 'Monday', 'appeared', 'show', 'assault', 'aftermath', '.', 'In', 'one', 'video', ',', 'bodies', 'seen', 'ground', 'pools', 'blood', '.', 'Ukrainian', 'interior', 'ministry', 'adviser', 'Anton', 'Gerashchenko', 'shared', 'video', 'appearing', 'show', 'flashes', 'sky', 'smoke', 'filled', 'air', 'said', 'dozens', 'people', 'killed', 'hundreds', 'wounded', '.', 'This', 'horror', 'must', 'seen', 'whole', 'world', ',', 'said', '.', 'NBC', 'News', 'verified', 'video', 'authentic', ',', 'confirmed', 'reports', 'casualties', 'incident', '.', 'Russia', 'repeatedly', 'denied', 'targeting', 'civilians', '.', 'Speaking', 'reporters', 'Monday', ',', 'Ukraine', \"'s\", 'ambassador', 'United', 'States', ',', 'Oksana', 'Markarova', ',', 'claimed', 'Russian', 'military', 'also', 'used', '“', 'vacuum', 'bomb.', '”', 'The', 'highly', 'explosive', 'weapon', 'uses', 'air', 'trigger', 'blast', '“', 'particularly', 'devastating', 'confined', 'environments', ',', 'urban', 'areas', ',', '”', 'N.R', '.', 'Jenzen-Jones', ',', 'director', 'Armament', 'Research', 'Services', ',', 'told', 'NBC', 'News', 'interview', '.', 'Markarova', \"n't\", 'say', 'weapon', ',', 'also', 'known', 'thermobaric', 'munition', 'fuel-air', 'explosive', ',', 'used', ',', 'provide', 'evidence', 'support', 'claim', '.', 'NBC', 'News', 'reached', 'Russia', '’', 'Defense', 'Ministry', 'Pentagon', 'comment', '.', 'If', 'weapon', 'used', 'city', ',', 'could', 'constitute', 'war', 'crime', 'indiscriminate', 'effect', 'civilians', ',', 'said', 'Matthew', 'Evangelista', ',', 'professor', 'history', 'political', 'science', 'Cornell', 'University', 'author', '“', 'The', 'Law', ',', 'Ethics', 'War', 'Terror.', '”', 'The', 'International', 'Criminal', 'Court', 'open', 'investigation', 'possible', 'war', 'crimes', 'crimes', 'humanity', 'Ukraine', ',', 'prosecutor', 'Karim', 'Khan', 'said', 'statement', 'Monday', '.', 'There', '“', 'reasonable', 'basis', '”', 'believe', 'Russia', 'committed', ',', 'Khan', 'said', '.', 'U.N.', 'human', 'rights', 'chief', 'Michelle', 'Bachelet', 'said', 'Monday', '102', 'civilians', ',', 'seven', 'children', ',', 'killed', 'across', 'Ukraine', 'since', 'Thursday', '.', 'But', 'figures', 'probably', 'undercounted', 'full', 'extent', 'national', 'death', 'toll', ',', 'said', '.', 'The', 'head', 'U.N.', 'refugee', 'agency', ',', 'meanwhile', ',', 'said', 'half', 'million', 'people', 'fled', 'country', '44', 'million', '.', 'Others', 'sought', 'shelter', 'inside', 'metro', 'stations', 'parking', 'garages', 'missile', 'strikes', 'gunfire', 'hit', 'cities', '.', 'As', 'Russian', 'troops', 'bore', 'capital', ',', 'strict', '39-hour', 'curfew', 'kept', 'people', 'Kyiv', \"'s\", 'streets', 'weekend', 'ended', 'early', 'Monday', '.', 'Residents', 'stepped', 'Monday', 'replenish', 'supplies', 'waited', 'line', 'supermarkets', 'wail', 'air', 'raid', 'sirens', '.', '“', 'We', 'calm', 'lot', 'resolve', ',', '”', 'Vadym', 'Khortiuk', ',', '28', ',', 'said', ',', 'adding', 'hopes', 'boosted', 'fact', 'lot', 'support', 'friends', 'West', '.', 'The', 'support', 'taken', 'form', 'increasing', 'pledges', 'weapons', 'military', 'equipment', ',', 'also', 'concerted', 'effort', 'make', 'Putin', 'pay', 'invasion', 'economically', '.', 'Finland', ',', 'example', ',', 'announced', 'Monday', 'would', 'ship', '2,500', 'assault', 'rifles', ',', '150,000', 'bullets', ',', '1,500', 'antitank', 'weapons', '70,000', 'food', 'packages', 'Ukraine', '.', 'Ukraine', 'sought', 'tighten', 'bond', 'West', 'Monday', ',', 'formally', 'applying', 'join', 'European', 'Union', '.', 'Ukrainian', 'President', 'Volodymyr', 'Zelenskyy', 'posted', 'photos', 'signing', 'application', 'appealed', 'E.U', '.', 'accept', 'Ukraine', 'immediately', '.', 'Crippling', 'sanctions', 'imposed', 'U.S.', 'allies', 'sent', 'ruble', 'plunging', 'record', 'lows', 'early', 'Monday', ',', 'Russia', '’', 'central', 'bank', 'kept', 'stock', 'market', 'closed', 'raised', 'interest', 'rate', '20', 'percent', '9.5', 'percent', 'shore', 'plummeting', 'national', 'currency', 'prevent', 'run', 'banks', '.', 'The', 'U.S.', 'continued', 'ramp', 'pressure', ',', 'announcing', 'would', 'expand', 'sanctions', 'country', '’', 'central', 'bank', ',', 'prohibit', 'Americans', 'business', ',', 'freeze', 'assets', 'bank', 'holds', 'U.S', '.', 'The', 'U.S.', 'also', 'begun', 'expelling', '12', 'Russian', 'intelligence', 'operatives', 'Russian', 'mission', 'United', 'Nations', ',', 'White', 'House', 'press', 'secretary', 'Jen', 'Psaki', 'said', 'Monday', '.', 'Psaki', 'said', 'move', ',', 'works', 'several', 'months', ',', 'made', 'operatives', 'engaging', 'activities', 'described', '“', 'adverse', 'national', 'security.', '”', 'Switzerland', ',', 'traditionally', 'neutral', 'party', 'international', 'affairs', ',', 'announced', 'Monday', 'would', 'sanction', 'Russia', ',', '.', 'Kremlin', 'spokesman', 'Dmitry', 'Peskov', 'admitted', '“', 'Russia', '’', 'economic', 'reality', 'changed', '”', '“', 'heavy', '”', 'sanctions', ',', 'said', 'country', 'prepared', 'able', 'handle', 'damage', '.', 'Putin', 'met', 'advisers', 'economy', 'Monday', ',', 'calling', 'West', '“', 'empire', 'lies', '”', 'remarks', 'broadcast', 'state', 'television', '.', 'Russia', 'also', 'closed', 'airspace', 'airlines', 'E.U', '.', 'several', 'countries', 'retaliation', 'bloc', '’', 'ban', 'travel', 'Russian', 'planes', 'airspace', '.', 'With', 'mind', ',', 'U.S.', 'urged', 'citizens', 'consider', 'leaving', 'Russia', 'immediately', 'given', 'dwindling', 'number', 'commercial', 'options', 'available', '.', 'Washington', 'also', 'authorized', 'voluntary', 'departure', 'nonemergency', 'employees', 'family', 'embassy', 'Moscow', 'announced', 'suspended', 'operations', 'embassy', 'Minsk', ',', 'Belarus', '.', 'With', 'global', 'pressure', 'growing', ',', 'U.N.', 'General', 'Assembly', 'held', 'rare', 'emergency', 'special', 'session', 'Monday', '193', 'member', 'states', '.', 'The', 'U.S.', 'ambassador', 'U.N.', ',', 'Linda', 'Thomas-Greenfield', ',', 'said', 'hoped', 'body', 'vote', 'resolution', 'condemn', 'Russia', '’', 'actions', 'early', 'Wednesday', '.', 'In', 'wake', 'invasion', ',', 'cultural', 'institutions', 'sports', 'organizations', 'moved', 'isolate', 'Russia', '.', 'FIFA', 'UEFA', 'announced', 'Monday', 'Russian', 'clubs', 'national', 'teams', 'would', 'suspended', 'international', 'European', 'soccer', 'competitions', '.', 'Zelenskyy', 'said', 'doubted', 'talks', 'Russia', 'would', 'produce', 'results', '.', 'But', 'country', \"'s\", 'forces', 'slowed', 'Russia', '’', 'advance', 'still', 'hold', 'capital', ',', 'Kyiv', ',', 'well', 'Kharkiv', ',', 'near', 'Russian', 'border', ',', 'key', 'cities', 'heavy', 'fighting', '.', '“', 'The', 'bulk', 'Putin', '’', 'ground', 'forces', 'remain', '30', 'km', '[', '18', 'miles', ']', 'north', 'Kyiv', ',', '”', 'Britain', '’', 'Defense', 'Ministry', 'said', 'tweet', 'Monday', 'morning', '.', '“', 'Logistical', 'failures', 'staunch', 'Ukrainian', 'resistance', 'continue', 'frustrate', 'Russian', 'advance', '.', 'With', 'operation', 'moving', 'slower', 'expected', ',', 'Russia', 'bringing', 'troops', ',', 'weapons', 'equipment', ',', 'NATO', 'Secretary', 'General', 'Jens', 'Stoltenberg', 'said', '.', 'They', 'underestimated', 'resistance', 'going', 'meet', ',', '’', '’', 'making', 'less', 'progress', ',', 'Stoltenberg', 'said', 'interview', 'Monday', 'morning', 'Brussels', '.', 'He', 'added', 'new', 'wave', 'coming', 'Russia', 'Belarus', 'heavy', 'armor', 'artillery', '.', 'In', 'Ukraine', \"'s\", 'southeast', ',', 'officials', 'confirmed', 'Russian', 'forces', 'taken', 'control', 'city', 'Berdyansk', 'made', 'way', 'along', 'coast', 'toward', 'Mariupol', ',', 'key', 'port', 'city', 'considered', 'prime', 'Russian', 'target', '.', 'Zelenskyy', 'hailed', 'Ukraine', '’', 'military', 'video', 'statement', 'early', 'Monday', ',', 'said', '4,500', 'Russian', 'troops', 'killed', 'conflict', '.', 'NBC', 'News', 'verified', 'number', 'killed', 'either', 'side', '.', 'Armed', 'government-issued', 'machine', 'guns', ',', 'homemade', 'Molotov', 'cocktails', 'shovels', 'build', 'barricades', ',', 'civilians', 'helped', 'reinforce', 'army', '’', 'desperate', 'effective', 'resistance', '.', 'They', 'soon', 'joined', 'prisoners', 'combat', 'experience', 'released', ',', 'Zelenskyy', 'added', '.', 'Zelenskyy', 'Western', 'officials', 'said', 'Putin', 'intends', 'remove', 'Ukraine', '’', 'pro-Western', 'government', 'possibly', 'replace', 'Moscow-friendly', 'regime', ',', 'restoring', 'influence', 'Kremlin', 'moves', 'upend', 'post-Cold', 'War', 'order', 'continent', '.', 'The', 'conflict', 'left', 'Europe', 'facing', 'gravest', 'security', 'crisis', 'decades', '.', 'Putin', 'made', 'even', 'clearer', 'Sunday', 'issued', 'directive', 'increase', 'readiness', 'Russia', '’', 'nuclear', 'deterrent', 'forces', ',', 'citing', '“', 'aggressive', 'statements', '”', 'NATO', 'tough', 'financial', 'sanctions', 'imposed', 'U.S.', ',', 'Europe', 'others', '.', 'Russia', ',', 'like', 'NATO', 'U.S.', ',', 'thousands', 'nuclear', 'warheads', 'arsenal', '.', 'Stoltenberg', ',', 'branded', 'Putin', \"'s\", 'move', 'reckless', 'dangerous', '.', 'There', '’', 'reason', '.', 'NATO', 'threat', 'Russia', ',', 'said', '.', 'Although', 'NATO', 'moved', 'increase', 'presence', 'Eastern', 'Europe', 'wake', 'Ukraine', 'invasion', ',', 'Stoltenberg', 'repeated', 'military', 'alliance', 'intention', 'becoming', 'involved', 'conflict', '.', '“', 'We', 'responsibility', 'make', 'sure', '’', 'spiral', 'control', ',', '”', 'said', '.', '“', 'That', 'extremely', 'dangerous.', '”', 'Rachel', 'Elbaum', 'London-based', 'editor', ',', 'producer', 'writer', '.', 'Josh', 'Lederman', 'NBC', 'News', 'correspondent', '.', 'Daniel', 'Arkin', 'reporter', 'NBC', 'News', 'focuses', 'popular', 'culture', 'entertainment', 'industry', ',', 'particularly', 'film', 'television', '.', '©', '2022', 'NBC', 'UNIVERSAL']\n"
     ]
    }
   ],
   "source": [
    "filtered_tokens = [word for word in text1_tokens if not word in stopwords]\n",
    "print(text1_tokens)\n",
    "print(filtered_tokens)"
   ]
  },
  {
   "cell_type": "code",
   "execution_count": null,
   "metadata": {
    "colab": {
     "base_uri": "https://localhost:8080/"
    },
    "id": "u90ZS0cu5ak2",
    "outputId": "b59fcc31-38b2-44e7-f06f-74a8c2f5c1cf"
   },
   "outputs": [
    {
     "name": "stdout",
     "output_type": "stream",
     "text": [
      "['Fighting', 'raged', 'around', 'key', 'cities', 'in', 'Ukraine', 'on', 'Monday', 'as', 'the', 'country', \"'s\", 'first', 'talks', 'with', 'Russia', 'since', 'last', 'week', '’', 's', 'invasion', 'concluded', 'with', 'no', 'immediate', 'breakthrough', '.', 'Even', 'as', 'Moscow', 'said', 'officials', 'negotiating', 'at', 'the', 'border', 'had', 'heard', 'each', 'other', ',', 'Ukraine', 'said', 'its', 'second-largest', 'city', 'was', 'coming', 'under', 'attack', 'from', 'heavy', 'Russian', 'shelling', '.', 'Meanwhile', ',', 'Russian', 'President', 'Vladimir', 'Putin', 'faced', 'the', 'growing', 'fallout', 'from', 'an', 'assault', 'on', 'his', 'democratic', 'neighbor', 'that', 'has', 'rallied', 'the', 'West', 'behind', 'Kyiv', 'and', 'against', 'the', 'Kremlin', ',', 'marginalizing', 'Moscow', 'on', 'the', 'international', 'stage', '.', 'Latest', 'updates', 'on', 'Ukraine', ':', 'Ukraine', '’', 's', 'position', 'has', 'been', 'bolstered', 'by', 'its', 'staunch', 'early', 'resistance', ',', 'military', 'assistance', 'from', 'countries', 'around', 'the', 'world', 'and', 'a', 'growing', 'sanctions', 'effort', 'that', 'has', 'sent', 'Moscow', '’', 's', 'economy', 'reeling', '.', 'The', 'conflict', 'is', 'also', 'being', 'fought', 'in', 'the', 'shadow', 'of', 'nuclear', 'threats', ';', 'the', 'Russian', 'military', 'said', 'Monday', 'that', 'its', 'nuclear', 'deterrent', 'forces', 'had', 'been', 'put', 'on', 'high', 'alert', 'after', 'Putin', '’', 's', 'order', '.', 'While', 'growing', 'numbers', 'of', 'people', 'have', 'fled', 'the', 'Russian', 'advance', ',', 'those', 'who', 'stayed', 'were', 'enduring', 'an', 'air', 'assault', 'that', 'Kyiv', 'and', 'international', 'watchdogs', 'said', 'was', 'increasingly', 'hitting', 'civilians', '.', 'Russian', 'forces', 'were', 'accused', 'of', 'carrying', 'out', 'massive', 'shelling', 'in', 'Ukraine', '’', 's', 'second-largest', 'city', ',', 'Kharkiv', '.', 'Graphic', 'video', 'shared', 'on', 'social', 'media', 'Monday', 'appeared', 'to', 'show', 'the', 'assault', 'and', 'its', 'aftermath', '.', 'In', 'one', 'video', ',', 'bodies', 'can', 'be', 'seen', 'on', 'the', 'ground', 'in', 'pools', 'of', 'blood', '.', 'Ukrainian', 'interior', 'ministry', 'adviser', 'Anton', 'Gerashchenko', 'shared', 'video', 'appearing', 'to', 'show', 'flashes', 'in', 'the', 'sky', 'as', 'smoke', 'filled', 'the', 'air', 'and', 'said', 'dozens', 'of', 'people', 'had', 'been', 'killed', 'and', 'hundreds', 'more', 'had', 'been', 'wounded', '.', 'This', 'horror', 'must', 'be', 'seen', 'by', 'the', 'whole', 'world', ',', 'he', 'said', '.', 'NBC', 'News', 'has', 'verified', 'that', 'the', 'video', 'is', 'authentic', ',', 'but', 'it', 'has', 'not', 'confirmed', 'reports', 'of', 'any', 'casualties', 'from', 'the', 'incident', '.', 'Russia', 'has', 'repeatedly', 'denied', 'targeting', 'civilians', '.', 'Speaking', 'to', 'reporters', 'Monday', ',', 'Ukraine', \"'s\", 'ambassador', 'to', 'the', 'United', 'States', ',', 'Oksana', 'Markarova', ',', 'claimed', 'the', 'Russian', 'military', 'also', 'used', 'a', '“', 'vacuum', 'bomb.', '”', 'The', 'highly', 'explosive', 'weapon', 'uses', 'air', 'to', 'trigger', 'a', 'blast', 'that', 'is', '“', 'particularly', 'devastating', 'in', 'confined', 'environments', ',', 'such', 'as', 'urban', 'areas', ',', '”', 'N.R', '.', 'Jenzen-Jones', ',', 'director', 'of', 'Armament', 'Research', 'Services', ',', 'told', 'NBC', 'News', 'in', 'an', 'interview', '.', 'Markarova', 'did', \"n't\", 'say', 'where', 'or', 'when', 'the', 'weapon', ',', 'also', 'known', 'as', 'a', 'thermobaric', 'munition', 'or', 'fuel-air', 'explosive', ',', 'was', 'used', ',', 'nor', 'did', 'she', 'provide', 'evidence', 'to', 'support', 'the', 'claim', '.', 'NBC', 'News', 'has', 'reached', 'out', 'to', 'Russia', '’', 's', 'Defense', 'Ministry', 'and', 'the', 'Pentagon', 'for', 'comment', '.', 'If', 'the', 'weapon', 'was', 'used', 'in', 'a', 'city', ',', 'it', 'could', 'constitute', 'a', 'war', 'crime', 'because', 'of', 'the', 'indiscriminate', 'effect', 'on', 'civilians', ',', 'said', 'Matthew', 'Evangelista', ',', 'a', 'professor', 'of', 'history', 'and', 'political', 'science', 'at', 'Cornell', 'University', 'and', 'author', 'of', '“', 'The', 'Law', ',', 'Ethics', 'and', 'the', 'War', 'on', 'Terror.', '”', 'The', 'International', 'Criminal', 'Court', 'will', 'open', 'an', 'investigation', 'into', 'possible', 'war', 'crimes', 'or', 'crimes', 'against', 'humanity', 'in', 'Ukraine', ',', 'prosecutor', 'Karim', 'Khan', 'said', 'in', 'a', 'statement', 'Monday', '.', 'There', 'is', 'a', '“', 'reasonable', 'basis', '”', 'to', 'believe', 'Russia', 'has', 'committed', 'both', ',', 'Khan', 'said', '.', 'U.N.', 'human', 'rights', 'chief', 'Michelle', 'Bachelet', 'said', 'Monday', 'that', '102', 'civilians', ',', 'seven', 'of', 'them', 'children', ',', 'have', 'been', 'killed', 'across', 'Ukraine', 'since', 'Thursday', '.', 'But', 'the', 'figures', 'probably', 'undercounted', 'the', 'full', 'extent', 'of', 'the', 'national', 'death', 'toll', ',', 'she', 'said', '.', 'The', 'head', 'of', 'the', 'U.N.', 'refugee', 'agency', ',', 'meanwhile', ',', 'said', 'more', 'than', 'a', 'half', 'a', 'million', 'people', 'had', 'fled', 'the', 'country', 'of', '44', 'million', '.', 'Others', 'have', 'sought', 'shelter', 'inside', 'metro', 'stations', 'and', 'parking', 'garages', 'while', 'missile', 'strikes', 'and', 'gunfire', 'hit', 'cities', '.', 'As', 'Russian', 'troops', 'bore', 'down', 'on', 'the', 'capital', ',', 'a', 'strict', '39-hour', 'curfew', 'that', 'kept', 'people', 'off', 'Kyiv', \"'s\", 'streets', 'all', 'weekend', 'ended', 'early', 'Monday', '.', 'Residents', 'stepped', 'out', 'Monday', 'to', 'replenish', 'supplies', 'and', 'waited', 'in', 'line', 'at', 'supermarkets', 'between', 'the', 'wail', 'of', 'air', 'raid', 'sirens', '.', '“', 'We', 'are', 'calm', 'and', 'do', 'have', 'a', 'lot', 'of', 'resolve', ',', '”', 'Vadym', 'Khortiuk', ',', '28', ',', 'said', ',', 'adding', 'that', 'his', 'hopes', 'had', 'been', 'boosted', 'by', 'the', 'fact', 'that', 'we', 'have', 'a', 'lot', 'of', 'support', 'from', 'our', 'friends', 'from', 'the', 'West', '.', 'The', 'support', 'has', 'taken', 'the', 'form', 'not', 'only', 'of', 'increasing', 'pledges', 'of', 'weapons', 'and', 'other', 'military', 'equipment', ',', 'but', 'also', 'of', 'a', 'concerted', 'effort', 'to', 'make', 'Putin', 'pay', 'for', 'the', 'invasion', 'economically', '.', 'Finland', ',', 'for', 'example', ',', 'announced', 'Monday', 'that', 'it', 'would', 'ship', '2,500', 'assault', 'rifles', ',', '150,000', 'bullets', ',', '1,500', 'antitank', 'weapons', 'and', '70,000', 'food', 'packages', 'to', 'Ukraine', '.', 'Ukraine', 'sought', 'to', 'tighten', 'its', 'bond', 'with', 'the', 'West', 'on', 'Monday', ',', 'formally', 'applying', 'to', 'join', 'the', 'European', 'Union', '.', 'Ukrainian', 'President', 'Volodymyr', 'Zelenskyy', 'posted', 'photos', 'of', 'himself', 'signing', 'the', 'application', 'and', 'appealed', 'to', 'the', 'E.U', '.', 'to', 'accept', 'Ukraine', 'immediately', '.', 'Crippling', 'sanctions', 'imposed', 'by', 'the', 'U.S.', 'and', 'its', 'allies', 'sent', 'the', 'ruble', 'plunging', 'to', 'record', 'lows', 'early', 'Monday', ',', 'while', 'Russia', '’', 's', 'central', 'bank', 'kept', 'the', 'stock', 'market', 'closed', 'and', 'raised', 'its', 'interest', 'rate', 'to', '20', 'percent', 'from', '9.5', 'percent', 'to', 'shore', 'up', 'the', 'plummeting', 'national', 'currency', 'and', 'prevent', 'a', 'run', 'on', 'banks', '.', 'The', 'U.S.', 'continued', 'to', 'ramp', 'up', 'the', 'pressure', ',', 'announcing', 'it', 'would', 'expand', 'sanctions', 'on', 'the', 'country', '’', 's', 'central', 'bank', ',', 'which', 'will', 'prohibit', 'Americans', 'from', 'doing', 'any', 'business', 'with', 'it', ',', 'and', 'freeze', 'any', 'assets', 'the', 'bank', 'holds', 'in', 'the', 'U.S', '.', 'The', 'U.S.', 'also', 'has', 'begun', 'expelling', '12', 'Russian', 'intelligence', 'operatives', 'from', 'the', 'Russian', 'mission', 'to', 'the', 'United', 'Nations', ',', 'White', 'House', 'press', 'secretary', 'Jen', 'Psaki', 'said', 'Monday', '.', 'Psaki', 'said', 'the', 'move', ',', 'which', 'has', 'been', 'in', 'the', 'works', 'for', 'several', 'months', ',', 'was', 'made', 'because', 'the', 'operatives', 'were', 'engaging', 'in', 'activities', 'she', 'described', 'as', '“', 'adverse', 'to', 'our', 'national', 'security.', '”', 'Switzerland', ',', 'traditionally', 'a', 'neutral', 'party', 'in', 'international', 'affairs', ',', 'announced', 'Monday', 'that', 'it', 'would', 'sanction', 'Russia', ',', 'too', '.', 'Kremlin', 'spokesman', 'Dmitry', 'Peskov', 'admitted', 'that', '“', 'Russia', '’', 's', 'economic', 'reality', 'has', 'changed', '”', 'because', 'of', 'the', '“', 'heavy', '”', 'sanctions', ',', 'but', 'he', 'said', 'the', 'country', 'was', 'prepared', 'and', 'able', 'to', 'handle', 'the', 'damage', '.', 'Putin', 'met', 'with', 'advisers', 'about', 'the', 'economy', 'Monday', ',', 'calling', 'the', 'West', 'an', '“', 'empire', 'of', 'lies', '”', 'in', 'remarks', 'broadcast', 'on', 'state', 'television', '.', 'Russia', 'also', 'closed', 'its', 'airspace', 'to', 'airlines', 'from', 'the', 'E.U', '.', 'and', 'several', 'other', 'countries', 'in', 'retaliation', 'for', 'the', 'bloc', '’', 's', 'ban', 'on', 'all', 'travel', 'by', 'Russian', 'planes', 'over', 'its', 'airspace', '.', 'With', 'that', 'in', 'mind', ',', 'the', 'U.S.', 'urged', 'its', 'citizens', 'to', 'consider', 'leaving', 'Russia', 'immediately', 'given', 'the', 'dwindling', 'number', 'of', 'commercial', 'options', 'available', '.', 'Washington', 'also', 'authorized', 'the', 'voluntary', 'departure', 'of', 'nonemergency', 'employees', 'and', 'family', 'at', 'the', 'embassy', 'in', 'Moscow', 'and', 'announced', 'that', 'it', 'had', 'suspended', 'all', 'operations', 'at', 'the', 'embassy', 'in', 'Minsk', ',', 'Belarus', '.', 'With', 'global', 'pressure', 'growing', ',', 'the', 'U.N.', 'General', 'Assembly', 'held', 'a', 'rare', 'emergency', 'special', 'session', 'Monday', 'with', 'all', '193', 'member', 'states', '.', 'The', 'U.S.', 'ambassador', 'to', 'the', 'U.N.', ',', 'Linda', 'Thomas-Greenfield', ',', 'said', 'she', 'hoped', 'to', 'have', 'the', 'body', 'vote', 'on', 'a', 'resolution', 'to', 'condemn', 'Russia', '’', 's', 'actions', 'as', 'early', 'as', 'Wednesday', '.', 'In', 'the', 'wake', 'of', 'the', 'invasion', ',', 'cultural', 'institutions', 'and', 'sports', 'organizations', 'have', 'moved', 'to', 'isolate', 'Russia', '.', 'FIFA', 'and', 'UEFA', 'announced', 'Monday', 'that', 'Russian', 'clubs', 'and', 'national', 'teams', 'would', 'be', 'suspended', 'from', 'international', 'and', 'European', 'soccer', 'competitions', '.', 'Zelenskyy', 'has', 'said', 'he', 'doubted', 'the', 'talks', 'with', 'Russia', 'would', 'produce', 'results', '.', 'But', 'his', 'country', \"'s\", 'forces', 'have', 'slowed', 'Russia', '’', 's', 'advance', 'and', 'still', 'hold', 'the', 'capital', ',', 'Kyiv', ',', 'as', 'well', 'as', 'Kharkiv', ',', 'near', 'the', 'Russian', 'border', ',', 'and', 'other', 'key', 'cities', 'where', 'there', 'has', 'been', 'heavy', 'fighting', '.', '“', 'The', 'bulk', 'of', 'Putin', '’', 's', 'ground', 'forces', 'remain', 'more', 'than', '30', 'km', '[', '18', 'miles', ']', 'to', 'the', 'north', 'of', 'Kyiv', ',', '”', 'Britain', '’', 's', 'Defense', 'Ministry', 'said', 'in', 'a', 'tweet', 'Monday', 'morning', '.', '“', 'Logistical', 'failures', 'and', 'staunch', 'Ukrainian', 'resistance', 'continue', 'to', 'frustrate', 'the', 'Russian', 'advance', '.', 'With', 'the', 'operation', 'moving', 'slower', 'than', 'expected', ',', 'Russia', 'was', 'bringing', 'in', 'more', 'troops', ',', 'weapons', 'and', 'equipment', ',', 'NATO', 'Secretary', 'General', 'Jens', 'Stoltenberg', 'said', '.', 'They', 'underestimated', 'the', 'resistance', 'they', 'were', 'going', 'to', 'meet', ',', 'and', 'that', '’', 's', 'why', 'they', '’', 're', 'making', 'less', 'progress', ',', 'Stoltenberg', 'said', 'in', 'an', 'interview', 'Monday', 'morning', 'in', 'Brussels', '.', 'He', 'added', 'that', 'there', 'was', 'a', 'new', 'wave', 'coming', 'in', 'from', 'Russia', 'and', 'from', 'Belarus', 'with', 'heavy', 'armor', 'and', 'artillery', '.', 'In', 'Ukraine', \"'s\", 'southeast', ',', 'officials', 'confirmed', 'that', 'Russian', 'forces', 'had', 'taken', 'control', 'of', 'the', 'city', 'of', 'Berdyansk', 'as', 'they', 'made', 'their', 'way', 'along', 'the', 'coast', 'toward', 'Mariupol', ',', 'a', 'key', 'port', 'city', 'considered', 'a', 'prime', 'Russian', 'target', '.', 'Zelenskyy', 'hailed', 'Ukraine', '’', 's', 'military', 'in', 'a', 'video', 'statement', 'early', 'Monday', ',', 'and', 'said', '4,500', 'Russian', 'troops', 'had', 'been', 'killed', 'in', 'the', 'conflict', '.', 'NBC', 'News', 'has', 'not', 'verified', 'the', 'number', 'of', 'those', 'killed', 'on', 'either', 'side', '.', 'Armed', 'with', 'government-issued', 'machine', 'guns', ',', 'homemade', 'Molotov', 'cocktails', 'and', 'shovels', 'to', 'build', 'barricades', ',', 'civilians', 'have', 'helped', 'to', 'reinforce', 'their', 'army', '’', 's', 'desperate', 'but', 'for', 'now', 'effective', 'resistance', '.', 'They', 'will', 'soon', 'be', 'joined', 'by', 'prisoners', 'with', 'combat', 'experience', 'who', 'will', 'now', 'be', 'released', ',', 'Zelenskyy', 'added', '.', 'Zelenskyy', 'and', 'Western', 'officials', 'have', 'said', 'Putin', 'intends', 'to', 'remove', 'Ukraine', '’', 's', 'pro-Western', 'government', 'and', 'possibly', 'replace', 'it', 'with', 'a', 'Moscow-friendly', 'regime', ',', 'restoring', 'influence', 'as', 'the', 'Kremlin', 'moves', 'to', 'upend', 'the', 'post-Cold', 'War', 'order', 'on', 'the', 'continent', '.', 'The', 'conflict', 'has', 'left', 'Europe', 'facing', 'its', 'gravest', 'security', 'crisis', 'in', 'decades', '.', 'Putin', 'made', 'that', 'even', 'clearer', 'Sunday', 'when', 'he', 'issued', 'a', 'directive', 'to', 'increase', 'the', 'readiness', 'of', 'Russia', '’', 's', 'nuclear', 'deterrent', 'forces', ',', 'citing', '“', 'aggressive', 'statements', '”', 'by', 'NATO', 'and', 'the', 'tough', 'financial', 'sanctions', 'imposed', 'by', 'the', 'U.S.', ',', 'Europe', 'and', 'others', '.', 'Russia', ',', 'like', 'NATO', 'and', 'the', 'U.S.', ',', 'has', 'thousands', 'of', 'nuclear', 'warheads', 'in', 'its', 'arsenal', '.', 'Stoltenberg', ',', 'branded', 'Putin', \"'s\", 'move', 'as', 'reckless', 'and', 'dangerous', '.', 'There', '’', 's', 'no', 'reason', 'for', 'that', '.', 'NATO', 'is', 'no', 'threat', 'to', 'Russia', ',', 'he', 'said', '.', 'Although', 'NATO', 'moved', 'to', 'increase', 'its', 'presence', 'in', 'Eastern', 'Europe', 'in', 'the', 'wake', 'of', 'the', 'Ukraine', 'invasion', ',', 'Stoltenberg', 'repeated', 'that', 'the', 'military', 'alliance', 'had', 'no', 'intention', 'of', 'becoming', 'involved', 'in', 'the', 'conflict', 'itself', '.', '“', 'We', 'have', 'a', 'responsibility', 'to', 'make', 'sure', 'that', 'this', 'doesn', '’', 't', 'spiral', 'out', 'of', 'control', ',', '”', 'he', 'said', '.', '“', 'That', 'will', 'be', 'extremely', 'dangerous.', '”', 'Rachel', 'Elbaum', 'is', 'a', 'London-based', 'editor', ',', 'producer', 'and', 'writer', '.', 'Josh', 'Lederman', 'is', 'an', 'NBC', 'News', 'correspondent', '.', 'Daniel', 'Arkin', 'is', 'a', 'reporter', 'for', 'NBC', 'News', 'who', 'focuses', 'on', 'popular', 'culture', 'and', 'the', 'entertainment', 'industry', ',', 'particularly', 'film', 'and', 'television', '.', '©', '2022', 'NBC', 'UNIVERSAL']\n",
      "['Fighting', 'raged', 'around', 'key', 'cities', 'Ukraine', 'Monday', 'country', \"'s\", 'first', 'talks', 'Russia', 'since', 'last', 'week', '’', 'invasion', 'concluded', 'immediate', 'breakthrough', '.', 'Even', 'Moscow', 'said', 'officials', 'negotiating', 'border', 'heard', ',', 'Ukraine', 'said', 'second-largest', 'city', 'coming', 'attack', 'heavy', 'Russian', 'shelling', '.', 'Meanwhile', ',', 'Russian', 'President', 'Vladimir', 'Putin', 'faced', 'growing', 'fallout', 'assault', 'democratic', 'neighbor', 'rallied', 'West', 'behind', 'Kyiv', 'Kremlin', ',', 'marginalizing', 'Moscow', 'international', 'stage', '.', 'Latest', 'updates', 'Ukraine', ':', 'Ukraine', '’', 'position', 'bolstered', 'staunch', 'early', 'resistance', ',', 'military', 'assistance', 'countries', 'around', 'world', 'growing', 'sanctions', 'effort', 'sent', 'Moscow', '’', 'economy', 'reeling', '.', 'The', 'conflict', 'also', 'fought', 'shadow', 'nuclear', 'threats', ';', 'Russian', 'military', 'said', 'Monday', 'nuclear', 'deterrent', 'forces', 'put', 'high', 'alert', 'Putin', '’', 'order', '.', 'While', 'growing', 'numbers', 'people', 'fled', 'Russian', 'advance', ',', 'stayed', 'enduring', 'air', 'assault', 'Kyiv', 'international', 'watchdogs', 'said', 'increasingly', 'hitting', 'civilians', '.', 'Russian', 'forces', 'accused', 'carrying', 'massive', 'shelling', 'Ukraine', '’', 'second-largest', 'city', ',', 'Kharkiv', '.', 'Graphic', 'video', 'shared', 'social', 'media', 'Monday', 'appeared', 'show', 'assault', 'aftermath', '.', 'In', 'one', 'video', ',', 'bodies', 'seen', 'ground', 'pools', 'blood', '.', 'Ukrainian', 'interior', 'ministry', 'adviser', 'Anton', 'Gerashchenko', 'shared', 'video', 'appearing', 'show', 'flashes', 'sky', 'smoke', 'filled', 'air', 'said', 'dozens', 'people', 'killed', 'hundreds', 'wounded', '.', 'This', 'horror', 'must', 'seen', 'whole', 'world', ',', 'said', '.', 'NBC', 'News', 'verified', 'video', 'authentic', ',', 'confirmed', 'reports', 'casualties', 'incident', '.', 'Russia', 'repeatedly', 'denied', 'targeting', 'civilians', '.', 'Speaking', 'reporters', 'Monday', ',', 'Ukraine', \"'s\", 'ambassador', 'United', 'States', ',', 'Oksana', 'Markarova', ',', 'claimed', 'Russian', 'military', 'also', 'used', '“', 'vacuum', 'bomb.', '”', 'The', 'highly', 'explosive', 'weapon', 'uses', 'air', 'trigger', 'blast', '“', 'particularly', 'devastating', 'confined', 'environments', ',', 'urban', 'areas', ',', '”', 'N.R', '.', 'Jenzen-Jones', ',', 'director', 'Armament', 'Research', 'Services', ',', 'told', 'NBC', 'News', 'interview', '.', 'Markarova', \"n't\", 'say', 'weapon', ',', 'also', 'known', 'thermobaric', 'munition', 'fuel-air', 'explosive', ',', 'used', ',', 'provide', 'evidence', 'support', 'claim', '.', 'NBC', 'News', 'reached', 'Russia', '’', 'Defense', 'Ministry', 'Pentagon', 'comment', '.', 'If', 'weapon', 'used', 'city', ',', 'could', 'constitute', 'war', 'crime', 'indiscriminate', 'effect', 'civilians', ',', 'said', 'Matthew', 'Evangelista', ',', 'professor', 'history', 'political', 'science', 'Cornell', 'University', 'author', '“', 'The', 'Law', ',', 'Ethics', 'War', 'Terror.', '”', 'The', 'International', 'Criminal', 'Court', 'open', 'investigation', 'possible', 'war', 'crimes', 'crimes', 'humanity', 'Ukraine', ',', 'prosecutor', 'Karim', 'Khan', 'said', 'statement', 'Monday', '.', 'There', '“', 'reasonable', 'basis', '”', 'believe', 'Russia', 'committed', ',', 'Khan', 'said', '.', 'U.N.', 'human', 'rights', 'chief', 'Michelle', 'Bachelet', 'said', 'Monday', '102', 'civilians', ',', 'seven', 'children', ',', 'killed', 'across', 'Ukraine', 'since', 'Thursday', '.', 'But', 'figures', 'probably', 'undercounted', 'full', 'extent', 'national', 'death', 'toll', ',', 'said', '.', 'The', 'head', 'U.N.', 'refugee', 'agency', ',', 'meanwhile', ',', 'said', 'half', 'million', 'people', 'fled', 'country', '44', 'million', '.', 'Others', 'sought', 'shelter', 'inside', 'metro', 'stations', 'parking', 'garages', 'missile', 'strikes', 'gunfire', 'hit', 'cities', '.', 'As', 'Russian', 'troops', 'bore', 'capital', ',', 'strict', '39-hour', 'curfew', 'kept', 'people', 'Kyiv', \"'s\", 'streets', 'weekend', 'ended', 'early', 'Monday', '.', 'Residents', 'stepped', 'Monday', 'replenish', 'supplies', 'waited', 'line', 'supermarkets', 'wail', 'air', 'raid', 'sirens', '.', '“', 'We', 'calm', 'lot', 'resolve', ',', '”', 'Vadym', 'Khortiuk', ',', '28', ',', 'said', ',', 'adding', 'hopes', 'boosted', 'fact', 'lot', 'support', 'friends', 'West', '.', 'The', 'support', 'taken', 'form', 'increasing', 'pledges', 'weapons', 'military', 'equipment', ',', 'also', 'concerted', 'effort', 'make', 'Putin', 'pay', 'invasion', 'economically', '.', 'Finland', ',', 'example', ',', 'announced', 'Monday', 'would', 'ship', '2,500', 'assault', 'rifles', ',', '150,000', 'bullets', ',', '1,500', 'antitank', 'weapons', '70,000', 'food', 'packages', 'Ukraine', '.', 'Ukraine', 'sought', 'tighten', 'bond', 'West', 'Monday', ',', 'formally', 'applying', 'join', 'European', 'Union', '.', 'Ukrainian', 'President', 'Volodymyr', 'Zelenskyy', 'posted', 'photos', 'signing', 'application', 'appealed', 'E.U', '.', 'accept', 'Ukraine', 'immediately', '.', 'Crippling', 'sanctions', 'imposed', 'U.S.', 'allies', 'sent', 'ruble', 'plunging', 'record', 'lows', 'early', 'Monday', ',', 'Russia', '’', 'central', 'bank', 'kept', 'stock', 'market', 'closed', 'raised', 'interest', 'rate', '20', 'percent', '9.5', 'percent', 'shore', 'plummeting', 'national', 'currency', 'prevent', 'run', 'banks', '.', 'The', 'U.S.', 'continued', 'ramp', 'pressure', ',', 'announcing', 'would', 'expand', 'sanctions', 'country', '’', 'central', 'bank', ',', 'prohibit', 'Americans', 'business', ',', 'freeze', 'assets', 'bank', 'holds', 'U.S', '.', 'The', 'U.S.', 'also', 'begun', 'expelling', '12', 'Russian', 'intelligence', 'operatives', 'Russian', 'mission', 'United', 'Nations', ',', 'White', 'House', 'press', 'secretary', 'Jen', 'Psaki', 'said', 'Monday', '.', 'Psaki', 'said', 'move', ',', 'works', 'several', 'months', ',', 'made', 'operatives', 'engaging', 'activities', 'described', '“', 'adverse', 'national', 'security.', '”', 'Switzerland', ',', 'traditionally', 'neutral', 'party', 'international', 'affairs', ',', 'announced', 'Monday', 'would', 'sanction', 'Russia', ',', '.', 'Kremlin', 'spokesman', 'Dmitry', 'Peskov', 'admitted', '“', 'Russia', '’', 'economic', 'reality', 'changed', '”', '“', 'heavy', '”', 'sanctions', ',', 'said', 'country', 'prepared', 'able', 'handle', 'damage', '.', 'Putin', 'met', 'advisers', 'economy', 'Monday', ',', 'calling', 'West', '“', 'empire', 'lies', '”', 'remarks', 'broadcast', 'state', 'television', '.', 'Russia', 'also', 'closed', 'airspace', 'airlines', 'E.U', '.', 'several', 'countries', 'retaliation', 'bloc', '’', 'ban', 'travel', 'Russian', 'planes', 'airspace', '.', 'With', 'mind', ',', 'U.S.', 'urged', 'citizens', 'consider', 'leaving', 'Russia', 'immediately', 'given', 'dwindling', 'number', 'commercial', 'options', 'available', '.', 'Washington', 'also', 'authorized', 'voluntary', 'departure', 'nonemergency', 'employees', 'family', 'embassy', 'Moscow', 'announced', 'suspended', 'operations', 'embassy', 'Minsk', ',', 'Belarus', '.', 'With', 'global', 'pressure', 'growing', ',', 'U.N.', 'General', 'Assembly', 'held', 'rare', 'emergency', 'special', 'session', 'Monday', '193', 'member', 'states', '.', 'The', 'U.S.', 'ambassador', 'U.N.', ',', 'Linda', 'Thomas-Greenfield', ',', 'said', 'hoped', 'body', 'vote', 'resolution', 'condemn', 'Russia', '’', 'actions', 'early', 'Wednesday', '.', 'In', 'wake', 'invasion', ',', 'cultural', 'institutions', 'sports', 'organizations', 'moved', 'isolate', 'Russia', '.', 'FIFA', 'UEFA', 'announced', 'Monday', 'Russian', 'clubs', 'national', 'teams', 'would', 'suspended', 'international', 'European', 'soccer', 'competitions', '.', 'Zelenskyy', 'said', 'doubted', 'talks', 'Russia', 'would', 'produce', 'results', '.', 'But', 'country', \"'s\", 'forces', 'slowed', 'Russia', '’', 'advance', 'still', 'hold', 'capital', ',', 'Kyiv', ',', 'well', 'Kharkiv', ',', 'near', 'Russian', 'border', ',', 'key', 'cities', 'heavy', 'fighting', '.', '“', 'The', 'bulk', 'Putin', '’', 'ground', 'forces', 'remain', '30', 'km', '[', '18', 'miles', ']', 'north', 'Kyiv', ',', '”', 'Britain', '’', 'Defense', 'Ministry', 'said', 'tweet', 'Monday', 'morning', '.', '“', 'Logistical', 'failures', 'staunch', 'Ukrainian', 'resistance', 'continue', 'frustrate', 'Russian', 'advance', '.', 'With', 'operation', 'moving', 'slower', 'expected', ',', 'Russia', 'bringing', 'troops', ',', 'weapons', 'equipment', ',', 'NATO', 'Secretary', 'General', 'Jens', 'Stoltenberg', 'said', '.', 'They', 'underestimated', 'resistance', 'going', 'meet', ',', '’', '’', 'making', 'less', 'progress', ',', 'Stoltenberg', 'said', 'interview', 'Monday', 'morning', 'Brussels', '.', 'He', 'added', 'new', 'wave', 'coming', 'Russia', 'Belarus', 'heavy', 'armor', 'artillery', '.', 'In', 'Ukraine', \"'s\", 'southeast', ',', 'officials', 'confirmed', 'Russian', 'forces', 'taken', 'control', 'city', 'Berdyansk', 'made', 'way', 'along', 'coast', 'toward', 'Mariupol', ',', 'key', 'port', 'city', 'considered', 'prime', 'Russian', 'target', '.', 'Zelenskyy', 'hailed', 'Ukraine', '’', 'military', 'video', 'statement', 'early', 'Monday', ',', 'said', '4,500', 'Russian', 'troops', 'killed', 'conflict', '.', 'NBC', 'News', 'verified', 'number', 'killed', 'either', 'side', '.', 'Armed', 'government-issued', 'machine', 'guns', ',', 'homemade', 'Molotov', 'cocktails', 'shovels', 'build', 'barricades', ',', 'civilians', 'helped', 'reinforce', 'army', '’', 'desperate', 'effective', 'resistance', '.', 'They', 'soon', 'joined', 'prisoners', 'combat', 'experience', 'released', ',', 'Zelenskyy', 'added', '.', 'Zelenskyy', 'Western', 'officials', 'said', 'Putin', 'intends', 'remove', 'Ukraine', '’', 'pro-Western', 'government', 'possibly', 'replace', 'Moscow-friendly', 'regime', ',', 'restoring', 'influence', 'Kremlin', 'moves', 'upend', 'post-Cold', 'War', 'order', 'continent', '.', 'The', 'conflict', 'left', 'Europe', 'facing', 'gravest', 'security', 'crisis', 'decades', '.', 'Putin', 'made', 'even', 'clearer', 'Sunday', 'issued', 'directive', 'increase', 'readiness', 'Russia', '’', 'nuclear', 'deterrent', 'forces', ',', 'citing', '“', 'aggressive', 'statements', '”', 'NATO', 'tough', 'financial', 'sanctions', 'imposed', 'U.S.', ',', 'Europe', 'others', '.', 'Russia', ',', 'like', 'NATO', 'U.S.', ',', 'thousands', 'nuclear', 'warheads', 'arsenal', '.', 'Stoltenberg', ',', 'branded', 'Putin', \"'s\", 'move', 'reckless', 'dangerous', '.', 'There', '’', 'reason', '.', 'NATO', 'threat', 'Russia', ',', 'said', '.', 'Although', 'NATO', 'moved', 'increase', 'presence', 'Eastern', 'Europe', 'wake', 'Ukraine', 'invasion', ',', 'Stoltenberg', 'repeated', 'military', 'alliance', 'intention', 'becoming', 'involved', 'conflict', '.', '“', 'We', 'responsibility', 'make', 'sure', '’', 'spiral', 'control', ',', '”', 'said', '.', '“', 'That', 'extremely', 'dangerous.', '”', 'Rachel', 'Elbaum', 'London-based', 'editor', ',', 'producer', 'writer', '.', 'Josh', 'Lederman', 'NBC', 'News', 'correspondent', '.', 'Daniel', 'Arkin', 'reporter', 'NBC', 'News', 'focuses', 'popular', 'culture', 'entertainment', 'industry', ',', 'particularly', 'film', 'television', '.', '©', '2022', 'NBC', 'UNIVERSAL']\n",
      "['Fighting', 'raged', 'around', 'key', 'cities', 'Ukraine', 'Monday', 'country', 'first', 'talks', 'Russia', 'since', 'last', 'week', '’', 'invasion', 'concluded', 'immediate', 'breakthrough', 'Even', 'Moscow', 'said', 'officials', 'negotiating', 'border', 'heard', ',', 'Ukraine', 'said', 'second-largest', 'city', 'coming', 'attack', 'heavy', 'Russian', 'shelling', 'Meanwhile', ',', 'Russian', 'President', 'Vladimir', 'Putin', 'faced', 'growing', 'fallout', 'assault', 'democratic', 'neighbor', 'rallied', 'West', 'behind', 'Kyiv', 'Kremlin', ',', 'marginalizing', 'Moscow', 'international', 'stage', 'Latest', 'updates', 'Ukraine', ':', 'Ukraine', '’', 'position', 'bolstered', 'staunch', 'early', 'resistance', ',', 'military', 'assistance', 'countries', 'around', 'world', 'growing', 'sanctions', 'effort', 'sent', 'Moscow', '’', 'economy', 'reeling', 'The', 'conflict', 'also', 'fought', 'shadow', 'nuclear', 'threats', ';', 'Russian', 'military', 'said', 'Monday', 'nuclear', 'deterrent', 'forces', 'put', 'high', 'alert', 'Putin', '’', 'order', 'While', 'growing', 'numbers', 'people', 'fled', 'Russian', 'advance', ',', 'stayed', 'enduring', 'air', 'assault', 'Kyiv', 'international', 'watchdogs', 'said', 'increasingly', 'hitting', 'civilians', 'Russian', 'forces', 'accused', 'carrying', 'massive', 'shelling', 'Ukraine', '’', 'second-largest', 'city', ',', 'Kharkiv', 'Graphic', 'video', 'shared', 'social', 'media', 'Monday', 'appeared', 'show', 'assault', 'aftermath', 'In', 'one', 'video', ',', 'bodies', 'seen', 'ground', 'pools', 'blood', 'Ukrainian', 'interior', 'ministry', 'adviser', 'Anton', 'Gerashchenko', 'shared', 'video', 'appearing', 'show', 'flashes', 'sky', 'smoke', 'filled', 'air', 'said', 'dozens', 'people', 'killed', 'hundreds', 'wounded', 'This', 'horror', 'must', 'seen', 'whole', 'world', ',', 'said', 'NBC', 'News', 'verified', 'video', 'authentic', ',', 'confirmed', 'reports', 'casualties', 'incident', 'Russia', 'repeatedly', 'denied', 'targeting', 'civilians', 'Speaking', 'reporters', 'Monday', ',', 'Ukraine', 'ambassador', 'United', 'States', ',', 'Oksana', 'Markarova', ',', 'claimed', 'Russian', 'military', 'also', 'used', '“', 'vacuum', 'bomb.', '”', 'The', 'highly', 'explosive', 'weapon', 'uses', 'air', 'trigger', 'blast', '“', 'particularly', 'devastating', 'confined', 'environments', ',', 'urban', 'areas', ',', '”', 'N.R', 'Jenzen-Jones', ',', 'director', 'Armament', 'Research', 'Services', ',', 'told', 'NBC', 'News', 'interview', 'Markarova', \"n't\", 'say', 'weapon', ',', 'also', 'known', 'thermobaric', 'munition', 'fuel-air', 'explosive', ',', 'used', ',', 'provide', 'evidence', 'support', 'claim', 'NBC', 'News', 'reached', 'Russia', '’', 'Defense', 'Ministry', 'Pentagon', 'comment', 'If', 'weapon', 'used', 'city', ',', 'could', 'constitute', 'war', 'crime', 'indiscriminate', 'effect', 'civilians', ',', 'said', 'Matthew', 'Evangelista', ',', 'professor', 'history', 'political', 'science', 'Cornell', 'University', 'author', '“', 'The', 'Law', ',', 'Ethics', 'War', 'Terror.', '”', 'The', 'International', 'Criminal', 'Court', 'open', 'investigation', 'possible', 'war', 'crimes', 'crimes', 'humanity', 'Ukraine', ',', 'prosecutor', 'Karim', 'Khan', 'said', 'statement', 'Monday', 'There', '“', 'reasonable', 'basis', '”', 'believe', 'Russia', 'committed', ',', 'Khan', 'said', 'U.N.', 'human', 'rights', 'chief', 'Michelle', 'Bachelet', 'said', 'Monday', '102', 'civilians', ',', 'seven', 'children', ',', 'killed', 'across', 'Ukraine', 'since', 'Thursday', 'But', 'figures', 'probably', 'undercounted', 'full', 'extent', 'national', 'death', 'toll', ',', 'said', 'The', 'head', 'U.N.', 'refugee', 'agency', ',', 'meanwhile', ',', 'said', 'half', 'million', 'people', 'fled', 'country', '44', 'million', 'Others', 'sought', 'shelter', 'inside', 'metro', 'stations', 'parking', 'garages', 'missile', 'strikes', 'gunfire', 'hit', 'cities', 'As', 'Russian', 'troops', 'bore', 'capital', ',', 'strict', '39-hour', 'curfew', 'kept', 'people', 'Kyiv', 'streets', 'weekend', 'ended', 'early', 'Monday', 'Residents', 'stepped', 'Monday', 'replenish', 'supplies', 'waited', 'line', 'supermarkets', 'wail', 'air', 'raid', 'sirens', '“', 'We', 'calm', 'lot', 'resolve', ',', '”', 'Vadym', 'Khortiuk', ',', '28', ',', 'said', ',', 'adding', 'hopes', 'boosted', 'fact', 'lot', 'support', 'friends', 'West', 'The', 'support', 'taken', 'form', 'increasing', 'pledges', 'weapons', 'military', 'equipment', ',', 'also', 'concerted', 'effort', 'make', 'Putin', 'pay', 'invasion', 'economically', 'Finland', ',', 'example', ',', 'announced', 'Monday', 'would', 'ship', '2,500', 'assault', 'rifles', ',', '150,000', 'bullets', ',', '1,500', 'antitank', 'weapons', '70,000', 'food', 'packages', 'Ukraine', 'Ukraine', 'sought', 'tighten', 'bond', 'West', 'Monday', ',', 'formally', 'applying', 'join', 'European', 'Union', 'Ukrainian', 'President', 'Volodymyr', 'Zelenskyy', 'posted', 'photos', 'signing', 'application', 'appealed', 'E.U', 'accept', 'Ukraine', 'immediately', 'Crippling', 'sanctions', 'imposed', 'U.S.', 'allies', 'sent', 'ruble', 'plunging', 'record', 'lows', 'early', 'Monday', ',', 'Russia', '’', 'central', 'bank', 'kept', 'stock', 'market', 'closed', 'raised', 'interest', 'rate', '20', 'percent', '9.5', 'percent', 'shore', 'plummeting', 'national', 'currency', 'prevent', 'run', 'banks', 'The', 'U.S.', 'continued', 'ramp', 'pressure', ',', 'announcing', 'would', 'expand', 'sanctions', 'country', '’', 'central', 'bank', ',', 'prohibit', 'Americans', 'business', ',', 'freeze', 'assets', 'bank', 'holds', 'U.S', 'The', 'U.S.', 'also', 'begun', 'expelling', '12', 'Russian', 'intelligence', 'operatives', 'Russian', 'mission', 'United', 'Nations', ',', 'White', 'House', 'press', 'secretary', 'Jen', 'Psaki', 'said', 'Monday', 'Psaki', 'said', 'move', ',', 'works', 'several', 'months', ',', 'made', 'operatives', 'engaging', 'activities', 'described', '“', 'adverse', 'national', 'security.', '”', 'Switzerland', ',', 'traditionally', 'neutral', 'party', 'international', 'affairs', ',', 'announced', 'Monday', 'would', 'sanction', 'Russia', ',', 'Kremlin', 'spokesman', 'Dmitry', 'Peskov', 'admitted', '“', 'Russia', '’', 'economic', 'reality', 'changed', '”', '“', 'heavy', '”', 'sanctions', ',', 'said', 'country', 'prepared', 'able', 'handle', 'damage', 'Putin', 'met', 'advisers', 'economy', 'Monday', ',', 'calling', 'West', '“', 'empire', 'lies', '”', 'remarks', 'broadcast', 'state', 'television', 'Russia', 'also', 'closed', 'airspace', 'airlines', 'E.U', 'several', 'countries', 'retaliation', 'bloc', '’', 'ban', 'travel', 'Russian', 'planes', 'airspace', 'With', 'mind', ',', 'U.S.', 'urged', 'citizens', 'consider', 'leaving', 'Russia', 'immediately', 'given', 'dwindling', 'number', 'commercial', 'options', 'available', 'Washington', 'also', 'authorized', 'voluntary', 'departure', 'nonemergency', 'employees', 'family', 'embassy', 'Moscow', 'announced', 'suspended', 'operations', 'embassy', 'Minsk', ',', 'Belarus', 'With', 'global', 'pressure', 'growing', ',', 'U.N.', 'General', 'Assembly', 'held', 'rare', 'emergency', 'special', 'session', 'Monday', '193', 'member', 'states', 'The', 'U.S.', 'ambassador', 'U.N.', ',', 'Linda', 'Thomas-Greenfield', ',', 'said', 'hoped', 'body', 'vote', 'resolution', 'condemn', 'Russia', '’', 'actions', 'early', 'Wednesday', 'In', 'wake', 'invasion', ',', 'cultural', 'institutions', 'sports', 'organizations', 'moved', 'isolate', 'Russia', 'FIFA', 'UEFA', 'announced', 'Monday', 'Russian', 'clubs', 'national', 'teams', 'would', 'suspended', 'international', 'European', 'soccer', 'competitions', 'Zelenskyy', 'said', 'doubted', 'talks', 'Russia', 'would', 'produce', 'results', 'But', 'country', 'forces', 'slowed', 'Russia', '’', 'advance', 'still', 'hold', 'capital', ',', 'Kyiv', ',', 'well', 'Kharkiv', ',', 'near', 'Russian', 'border', ',', 'key', 'cities', 'heavy', 'fighting', '“', 'The', 'bulk', 'Putin', '’', 'ground', 'forces', 'remain', '30', 'km', '[', '18', 'miles', ']', 'north', 'Kyiv', ',', '”', 'Britain', '’', 'Defense', 'Ministry', 'said', 'tweet', 'Monday', 'morning', '“', 'Logistical', 'failures', 'staunch', 'Ukrainian', 'resistance', 'continue', 'frustrate', 'Russian', 'advance', 'With', 'operation', 'moving', 'slower', 'expected', ',', 'Russia', 'bringing', 'troops', ',', 'weapons', 'equipment', ',', 'NATO', 'Secretary', 'General', 'Jens', 'Stoltenberg', 'said', 'They', 'underestimated', 'resistance', 'going', 'meet', ',', '’', '’', 'making', 'less', 'progress', ',', 'Stoltenberg', 'said', 'interview', 'Monday', 'morning', 'Brussels', 'He', 'added', 'new', 'wave', 'coming', 'Russia', 'Belarus', 'heavy', 'armor', 'artillery', 'In', 'Ukraine', 'southeast', ',', 'officials', 'confirmed', 'Russian', 'forces', 'taken', 'control', 'city', 'Berdyansk', 'made', 'way', 'along', 'coast', 'toward', 'Mariupol', ',', 'key', 'port', 'city', 'considered', 'prime', 'Russian', 'target', 'Zelenskyy', 'hailed', 'Ukraine', '’', 'military', 'video', 'statement', 'early', 'Monday', ',', 'said', '4,500', 'Russian', 'troops', 'killed', 'conflict', 'NBC', 'News', 'verified', 'number', 'killed', 'either', 'side', 'Armed', 'government-issued', 'machine', 'guns', ',', 'homemade', 'Molotov', 'cocktails', 'shovels', 'build', 'barricades', ',', 'civilians', 'helped', 'reinforce', 'army', '’', 'desperate', 'effective', 'resistance', 'They', 'soon', 'joined', 'prisoners', 'combat', 'experience', 'released', ',', 'Zelenskyy', 'added', 'Zelenskyy', 'Western', 'officials', 'said', 'Putin', 'intends', 'remove', 'Ukraine', '’', 'pro-Western', 'government', 'possibly', 'replace', 'Moscow-friendly', 'regime', ',', 'restoring', 'influence', 'Kremlin', 'moves', 'upend', 'post-Cold', 'War', 'order', 'continent', 'The', 'conflict', 'left', 'Europe', 'facing', 'gravest', 'security', 'crisis', 'decades', 'Putin', 'made', 'even', 'clearer', 'Sunday', 'issued', 'directive', 'increase', 'readiness', 'Russia', '’', 'nuclear', 'deterrent', 'forces', ',', 'citing', '“', 'aggressive', 'statements', '”', 'NATO', 'tough', 'financial', 'sanctions', 'imposed', 'U.S.', ',', 'Europe', 'others', 'Russia', ',', 'like', 'NATO', 'U.S.', ',', 'thousands', 'nuclear', 'warheads', 'arsenal', 'Stoltenberg', ',', 'branded', 'Putin', 'move', 'reckless', 'dangerous', 'There', '’', 'reason', 'NATO', 'threat', 'Russia', ',', 'said', 'Although', 'NATO', 'moved', 'increase', 'presence', 'Eastern', 'Europe', 'wake', 'Ukraine', 'invasion', ',', 'Stoltenberg', 'repeated', 'military', 'alliance', 'intention', 'becoming', 'involved', 'conflict', '“', 'We', 'responsibility', 'make', 'sure', '’', 'spiral', 'control', ',', '”', 'said', '“', 'That', 'extremely', 'dangerous.', '”', 'Rachel', 'Elbaum', 'London-based', 'editor', ',', 'producer', 'writer', 'Josh', 'Lederman', 'NBC', 'News', 'correspondent', 'Daniel', 'Arkin', 'reporter', 'NBC', 'News', 'focuses', 'popular', 'culture', 'entertainment', 'industry', ',', 'particularly', 'film', 'television', '©', '2022', 'NBC', 'UNIVERSAL']\n"
     ]
    }
   ],
   "source": [
    "#sometime you need to define your stopwords\n",
    "#for example I define user_stopwords as below\n",
    "user_stopwords = [\"'s\",\".\",\"ca\"]\n",
    "#then remove these stopwords\n",
    "filtered_tokens_2 = [word for word in filtered_tokens if not word in user_stopwords]\n",
    "print(text1_tokens)\n",
    "print(filtered_tokens)\n",
    "print(filtered_tokens_2)"
   ]
  },
  {
   "cell_type": "markdown",
   "metadata": {
    "id": "6Ea7rngmpsfp"
   },
   "source": [
    "# 8.Term Frequency"
   ]
  },
  {
   "cell_type": "code",
   "execution_count": null,
   "metadata": {
    "colab": {
     "base_uri": "https://localhost:8080/"
    },
    "id": "VO4aDFkONBDq",
    "outputId": "7728c2fa-8e4d-4b57-cae9-e69c746673b6"
   },
   "outputs": [
    {
     "name": "stdout",
     "output_type": "stream",
     "text": [
      "['this', 'is', 'a', 'good', 'sample']\n",
      "['this', 'is', 'another', 'example', 'another', 'example', 'example']\n"
     ]
    }
   ],
   "source": [
    "doc1=\"this is a good sample\"\n",
    "doc2= \"this is another example another example example\"\n",
    "\n",
    "doc1_tokens = doc1.split()\n",
    "doc2_tokens = doc2.split()\n",
    "print(doc1_tokens)\n",
    "print(doc2_tokens)"
   ]
  },
  {
   "cell_type": "code",
   "execution_count": null,
   "metadata": {
    "id": "4Lig6G7m3tfp"
   },
   "outputs": [],
   "source": [
    "# create tf function\n",
    "def tf(term, token_doc):\n",
    "    tf = token_doc.count(term)/len(token_doc)\n",
    "    return tf"
   ]
  },
  {
   "cell_type": "code",
   "execution_count": null,
   "metadata": {
    "colab": {
     "base_uri": "https://localhost:8080/"
    },
    "id": "rT4TFLczeA-Q",
    "outputId": "b93c9bf4-bfa2-49c4-8651-3ff92fad28a7"
   },
   "outputs": [
    {
     "data": {
      "text/plain": [
       "0.2"
      ]
     },
     "execution_count": 126,
     "metadata": {},
     "output_type": "execute_result"
    }
   ],
   "source": [
    "#test tf function\n",
    "tf(\"this\",doc1_tokens)"
   ]
  },
  {
   "cell_type": "code",
   "execution_count": null,
   "metadata": {
    "colab": {
     "base_uri": "https://localhost:8080/"
    },
    "id": "kAV6ZlDSeKU-",
    "outputId": "debf8b91-657c-4c19-bb18-2f2c05da0e08"
   },
   "outputs": [
    {
     "name": "stdout",
     "output_type": "stream",
     "text": [
      "{'this': 0.2, 'is': 0.2, 'a': 0.2, 'good': 0.2, 'sample': 0.2}\n"
     ]
    }
   ],
   "source": [
    "#calculate term frequency in doc1:\n",
    "doc1_tf ={} # defien doc1_tf is dictionary structure\n",
    "for word in doc1_tokens:\n",
    "  doc1_tf[word]=tf(word,doc1_tokens)\n",
    "print(doc1_tf)"
   ]
  },
  {
   "cell_type": "code",
   "execution_count": null,
   "metadata": {
    "colab": {
     "base_uri": "https://localhost:8080/"
    },
    "id": "YlZ_UsyBeuzS",
    "outputId": "ad8b9faa-90d2-419c-aa6e-dd337ccd77a5"
   },
   "outputs": [
    {
     "name": "stdout",
     "output_type": "stream",
     "text": [
      "{'this': 0.14285714285714285, 'is': 0.14285714285714285, 'another': 0.2857142857142857, 'example': 0.42857142857142855}\n"
     ]
    }
   ],
   "source": [
    "#calculate term frequency in doc2:\n",
    "doc2_tf ={} # defien doc1_tf is dictionary structure\n",
    "for word in doc2_tokens:\n",
    "  doc2_tf[word]=tf(word,doc2_tokens)\n",
    "print(doc2_tf)"
   ]
  },
  {
   "cell_type": "code",
   "execution_count": null,
   "metadata": {
    "colab": {
     "base_uri": "https://localhost:8080/",
     "height": 112
    },
    "id": "nw7bb-kjfK6F",
    "outputId": "f0e6ad0c-9b74-423c-a39b-aa453b21bc5e"
   },
   "outputs": [
    {
     "data": {
      "text/html": [
       "\n",
       "  <div id=\"df-c70c9fe9-e855-4774-8484-d69b206116a0\">\n",
       "    <div class=\"colab-df-container\">\n",
       "      <div>\n",
       "<style scoped>\n",
       "    .dataframe tbody tr th:only-of-type {\n",
       "        vertical-align: middle;\n",
       "    }\n",
       "\n",
       "    .dataframe tbody tr th {\n",
       "        vertical-align: top;\n",
       "    }\n",
       "\n",
       "    .dataframe thead th {\n",
       "        text-align: right;\n",
       "    }\n",
       "</style>\n",
       "<table border=\"1\" class=\"dataframe\">\n",
       "  <thead>\n",
       "    <tr style=\"text-align: right;\">\n",
       "      <th></th>\n",
       "      <th>this</th>\n",
       "      <th>is</th>\n",
       "      <th>a</th>\n",
       "      <th>good</th>\n",
       "      <th>sample</th>\n",
       "      <th>another</th>\n",
       "      <th>example</th>\n",
       "    </tr>\n",
       "  </thead>\n",
       "  <tbody>\n",
       "    <tr>\n",
       "      <th>doc1</th>\n",
       "      <td>0.200000</td>\n",
       "      <td>0.200000</td>\n",
       "      <td>0.2</td>\n",
       "      <td>0.2</td>\n",
       "      <td>0.2</td>\n",
       "      <td>NaN</td>\n",
       "      <td>NaN</td>\n",
       "    </tr>\n",
       "    <tr>\n",
       "      <th>doc2</th>\n",
       "      <td>0.142857</td>\n",
       "      <td>0.142857</td>\n",
       "      <td>NaN</td>\n",
       "      <td>NaN</td>\n",
       "      <td>NaN</td>\n",
       "      <td>0.285714</td>\n",
       "      <td>0.428571</td>\n",
       "    </tr>\n",
       "  </tbody>\n",
       "</table>\n",
       "</div>\n",
       "      <button class=\"colab-df-convert\" onclick=\"convertToInteractive('df-c70c9fe9-e855-4774-8484-d69b206116a0')\"\n",
       "              title=\"Convert this dataframe to an interactive table.\"\n",
       "              style=\"display:none;\">\n",
       "        \n",
       "  <svg xmlns=\"http://www.w3.org/2000/svg\" height=\"24px\"viewBox=\"0 0 24 24\"\n",
       "       width=\"24px\">\n",
       "    <path d=\"M0 0h24v24H0V0z\" fill=\"none\"/>\n",
       "    <path d=\"M18.56 5.44l.94 2.06.94-2.06 2.06-.94-2.06-.94-.94-2.06-.94 2.06-2.06.94zm-11 1L8.5 8.5l.94-2.06 2.06-.94-2.06-.94L8.5 2.5l-.94 2.06-2.06.94zm10 10l.94 2.06.94-2.06 2.06-.94-2.06-.94-.94-2.06-.94 2.06-2.06.94z\"/><path d=\"M17.41 7.96l-1.37-1.37c-.4-.4-.92-.59-1.43-.59-.52 0-1.04.2-1.43.59L10.3 9.45l-7.72 7.72c-.78.78-.78 2.05 0 2.83L4 21.41c.39.39.9.59 1.41.59.51 0 1.02-.2 1.41-.59l7.78-7.78 2.81-2.81c.8-.78.8-2.07 0-2.86zM5.41 20L4 18.59l7.72-7.72 1.47 1.35L5.41 20z\"/>\n",
       "  </svg>\n",
       "      </button>\n",
       "      \n",
       "  <style>\n",
       "    .colab-df-container {\n",
       "      display:flex;\n",
       "      flex-wrap:wrap;\n",
       "      gap: 12px;\n",
       "    }\n",
       "\n",
       "    .colab-df-convert {\n",
       "      background-color: #E8F0FE;\n",
       "      border: none;\n",
       "      border-radius: 50%;\n",
       "      cursor: pointer;\n",
       "      display: none;\n",
       "      fill: #1967D2;\n",
       "      height: 32px;\n",
       "      padding: 0 0 0 0;\n",
       "      width: 32px;\n",
       "    }\n",
       "\n",
       "    .colab-df-convert:hover {\n",
       "      background-color: #E2EBFA;\n",
       "      box-shadow: 0px 1px 2px rgba(60, 64, 67, 0.3), 0px 1px 3px 1px rgba(60, 64, 67, 0.15);\n",
       "      fill: #174EA6;\n",
       "    }\n",
       "\n",
       "    [theme=dark] .colab-df-convert {\n",
       "      background-color: #3B4455;\n",
       "      fill: #D2E3FC;\n",
       "    }\n",
       "\n",
       "    [theme=dark] .colab-df-convert:hover {\n",
       "      background-color: #434B5C;\n",
       "      box-shadow: 0px 1px 3px 1px rgba(0, 0, 0, 0.15);\n",
       "      filter: drop-shadow(0px 1px 2px rgba(0, 0, 0, 0.3));\n",
       "      fill: #FFFFFF;\n",
       "    }\n",
       "  </style>\n",
       "\n",
       "      <script>\n",
       "        const buttonEl =\n",
       "          document.querySelector('#df-c70c9fe9-e855-4774-8484-d69b206116a0 button.colab-df-convert');\n",
       "        buttonEl.style.display =\n",
       "          google.colab.kernel.accessAllowed ? 'block' : 'none';\n",
       "\n",
       "        async function convertToInteractive(key) {\n",
       "          const element = document.querySelector('#df-c70c9fe9-e855-4774-8484-d69b206116a0');\n",
       "          const dataTable =\n",
       "            await google.colab.kernel.invokeFunction('convertToInteractive',\n",
       "                                                     [key], {});\n",
       "          if (!dataTable) return;\n",
       "\n",
       "          const docLinkHtml = 'Like what you see? Visit the ' +\n",
       "            '<a target=\"_blank\" href=https://colab.research.google.com/notebooks/data_table.ipynb>data table notebook</a>'\n",
       "            + ' to learn more about interactive tables.';\n",
       "          element.innerHTML = '';\n",
       "          dataTable['output_type'] = 'display_data';\n",
       "          await google.colab.output.renderOutput(dataTable, element);\n",
       "          const docLink = document.createElement('div');\n",
       "          docLink.innerHTML = docLinkHtml;\n",
       "          element.appendChild(docLink);\n",
       "        }\n",
       "      </script>\n",
       "    </div>\n",
       "  </div>\n",
       "  "
      ],
      "text/plain": [
       "          this        is    a  good  sample   another   example\n",
       "doc1  0.200000  0.200000  0.2   0.2     0.2       NaN       NaN\n",
       "doc2  0.142857  0.142857  NaN   NaN     NaN  0.285714  0.428571"
      ]
     },
     "execution_count": 129,
     "metadata": {},
     "output_type": "execute_result"
    }
   ],
   "source": [
    "#convert to pandas frame\n",
    "import pandas as pd\n",
    "tf_dict = {\"doc1\":doc1_tf,\"doc2\":doc2_tf}\n",
    "tf_dataframe = pd.DataFrame(tf_dict).transpose()\n",
    "tf_dataframe"
   ]
  },
  {
   "cell_type": "markdown",
   "metadata": {
    "id": "xi7XMb-VGSv-"
   },
   "source": [
    "## Try different!!"
   ]
  }
 ],
 "metadata": {
  "colab": {
   "collapsed_sections": [],
   "name": "week3_text_to_numerical_vector.ipynb",
   "provenance": []
  },
  "kernelspec": {
   "display_name": "Python 3 (ipykernel)",
   "language": "python",
   "name": "python3"
  },
  "language_info": {
   "codemirror_mode": {
    "name": "ipython",
    "version": 3
   },
   "file_extension": ".py",
   "mimetype": "text/x-python",
   "name": "python",
   "nbconvert_exporter": "python",
   "pygments_lexer": "ipython3",
   "version": "3.9.7"
  }
 },
 "nbformat": 4,
 "nbformat_minor": 1
}
