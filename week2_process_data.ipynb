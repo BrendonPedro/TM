{
 "cells": [
  {
   "cell_type": "markdown",
   "metadata": {
    "id": "IrfGy1aJW3na"
   },
   "source": [
    "# Computing with Language: Texts and Words"
   ]
  },
  {
   "cell_type": "markdown",
   "metadata": {
    "id": "YKfoygT0Y8Gp"
   },
   "source": [
    "Prepare packages\n",
    "Import nltk (natural language toolkit)\n",
    "\n",
    "Import matplotlib (to produce the graphical plots )\n",
    "\n",
    "Import numpy (to produce the graphical plots )"
   ]
  },
  {
   "cell_type": "code",
   "execution_count": 1,
   "metadata": {
    "colab": {
     "background_save": true
    },
    "id": "Kb3DS_3OYkrG",
    "outputId": "0e2b6654-9ef3-4932-f562-5887875f51f5"
   },
   "outputs": [
    {
     "name": "stdout",
     "output_type": "stream",
     "text": [
      "Requirement already satisfied: nltk in c:\\users\\brendon pedro\\anaconda3\\lib\\site-packages (3.6.5)\n",
      "Requirement already satisfied: click in c:\\users\\brendon pedro\\anaconda3\\lib\\site-packages (from nltk) (8.0.3)\n",
      "Requirement already satisfied: joblib in c:\\users\\brendon pedro\\anaconda3\\lib\\site-packages (from nltk) (1.1.0)\n",
      "Requirement already satisfied: regex>=2021.8.3 in c:\\users\\brendon pedro\\anaconda3\\lib\\site-packages (from nltk) (2021.8.3)\n",
      "Requirement already satisfied: tqdm in c:\\users\\brendon pedro\\anaconda3\\lib\\site-packages (from nltk) (4.62.3)\n",
      "Requirement already satisfied: colorama in c:\\users\\brendon pedro\\anaconda3\\lib\\site-packages (from click->nltk) (0.4.4)\n",
      "Requirement already satisfied: matplotlib in c:\\users\\brendon pedro\\anaconda3\\lib\\site-packages (3.4.3)\n",
      "Requirement already satisfied: pillow>=6.2.0 in c:\\users\\brendon pedro\\anaconda3\\lib\\site-packages (from matplotlib) (8.4.0)\n",
      "Requirement already satisfied: cycler>=0.10 in c:\\users\\brendon pedro\\anaconda3\\lib\\site-packages (from matplotlib) (0.10.0)\n",
      "Requirement already satisfied: kiwisolver>=1.0.1 in c:\\users\\brendon pedro\\anaconda3\\lib\\site-packages (from matplotlib) (1.3.1)\n",
      "Requirement already satisfied: python-dateutil>=2.7 in c:\\users\\brendon pedro\\anaconda3\\lib\\site-packages (from matplotlib) (2.8.2)\n",
      "Requirement already satisfied: pyparsing>=2.2.1 in c:\\users\\brendon pedro\\anaconda3\\lib\\site-packages (from matplotlib) (3.0.4)\n",
      "Requirement already satisfied: numpy>=1.16 in c:\\users\\brendon pedro\\anaconda3\\lib\\site-packages (from matplotlib) (1.20.3)\n",
      "Requirement already satisfied: six in c:\\users\\brendon pedro\\anaconda3\\lib\\site-packages (from cycler>=0.10->matplotlib) (1.16.0)\n",
      "Requirement already satisfied: numpy in c:\\users\\brendon pedro\\anaconda3\\lib\\site-packages (1.20.3)\n"
     ]
    }
   ],
   "source": [
    "!pip3 install nltk\n",
    "!pip3 install matplotlib\n",
    "!pip3 install numpy\n",
    "\n",
    "import nltk\n",
    "import matplotlib\n",
    "import numpy"
   ]
  },
  {
   "cell_type": "code",
   "execution_count": 2,
   "metadata": {
    "id": "d2W_43guXn2j"
   },
   "outputs": [
    {
     "name": "stdout",
     "output_type": "stream",
     "text": [
      "['Taiwan', 'is', 'aiming', 'to', 'ease', 'its', 'strict', 'COVID-19', 'quarantine', 'policy', 'from', 'next', 'month', 'as', 'it', 'needs', 'to', 'gradually', 'resume', 'normal', 'life', 'and', 'reopen', 'to', 'the', 'world,', 'the', 'government', 'said', 'yesterday.', 'Since', 'the', 'COVID-19', 'pandemic', 'began', 'two', 'years', 'ago,', 'Taiwan', 'has', 'succeeded', 'in', 'keeping', 'reported', 'cases', 'below', '20,000,', 'having', 'enforced', 'a', 'blanket', 'two-week', 'quarantine', 'for', 'everyone', 'arriving', 'in', 'the', 'nation,', 'even', 'as', 'large', 'parts', 'of', 'the', 'rest', 'of', 'the', 'world', 'have', 'reopened.']\n"
     ]
    }
   ],
   "source": [
    "mytext=\"Taiwan is aiming to ease its strict COVID-19 quarantine policy from next month as it needs to gradually resume normal life and reopen to the world, the government said yesterday. Since the COVID-19 pandemic began two years ago, Taiwan has succeeded in keeping reported cases below 20,000, having enforced a blanket two-week quarantine for everyone arriving in the nation, even as large parts of the rest of the world have reopened.\"\n",
    "saying=mytext.split(\" \")\n",
    "\n",
    "print(saying)\n"
   ]
  },
  {
   "cell_type": "markdown",
   "metadata": {
    "id": "N8lsTOWCXp7r"
   },
   "source": [
    "From my first python code..."
   ]
  },
  {
   "cell_type": "markdown",
   "metadata": {
    "id": "uop2MVuiYGSs"
   },
   "source": [
    "Easy sorting"
   ]
  },
  {
   "cell_type": "code",
   "execution_count": 3,
   "metadata": {
    "id": "3Jz1NsQ1UyVt"
   },
   "outputs": [
    {
     "data": {
      "text/plain": [
       "['years', 'yesterday.']"
      ]
     },
     "execution_count": 3,
     "metadata": {},
     "output_type": "execute_result"
    }
   ],
   "source": [
    " tokens = set(saying)\n",
    " # set(): Set items are unordered, unchangeable, and do not allow duplicate values.\n",
    " tokens = sorted(tokens)\n",
    " # sorted(iterable, key, reverse=False)\n",
    "\n",
    " tokens[-2:]"
   ]
  },
  {
   "cell_type": "code",
   "execution_count": 4,
   "metadata": {
    "id": "uqBq60yjbFBy"
   },
   "outputs": [
    {
     "data": {
      "text/plain": [
       "58"
      ]
     },
     "execution_count": 4,
     "metadata": {},
     "output_type": "execute_result"
    }
   ],
   "source": [
    "len(tokens)"
   ]
  },
  {
   "cell_type": "code",
   "execution_count": 5,
   "metadata": {
    "id": "AJC01MuOeBpd"
   },
   "outputs": [
    {
     "data": {
      "text/plain": [
       "<Figure size 2160x1440 with 0 Axes>"
      ]
     },
     "metadata": {},
     "output_type": "display_data"
    }
   ],
   "source": [
    "from nltk import FreqDist\n",
    "\n",
    "import matplotlib.pyplot as plt\n",
    "plt.figure(figsize=(30, 20)) \n",
    "parameters = {'axes.labelsize': 15,\n",
    "          'axes.titlesize': 35}\n",
    "plt.rcParams.update(parameters)\n",
    "\n",
    "\n",
    "\n"
   ]
  },
  {
   "cell_type": "code",
   "execution_count": 6,
   "metadata": {
    "id": "cFvziqPz0p4d"
   },
   "outputs": [
    {
     "data": {
      "text/plain": [
       "FreqDist({'the': 6, 'to': 3, 'Taiwan': 2, 'COVID-19': 2, 'quarantine': 2, 'as': 2, 'in': 2, 'of': 2, 'is': 1, 'aiming': 1, ...})"
      ]
     },
     "execution_count": 6,
     "metadata": {},
     "output_type": "execute_result"
    }
   ],
   "source": [
    "fdist1 = FreqDist(saying)\n",
    "fdist1"
   ]
  },
  {
   "cell_type": "code",
   "execution_count": 7,
   "metadata": {
    "id": "E9VFeKgvew3C"
   },
   "outputs": [
    {
     "data": {
      "image/png": "[encoded data removed]",
      "text/plain": [
       "<Figure size 432x288 with 1 Axes>"
      ]
     },
     "metadata": {
      "needs_background": "light"
     },
     "output_type": "display_data"
    },
    {
     "data": {
      "text/plain": [
       "<AxesSubplot:xlabel='Samples', ylabel='Cumulative Counts'>"
      ]
     },
     "execution_count": 7,
     "metadata": {},
     "output_type": "execute_result"
    }
   ],
   "source": [
    "fdist1.plot(10, cumulative=True)"
   ]
  },
  {
   "cell_type": "markdown",
   "metadata": {
    "id": "Ny7PDJS5hkOh"
   },
   "source": []
  },
  {
   "cell_type": "markdown",
   "metadata": {
    "id": "9hoOF_t81vUW"
   },
   "source": [
    "# Processing Raw Text"
   ]
  },
  {
   "cell_type": "markdown",
   "metadata": {
    "id": "lzizaydk1-Nu"
   },
   "source": [
    "## Scraping from the web"
   ]
  },
  {
   "cell_type": "markdown",
   "metadata": {
    "id": "2xE1joAM_2se"
   },
   "source": [
    "### Step 1: install beautifulsoup"
   ]
  },
  {
   "cell_type": "code",
   "execution_count": 8,
   "metadata": {
    "id": "kWLWvASRhj0l"
   },
   "outputs": [
    {
     "name": "stdout",
     "output_type": "stream",
     "text": [
      "Requirement already satisfied: beautifulsoup4 in c:\\users\\brendon pedro\\anaconda3\\lib\\site-packages (4.10.0)\n",
      "Requirement already satisfied: soupsieve>1.2 in c:\\users\\brendon pedro\\anaconda3\\lib\\site-packages (from beautifulsoup4) (2.2.1)\n"
     ]
    },
    {
     "name": "stderr",
     "output_type": "stream",
     "text": [
      "ERROR: Could not find a version that satisfies the requirement urllib (from versions: none)\n",
      "ERROR: No matching distribution found for urllib\n"
     ]
    },
    {
     "name": "stdout",
     "output_type": "stream",
     "text": [
      "Requirement already satisfied: requests in c:\\users\\brendon pedro\\anaconda3\\lib\\site-packages (2.26.0)\n",
      "Requirement already satisfied: urllib3<1.27,>=1.21.1 in c:\\users\\brendon pedro\\anaconda3\\lib\\site-packages (from requests) (1.26.7)\n",
      "Requirement already satisfied: charset-normalizer~=2.0.0 in c:\\users\\brendon pedro\\anaconda3\\lib\\site-packages (from requests) (2.0.4)\n",
      "Requirement already satisfied: idna<4,>=2.5 in c:\\users\\brendon pedro\\anaconda3\\lib\\site-packages (from requests) (3.2)\n",
      "Requirement already satisfied: certifi>=2017.4.17 in c:\\users\\brendon pedro\\anaconda3\\lib\\site-packages (from requests) (2021.10.8)\n"
     ]
    }
   ],
   "source": [
    "!pip install beautifulsoup4\n",
    "!pip install urllib\n",
    "!pip install requests\n",
    "\n",
    "from bs4 import BeautifulSoup\n",
    "from urllib.request import urlopen\n",
    "\n",
    "import requests\n",
    "\n"
   ]
  },
  {
   "cell_type": "markdown",
   "metadata": {
    "id": "nqJ7eq96_8Bg"
   },
   "source": [
    "### Step 2: Make a test"
   ]
  },
  {
   "cell_type": "code",
   "execution_count": 9,
   "metadata": {
    "id": "kCAuXjUYjmM1"
   },
   "outputs": [
    {
     "name": "stdout",
     "output_type": "stream",
     "text": [
      "<h1>An Interesting Title</h1>\n",
      "<div>\n",
      "Lorem ipsum dolor sit amet, consectetur adipisicing elit, sed do eiusmod tempor incididunt ut labore et dolore magna aliqua. Ut enim ad minim veniam, quis nostrud exercitation ullamco laboris nisi ut aliquip ex ea commodo consequat. Duis aute irure dolor in reprehenderit in voluptate velit esse cillum dolore eu fugiat nulla pariatur. Excepteur sint occaecat cupidatat non proident, sunt in culpa qui officia deserunt mollit anim id est laborum.\n",
      "</div>\n"
     ]
    }
   ],
   "source": [
    "html = urlopen('http://www.pythonscraping.com/pages/page1.html')\n",
    "bs = BeautifulSoup(html.read(), 'html.parser')\n",
    "print(bs.h1)\n",
    "print(bs.div)\n"
   ]
  },
  {
   "cell_type": "markdown",
   "metadata": {
    "id": "TN6z22E_kvPZ"
   },
   "source": [
    "**Your first self-defined function**"
   ]
  },
  {
   "cell_type": "code",
   "execution_count": 10,
   "metadata": {
    "id": "Vm5Dk6m1k1HJ"
   },
   "outputs": [
    {
     "name": "stdout",
     "output_type": "stream",
     "text": [
      "['An Interesting Title']\n"
     ]
    }
   ],
   "source": [
    "def getTitle(url):\n",
    "    try:\n",
    "        html = urlopen(url)\n",
    "    except HTTPError as e:\n",
    "        return None\n",
    "    try:\n",
    "        bs = BeautifulSoup(html.read(), 'html.parser')\n",
    "        title = bs.body.h1.contents\n",
    "    except AttributeError as e:\n",
    "        return None\n",
    "    return title\n",
    "    \n",
    "title = getTitle('http://www.pythonscraping.com/pages/page1.html')\n",
    "print(title)"
   ]
  },
  {
   "cell_type": "markdown",
   "metadata": {
    "id": "9dC3id2sAGAR"
   },
   "source": [
    "### Step3: Scrape news...(Don't try it too frequently)"
   ]
  },
  {
   "cell_type": "code",
   "execution_count": 11,
   "metadata": {
    "id": "7trpOb1Lr9Z5"
   },
   "outputs": [
    {
     "name": "stdout",
     "output_type": "stream",
     "text": [
      "date = 02-27-22\n",
      "60\n"
     ]
    },
    {
     "data": {
      "text/plain": [
       "['Will Russia-Ukraine conflict slow summer travel to Europe?',\n",
       " 'Chris Licht to become new CNN president following Jeff Zucker ouster',\n",
       " 'Peloton attempts to find its footing after several high-profile blunders',\n",
       " 'Investor fears over Russia-Ukraine conflict are overblown, experts say',\n",
       " 'Russia-Ukraine conflict impacts U.S. economy',\n",
       " \"The Russia-Ukraine conflict will 'test' U.S. consumers on multiple fronts, experts say\",\n",
       " \"SWIFT banking system could be used as a sanction against Russia. Here's what it is.\",\n",
       " 'Oil prices jump as Russia launches attack on Ukraine',\n",
       " 'Ukraine crisis could create more woes for auto industry',\n",
       " \"An Afro Latina's mission to embrace natural hair gets push from beauty giant \",\n",
       " 'Target lifts mask requirements for staff and shoppers',\n",
       " 'Gas prices are on the rise as Russia launches invasion of Ukraine',\n",
       " 'Extended stay hotels play the long game ',\n",
       " 'Consumers and markets may be in for wild ride as oil prices rise',\n",
       " 'The case for bitcoin as ‘digital gold’ is falling apart',\n",
       " \"'I would pay anything': Parents needing formula are left empty handed due to shortage\",\n",
       " 'Contract worker injured in Louisiana refinery explosion and fire, company says',\n",
       " 'Small businesses say they are hurt by rising costs to advertise on Amazon',\n",
       " 'Founder of collapsed $1.7 billion mutual fund charged with fraud',\n",
       " 'Car buyers trade in haggling for sticker shock',\n",
       " \"Chicago denies permit for scrapyard at heart of 'environmental injustice' battle\",\n",
       " 'Ship carrying Porsches, Audis and Bentleys is burning and adrift',\n",
       " 'As food prices increase, store brands may have an advantage',\n",
       " 'Auto industry reconsiders production systems after border protests',\n",
       " 'Retailers embrace new tracking tech on goods to crack down on theft',\n",
       " 'Cuts to California cannabis taxes would harm low-income youths, advocates say',\n",
       " 'Mexico’s avocados face fallout from violence, deforestation',\n",
       " \"'If you build it, I will come': Kevin Costner lobbies Utah for more tax rebates for film production\",\n",
       " 'What is causing inflation? Economists point fingers at different culprits',\n",
       " 'U.S. suspends Mexican avocado imports\\xa0after threat to inspector',\n",
       " 'Bird flu spread in U.S. puts poultry farms on high alert',\n",
       " 'U.S. to provide $5 billion to help states build network of EV charging stations',\n",
       " 'Expect a rise in gas and heating prices if Russia invades Ukraine, experts warn',\n",
       " 'Why were there so many crypto ads during the Super Bowl?',\n",
       " 'Super Bowl host Inglewood has undergone one of California’s most dramatic transitions',\n",
       " 'House prices soar in Inglewood, California, as the city prepares to host Super Bowl',\n",
       " 'For Canadian residents, impact of trucker protest can be seen at local grocery stores',\n",
       " 'Rent prices expected to increase another 10 percent in next year',\n",
       " 'Dow tumbles 500 points as Ukraine-Russia crisis deepens',\n",
       " 'Dow falls 500 points amid escalation of Ukraine-Russia tensions',\n",
       " 'Lower-income and minority households assuming bigger debt risks',\n",
       " 'Inflation rate rose 7.5 percent over previous January as price hikes persist',\n",
       " \"'It will only get worse': Trucker protests hurt auto plants across North America\",\n",
       " 'Tesla sued by California agency, citing bias, segregation in factory',\n",
       " 'Why retailers might offer you a job before you even know you want one',\n",
       " 'Less technology is giving drivers fewer headaches',\n",
       " \"California sues Tesla over allegations of 'racially segregated' workplace at Fremont factory\",\n",
       " 'The bipartisan push to break up tech giants',\n",
       " 'Canada border protests start halting Detroit auto plant production',\n",
       " 'See how the prices have changed for popular grocery items',\n",
       " \"Snoop Dogg takes helm of Death Row Records as label's new owner\",\n",
       " \"Traveling to the Super Bowl? Here's how much you can expect to pay\",\n",
       " 'Hyundai, Kia owners should park outside because vehicles can catch fire, makers warn',\n",
       " 'Worker shortage means small businesses are hiking prices at fastest pace since 1974',\n",
       " 'Inside Oklahoma’s booming marijuana industry',\n",
       " 'Peloton to replace its CEO, cut 2,800 jobs',\n",
       " 'How one family is working to get out of an attic and own a home of their own',\n",
       " 'How one woman aims to cash in on her savings and travel the world',\n",
       " 'Makeup company brings inclusivity to the cosmetics world',\n",
       " 'Charities innovate to meet the challenges of Covid-19']"
      ]
     },
     "execution_count": 11,
     "metadata": {},
     "output_type": "execute_result"
    }
   ],
   "source": [
    "# https://python.plainenglish.io/news-headlines-web-scrapper-4f4fdbf87c1e\n",
    "\n",
    "from datetime import date\n",
    "today = date.today()\n",
    "d = today.strftime(\"%m-%d-%y\")\n",
    "print(\"date =\" ,d)\n",
    "\n",
    "nbc_business = \"https://www.nbcnews.com/business\"\n",
    "res = requests.get(nbc_business)\n",
    "soup = BeautifulSoup(res.content, 'html.parser')\n",
    "\n",
    "headlines = soup.find_all('span',{'class':'tease-card__headline'})\n",
    "\n",
    "print(len(headlines))\n",
    "\n",
    "headlines_list = []\n",
    "for i in range(len(headlines)):\n",
    "  headlines_list.append(headlines[i].text)\n",
    "\n",
    "headlines_list\n"
   ]
  },
  {
   "cell_type": "markdown",
   "metadata": {
    "id": "wLVjZRuVAW0G"
   },
   "source": [
    "### Step 4: Analyze the data"
   ]
  },
  {
   "cell_type": "code",
   "execution_count": 12,
   "metadata": {
    "id": "3X-ioQw4v2F-"
   },
   "outputs": [],
   "source": [
    "text_list = \" \".join(headlines_list)"
   ]
  },
  {
   "cell_type": "code",
   "execution_count": 13,
   "metadata": {
    "id": "ehrmXU7uv6S4"
   },
   "outputs": [
    {
     "data": {
      "text/plain": [
       "['Will',\n",
       " 'Russia-Ukraine',\n",
       " 'conflict',\n",
       " 'slow',\n",
       " 'summer',\n",
       " 'travel',\n",
       " 'to',\n",
       " 'Europe?',\n",
       " 'Chris',\n",
       " 'Licht',\n",
       " 'to',\n",
       " 'become',\n",
       " 'new',\n",
       " 'CNN',\n",
       " 'president',\n",
       " 'following',\n",
       " 'Jeff',\n",
       " 'Zucker',\n",
       " 'ouster',\n",
       " 'Peloton',\n",
       " 'attempts',\n",
       " 'to',\n",
       " 'find',\n",
       " 'its',\n",
       " 'footing',\n",
       " 'after',\n",
       " 'several',\n",
       " 'high-profile',\n",
       " 'blunders',\n",
       " 'Investor',\n",
       " 'fears',\n",
       " 'over',\n",
       " 'Russia-Ukraine',\n",
       " 'conflict',\n",
       " 'are',\n",
       " 'overblown,',\n",
       " 'experts',\n",
       " 'say',\n",
       " 'Russia-Ukraine',\n",
       " 'conflict',\n",
       " 'impacts',\n",
       " 'U.S.',\n",
       " 'economy',\n",
       " 'The',\n",
       " 'Russia-Ukraine',\n",
       " 'conflict',\n",
       " 'will',\n",
       " \"'test'\",\n",
       " 'U.S.',\n",
       " 'consumers',\n",
       " 'on',\n",
       " 'multiple',\n",
       " 'fronts,',\n",
       " 'experts',\n",
       " 'say',\n",
       " 'SWIFT',\n",
       " 'banking',\n",
       " 'system',\n",
       " 'could',\n",
       " 'be',\n",
       " 'used',\n",
       " 'as',\n",
       " 'a',\n",
       " 'sanction',\n",
       " 'against',\n",
       " 'Russia.',\n",
       " \"Here's\",\n",
       " 'what',\n",
       " 'it',\n",
       " 'is.',\n",
       " 'Oil',\n",
       " 'prices',\n",
       " 'jump',\n",
       " 'as',\n",
       " 'Russia',\n",
       " 'launches',\n",
       " 'attack',\n",
       " 'on',\n",
       " 'Ukraine',\n",
       " 'Ukraine',\n",
       " 'crisis',\n",
       " 'could',\n",
       " 'create',\n",
       " 'more',\n",
       " 'woes',\n",
       " 'for',\n",
       " 'auto',\n",
       " 'industry',\n",
       " 'An',\n",
       " 'Afro',\n",
       " \"Latina's\",\n",
       " 'mission',\n",
       " 'to',\n",
       " 'embrace',\n",
       " 'natural',\n",
       " 'hair',\n",
       " 'gets',\n",
       " 'push',\n",
       " 'from',\n",
       " 'beauty',\n",
       " 'giant',\n",
       " '',\n",
       " 'Target',\n",
       " 'lifts',\n",
       " 'mask',\n",
       " 'requirements',\n",
       " 'for',\n",
       " 'staff',\n",
       " 'and',\n",
       " 'shoppers',\n",
       " 'Gas',\n",
       " 'prices',\n",
       " 'are',\n",
       " 'on',\n",
       " 'the',\n",
       " 'rise',\n",
       " 'as',\n",
       " 'Russia',\n",
       " 'launches',\n",
       " 'invasion',\n",
       " 'of',\n",
       " 'Ukraine',\n",
       " 'Extended',\n",
       " 'stay',\n",
       " 'hotels',\n",
       " 'play',\n",
       " 'the',\n",
       " 'long',\n",
       " 'game',\n",
       " '',\n",
       " 'Consumers',\n",
       " 'and',\n",
       " 'markets',\n",
       " 'may',\n",
       " 'be',\n",
       " 'in',\n",
       " 'for',\n",
       " 'wild',\n",
       " 'ride',\n",
       " 'as',\n",
       " 'oil',\n",
       " 'prices',\n",
       " 'rise',\n",
       " 'The',\n",
       " 'case',\n",
       " 'for',\n",
       " 'bitcoin',\n",
       " 'as',\n",
       " '‘digital',\n",
       " 'gold’',\n",
       " 'is',\n",
       " 'falling',\n",
       " 'apart',\n",
       " \"'I\",\n",
       " 'would',\n",
       " 'pay',\n",
       " \"anything':\",\n",
       " 'Parents',\n",
       " 'needing',\n",
       " 'formula',\n",
       " 'are',\n",
       " 'left',\n",
       " 'empty',\n",
       " 'handed',\n",
       " 'due',\n",
       " 'to',\n",
       " 'shortage',\n",
       " 'Contract',\n",
       " 'worker',\n",
       " 'injured',\n",
       " 'in',\n",
       " 'Louisiana',\n",
       " 'refinery',\n",
       " 'explosion',\n",
       " 'and',\n",
       " 'fire,',\n",
       " 'company',\n",
       " 'says',\n",
       " 'Small',\n",
       " 'businesses',\n",
       " 'say',\n",
       " 'they',\n",
       " 'are',\n",
       " 'hurt',\n",
       " 'by',\n",
       " 'rising',\n",
       " 'costs',\n",
       " 'to',\n",
       " 'advertise',\n",
       " 'on',\n",
       " 'Amazon',\n",
       " 'Founder',\n",
       " 'of',\n",
       " 'collapsed',\n",
       " '$1.7',\n",
       " 'billion',\n",
       " 'mutual',\n",
       " 'fund',\n",
       " 'charged',\n",
       " 'with',\n",
       " 'fraud',\n",
       " 'Car',\n",
       " 'buyers',\n",
       " 'trade',\n",
       " 'in',\n",
       " 'haggling',\n",
       " 'for',\n",
       " 'sticker',\n",
       " 'shock',\n",
       " 'Chicago',\n",
       " 'denies',\n",
       " 'permit',\n",
       " 'for',\n",
       " 'scrapyard',\n",
       " 'at',\n",
       " 'heart',\n",
       " 'of',\n",
       " \"'environmental\",\n",
       " \"injustice'\",\n",
       " 'battle',\n",
       " 'Ship',\n",
       " 'carrying',\n",
       " 'Porsches,',\n",
       " 'Audis',\n",
       " 'and',\n",
       " 'Bentleys',\n",
       " 'is',\n",
       " 'burning',\n",
       " 'and',\n",
       " 'adrift',\n",
       " 'As',\n",
       " 'food',\n",
       " 'prices',\n",
       " 'increase,',\n",
       " 'store',\n",
       " 'brands',\n",
       " 'may',\n",
       " 'have',\n",
       " 'an',\n",
       " 'advantage',\n",
       " 'Auto',\n",
       " 'industry',\n",
       " 'reconsiders',\n",
       " 'production',\n",
       " 'systems',\n",
       " 'after',\n",
       " 'border',\n",
       " 'protests',\n",
       " 'Retailers',\n",
       " 'embrace',\n",
       " 'new',\n",
       " 'tracking',\n",
       " 'tech',\n",
       " 'on',\n",
       " 'goods',\n",
       " 'to',\n",
       " 'crack',\n",
       " 'down',\n",
       " 'on',\n",
       " 'theft',\n",
       " 'Cuts',\n",
       " 'to',\n",
       " 'California',\n",
       " 'cannabis',\n",
       " 'taxes',\n",
       " 'would',\n",
       " 'harm',\n",
       " 'low-income',\n",
       " 'youths,',\n",
       " 'advocates',\n",
       " 'say',\n",
       " 'Mexico’s',\n",
       " 'avocados',\n",
       " 'face',\n",
       " 'fallout',\n",
       " 'from',\n",
       " 'violence,',\n",
       " 'deforestation',\n",
       " \"'If\",\n",
       " 'you',\n",
       " 'build',\n",
       " 'it,',\n",
       " 'I',\n",
       " 'will',\n",
       " \"come':\",\n",
       " 'Kevin',\n",
       " 'Costner',\n",
       " 'lobbies',\n",
       " 'Utah',\n",
       " 'for',\n",
       " 'more',\n",
       " 'tax',\n",
       " 'rebates',\n",
       " 'for',\n",
       " 'film',\n",
       " 'production',\n",
       " 'What',\n",
       " 'is',\n",
       " 'causing',\n",
       " 'inflation?',\n",
       " 'Economists',\n",
       " 'point',\n",
       " 'fingers',\n",
       " 'at',\n",
       " 'different',\n",
       " 'culprits',\n",
       " 'U.S.',\n",
       " 'suspends',\n",
       " 'Mexican',\n",
       " 'avocado',\n",
       " 'imports\\xa0after',\n",
       " 'threat',\n",
       " 'to',\n",
       " 'inspector',\n",
       " 'Bird',\n",
       " 'flu',\n",
       " 'spread',\n",
       " 'in',\n",
       " 'U.S.',\n",
       " 'puts',\n",
       " 'poultry',\n",
       " 'farms',\n",
       " 'on',\n",
       " 'high',\n",
       " 'alert',\n",
       " 'U.S.',\n",
       " 'to',\n",
       " 'provide',\n",
       " '$5',\n",
       " 'billion',\n",
       " 'to',\n",
       " 'help',\n",
       " 'states',\n",
       " 'build',\n",
       " 'network',\n",
       " 'of',\n",
       " 'EV',\n",
       " 'charging',\n",
       " 'stations',\n",
       " 'Expect',\n",
       " 'a',\n",
       " 'rise',\n",
       " 'in',\n",
       " 'gas',\n",
       " 'and',\n",
       " 'heating',\n",
       " 'prices',\n",
       " 'if',\n",
       " 'Russia',\n",
       " 'invades',\n",
       " 'Ukraine,',\n",
       " 'experts',\n",
       " 'warn',\n",
       " 'Why',\n",
       " 'were',\n",
       " 'there',\n",
       " 'so',\n",
       " 'many',\n",
       " 'crypto',\n",
       " 'ads',\n",
       " 'during',\n",
       " 'the',\n",
       " 'Super',\n",
       " 'Bowl?',\n",
       " 'Super',\n",
       " 'Bowl',\n",
       " 'host',\n",
       " 'Inglewood',\n",
       " 'has',\n",
       " 'undergone',\n",
       " 'one',\n",
       " 'of',\n",
       " 'California’s',\n",
       " 'most',\n",
       " 'dramatic',\n",
       " 'transitions',\n",
       " 'House',\n",
       " 'prices',\n",
       " 'soar',\n",
       " 'in',\n",
       " 'Inglewood,',\n",
       " 'California,',\n",
       " 'as',\n",
       " 'the',\n",
       " 'city',\n",
       " 'prepares',\n",
       " 'to',\n",
       " 'host',\n",
       " 'Super',\n",
       " 'Bowl',\n",
       " 'For',\n",
       " 'Canadian',\n",
       " 'residents,',\n",
       " 'impact',\n",
       " 'of',\n",
       " 'trucker',\n",
       " 'protest',\n",
       " 'can',\n",
       " 'be',\n",
       " 'seen',\n",
       " 'at',\n",
       " 'local',\n",
       " 'grocery',\n",
       " 'stores',\n",
       " 'Rent',\n",
       " 'prices',\n",
       " 'expected',\n",
       " 'to',\n",
       " 'increase',\n",
       " 'another',\n",
       " '10',\n",
       " 'percent',\n",
       " 'in',\n",
       " 'next',\n",
       " 'year',\n",
       " 'Dow',\n",
       " 'tumbles',\n",
       " '500',\n",
       " 'points',\n",
       " 'as',\n",
       " 'Ukraine-Russia',\n",
       " 'crisis',\n",
       " 'deepens',\n",
       " 'Dow',\n",
       " 'falls',\n",
       " '500',\n",
       " 'points',\n",
       " 'amid',\n",
       " 'escalation',\n",
       " 'of',\n",
       " 'Ukraine-Russia',\n",
       " 'tensions',\n",
       " 'Lower-income',\n",
       " 'and',\n",
       " 'minority',\n",
       " 'households',\n",
       " 'assuming',\n",
       " 'bigger',\n",
       " 'debt',\n",
       " 'risks',\n",
       " 'Inflation',\n",
       " 'rate',\n",
       " 'rose',\n",
       " '7.5',\n",
       " 'percent',\n",
       " 'over',\n",
       " 'previous',\n",
       " 'January',\n",
       " 'as',\n",
       " 'price',\n",
       " 'hikes',\n",
       " 'persist',\n",
       " \"'It\",\n",
       " 'will',\n",
       " 'only',\n",
       " 'get',\n",
       " \"worse':\",\n",
       " 'Trucker',\n",
       " 'protests',\n",
       " 'hurt',\n",
       " 'auto',\n",
       " 'plants',\n",
       " 'across',\n",
       " 'North',\n",
       " 'America',\n",
       " 'Tesla',\n",
       " 'sued',\n",
       " 'by',\n",
       " 'California',\n",
       " 'agency,',\n",
       " 'citing',\n",
       " 'bias,',\n",
       " 'segregation',\n",
       " 'in',\n",
       " 'factory',\n",
       " 'Why',\n",
       " 'retailers',\n",
       " 'might',\n",
       " 'offer',\n",
       " 'you',\n",
       " 'a',\n",
       " 'job',\n",
       " 'before',\n",
       " 'you',\n",
       " 'even',\n",
       " 'know',\n",
       " 'you',\n",
       " 'want',\n",
       " 'one',\n",
       " 'Less',\n",
       " 'technology',\n",
       " 'is',\n",
       " 'giving',\n",
       " 'drivers',\n",
       " 'fewer',\n",
       " 'headaches',\n",
       " 'California',\n",
       " 'sues',\n",
       " 'Tesla',\n",
       " 'over',\n",
       " 'allegations',\n",
       " 'of',\n",
       " \"'racially\",\n",
       " \"segregated'\",\n",
       " 'workplace',\n",
       " 'at',\n",
       " 'Fremont',\n",
       " 'factory',\n",
       " 'The',\n",
       " 'bipartisan',\n",
       " 'push',\n",
       " 'to',\n",
       " 'break',\n",
       " 'up',\n",
       " 'tech',\n",
       " 'giants',\n",
       " 'Canada',\n",
       " 'border',\n",
       " 'protests',\n",
       " 'start',\n",
       " 'halting',\n",
       " 'Detroit',\n",
       " 'auto',\n",
       " 'plant',\n",
       " 'production',\n",
       " 'See',\n",
       " 'how',\n",
       " 'the',\n",
       " 'prices',\n",
       " 'have',\n",
       " 'changed',\n",
       " 'for',\n",
       " 'popular',\n",
       " 'grocery',\n",
       " 'items',\n",
       " 'Snoop',\n",
       " 'Dogg',\n",
       " 'takes',\n",
       " 'helm',\n",
       " 'of',\n",
       " 'Death',\n",
       " 'Row',\n",
       " 'Records',\n",
       " 'as',\n",
       " \"label's\",\n",
       " 'new',\n",
       " 'owner',\n",
       " 'Traveling',\n",
       " 'to',\n",
       " 'the',\n",
       " 'Super',\n",
       " 'Bowl?',\n",
       " \"Here's\",\n",
       " 'how',\n",
       " 'much',\n",
       " 'you',\n",
       " 'can',\n",
       " 'expect',\n",
       " 'to',\n",
       " 'pay',\n",
       " 'Hyundai,',\n",
       " 'Kia',\n",
       " 'owners',\n",
       " 'should',\n",
       " 'park',\n",
       " 'outside',\n",
       " 'because',\n",
       " 'vehicles',\n",
       " 'can',\n",
       " 'catch',\n",
       " 'fire,',\n",
       " 'makers',\n",
       " 'warn',\n",
       " 'Worker',\n",
       " 'shortage',\n",
       " 'means',\n",
       " 'small',\n",
       " 'businesses',\n",
       " 'are',\n",
       " 'hiking',\n",
       " 'prices',\n",
       " 'at',\n",
       " 'fastest',\n",
       " 'pace',\n",
       " 'since',\n",
       " '1974',\n",
       " 'Inside',\n",
       " 'Oklahoma’s',\n",
       " 'booming',\n",
       " 'marijuana',\n",
       " 'industry',\n",
       " 'Peloton',\n",
       " 'to',\n",
       " 'replace',\n",
       " 'its',\n",
       " 'CEO,',\n",
       " 'cut',\n",
       " '2,800',\n",
       " 'jobs',\n",
       " 'How',\n",
       " 'one',\n",
       " 'family',\n",
       " 'is',\n",
       " 'working',\n",
       " 'to',\n",
       " 'get',\n",
       " 'out',\n",
       " 'of',\n",
       " 'an',\n",
       " 'attic',\n",
       " 'and',\n",
       " 'own',\n",
       " 'a',\n",
       " 'home',\n",
       " 'of',\n",
       " 'their',\n",
       " 'own',\n",
       " 'How',\n",
       " 'one',\n",
       " 'woman',\n",
       " 'aims',\n",
       " 'to',\n",
       " 'cash',\n",
       " 'in',\n",
       " 'on',\n",
       " 'her',\n",
       " 'savings',\n",
       " 'and',\n",
       " 'travel',\n",
       " 'the',\n",
       " 'world',\n",
       " 'Makeup',\n",
       " 'company',\n",
       " 'brings',\n",
       " 'inclusivity',\n",
       " 'to',\n",
       " 'the',\n",
       " 'cosmetics',\n",
       " 'world',\n",
       " 'Charities',\n",
       " 'innovate',\n",
       " 'to',\n",
       " 'meet',\n",
       " 'the',\n",
       " 'challenges',\n",
       " 'of',\n",
       " 'Covid-19']"
      ]
     },
     "execution_count": 13,
     "metadata": {},
     "output_type": "execute_result"
    }
   ],
   "source": [
    "text_list = text_list.split(\" \")\n",
    "\n",
    "text_list"
   ]
  },
  {
   "cell_type": "code",
   "execution_count": 14,
   "metadata": {
    "id": "QAK1_yR-wIn2"
   },
   "outputs": [
    {
     "data": {
      "text/plain": [
       "FreqDist({'to': 21, 'of': 12, 'as': 9, 'prices': 9, 'for': 9, 'and': 9, 'the': 9, 'in': 9, 'on': 8, 'are': 5, ...})"
      ]
     },
     "execution_count": 14,
     "metadata": {},
     "output_type": "execute_result"
    }
   ],
   "source": [
    "fdist1 = FreqDist(text_list)\n",
    "fdist1"
   ]
  },
  {
   "cell_type": "markdown",
   "metadata": {
    "id": "8VaKk-AgmfpR"
   },
   "source": [
    "### Step 5: Draw a interesting plot!"
   ]
  },
  {
   "cell_type": "code",
   "execution_count": 15,
   "metadata": {
    "id": "NEv2rbRAw26K"
   },
   "outputs": [
    {
     "data": {
      "image/png": "[encoded data removed]",
      "text/plain": [
       "<Figure size 1152x864 with 1 Axes>"
      ]
     },
     "metadata": {
      "needs_background": "light"
     },
     "output_type": "display_data"
    },
    {
     "data": {
      "text/plain": [
       "<AxesSubplot:xlabel='Samples', ylabel='Counts'>"
      ]
     },
     "execution_count": 15,
     "metadata": {},
     "output_type": "execute_result"
    }
   ],
   "source": [
    "# Set the plot size\n",
    "plt.rcParams[\"figure.figsize\"] = (16, 12)\n",
    "\n",
    "# Plot the top 50 appeared tokens from our retrieved data in normal way\n",
    "fdist1.plot(50, cumulative=False)"
   ]
  },
  {
   "cell_type": "code",
   "execution_count": 16,
   "metadata": {
    "id": "Wazwy7jTBK32"
   },
   "outputs": [
    {
     "data": {
      "image/png": "[encoded data removed]",
      "text/plain": [
       "<Figure size 1152x864 with 1 Axes>"
      ]
     },
     "metadata": {
      "needs_background": "light"
     },
     "output_type": "display_data"
    },
    {
     "data": {
      "text/plain": [
       "<AxesSubplot:xlabel='Samples', ylabel='Cumulative Counts'>"
      ]
     },
     "execution_count": 16,
     "metadata": {},
     "output_type": "execute_result"
    }
   ],
   "source": [
    "# Plot the top 50 appeared tokens from our retrieved data in cumulative way\n",
    "\n",
    "fdist1.plot(50, cumulative=True)"
   ]
  },
  {
   "cell_type": "markdown",
   "metadata": {
    "id": "Aqt3p9jN1V0w"
   },
   "source": [
    "## **Scrape from document**"
   ]
  },
  {
   "cell_type": "markdown",
   "metadata": {
    "id": "aIC3bOqP-546"
   },
   "source": [
    "### Step 0: Mount your google cloud disk"
   ]
  },
  {
   "cell_type": "code",
   "execution_count": 17,
   "metadata": {
    "id": "AFBW_iqI43mR"
   },
   "outputs": [
    {
     "ename": "ModuleNotFoundError",
     "evalue": "No module named 'google'",
     "output_type": "error",
     "traceback": [
      "\u001b[1;31m---------------------------------------------------------------------------\u001b[0m",
      "\u001b[1;31mModuleNotFoundError\u001b[0m                       Traceback (most recent call last)",
      "\u001b[1;32mC:\\Users\\BRENDO~1\\AppData\\Local\\Temp/ipykernel_10612/4212019986.py\u001b[0m in \u001b[0;36m<module>\u001b[1;34m\u001b[0m\n\u001b[0;32m      1\u001b[0m \u001b[1;31m#Mount google drive to google colab virtual machine\u001b[0m\u001b[1;33m\u001b[0m\u001b[1;33m\u001b[0m\u001b[0m\n\u001b[1;32m----> 2\u001b[1;33m \u001b[1;32mfrom\u001b[0m \u001b[0mgoogle\u001b[0m\u001b[1;33m.\u001b[0m\u001b[0mcolab\u001b[0m \u001b[1;32mimport\u001b[0m \u001b[0mdrive\u001b[0m\u001b[1;33m\u001b[0m\u001b[1;33m\u001b[0m\u001b[0m\n\u001b[0m\u001b[0;32m      3\u001b[0m \u001b[0mdrive\u001b[0m\u001b[1;33m.\u001b[0m\u001b[0mmount\u001b[0m\u001b[1;33m(\u001b[0m\u001b[1;34m'/content/drive'\u001b[0m\u001b[1;33m)\u001b[0m\u001b[1;33m\u001b[0m\u001b[1;33m\u001b[0m\u001b[0m\n\u001b[0;32m      4\u001b[0m \u001b[0mmydrive\u001b[0m \u001b[1;33m=\u001b[0m\u001b[1;34m\"/content/drive/My Drive/Colab Notebooks/\"\u001b[0m\u001b[1;33m\u001b[0m\u001b[1;33m\u001b[0m\u001b[0m\n",
      "\u001b[1;31mModuleNotFoundError\u001b[0m: No module named 'google'"
     ]
    }
   ],
   "source": [
    "#Mount google drive to google colab virtual machine\n",
    "from google.colab import drive\n",
    "drive.mount('/content/drive')\n",
    "mydrive =\"/content/drive/My Drive/Colab Notebooks/\""
   ]
  },
  {
   "cell_type": "markdown",
   "metadata": {
    "id": "Us4VSARd_GZ5"
   },
   "source": [
    "### Step 1: Download the example pdf file from Gild's cloud"
   ]
  },
  {
   "cell_type": "markdown",
   "metadata": {
    "id": "TmjKELO_5BUj"
   },
   "source": [
    "**Step1: run the following code to download example pdf file (pdf.zip) from Daniel gooogle drive, then extract it to pdf folder and save to your /content/drive/My Drive/Colab Notebooks/\"**"
   ]
  },
  {
   "cell_type": "code",
   "execution_count": null,
   "metadata": {
    "id": "eiJhci1m5CIt"
   },
   "outputs": [],
   "source": [
    "def download_data_gdown(path,file_id):\n",
    "    import gdown, os, zipfile, sys\n",
    "    url = f\"https://drive.google.com/uc?id={file_id}\"\n",
    "    data_zip = os.path.join(path, \"pdf.zip\")\n",
    "    gdown.download(url, data_zip, quiet=False)\n",
    "    \n",
    "    with zipfile.ZipFile(data_zip, \"r\") as zip_ref:\n",
    "        zip_ref.extractall(path)\n",
    "    return\n",
    "download_data_gdown(path=mydrive,file_id=\"1E_ER4uIoXp8bmjmjmqAWRsESSNPv-0LP\")"
   ]
  },
  {
   "cell_type": "markdown",
   "metadata": {
    "id": "M7FxrSUs_XBh"
   },
   "source": [
    "### Step2: Convert pdf into txt file"
   ]
  },
  {
   "cell_type": "markdown",
   "metadata": {
    "id": "1azV0lgt5QSb"
   },
   "source": [
    "**Step2: run the following code create a folder name \"txt\", and convert all file in folder \"pdf\"  to folder \"txt\"**"
   ]
  },
  {
   "cell_type": "code",
   "execution_count": null,
   "metadata": {
    "id": "mP0PXT3E5M1N"
   },
   "outputs": [],
   "source": [
    "#Run to load pdf to txt function\n",
    "!pip3 install pdfminer.six #package pdf to text\n",
    "import os\n",
    "from io import StringIO\n",
    "from pdfminer.pdfinterp import PDFResourceManager, PDFPageInterpreter\n",
    "from pdfminer.converter import TextConverter\n",
    "from pdfminer.layout import LAParams\n",
    "from pdfminer.pdfpage import PDFPage\n",
    "\n",
    "def convert(fname, pages=None):\n",
    "    if not pages:\n",
    "        pagenums = set()\n",
    "    else:\n",
    "        pagenums = set(pages)\n",
    "\n",
    "    output = StringIO()\n",
    "    manager = PDFResourceManager()\n",
    "    converter = TextConverter(manager, output, codec='utf-8', laparams=LAParams())\n",
    "    interpreter = PDFPageInterpreter(manager, converter)\n",
    "    infile = open(fname, 'rb')\n",
    "    for page in PDFPage.get_pages(infile, pagenums):\n",
    "        interpreter.process_page(page)\n",
    "    infile.close()\n",
    "    converter.close()\n",
    "    text = output.getvalue()\n",
    "    output.close\n",
    "    return text\n",
    "    \n",
    "        \n",
    "def convertMultiple(pdfDir, txtDir):\n",
    "    for pdf in os.listdir(pdfDir): #iterate through pdfs in pdf directory\n",
    "        fileExtension = pdf.split(\".\")[-1]\n",
    "        if fileExtension == \"pdf\":\n",
    "            pdfFilename = pdfDir + pdf \n",
    "            text = convert(pdfFilename) #get string of text content of pdf\n",
    "            textFilename = txtDir + pdf[:-4] + \".txt\"\n",
    "            textFile = open(textFilename, \"w\") #make text file\n",
    "            textFile.write(text) #write text to text file\n",
    "            textFile.close()\n",
    "            print(\"finish convert to txt\", pdf)\n",
    "    print(\"finish convert all file\")\n",
    "\n",
    "\n",
    "#create directory txt\n",
    "#os.mkdir(mydrive+ 'txt') # you have to remove this line if the txt folder is exist.\n",
    "# covert all file in folder pdf to text file and store in folder \"txt\"\n",
    "mydrive =\"/content/drive/My Drive/Colab Notebooks/\"\n",
    "os.makedirs(mydrive+\"txt\",exist_ok=True) #make txt folder to save text file after convert pdf to txt\n",
    "pdfdir= mydrive + \"pdf/\"\n",
    "txtdir= mydrive +\"txt/\"\n",
    "convertMultiple(pdfdir,txtdir)"
   ]
  },
  {
   "cell_type": "markdown",
   "metadata": {
    "id": "WE-bxuaW9x2M"
   },
   "source": [
    "**Transform PDF to TXT format**"
   ]
  },
  {
   "cell_type": "code",
   "execution_count": 18,
   "metadata": {
    "id": "OebgxtL06Ay2"
   },
   "outputs": [
    {
     "ename": "NameError",
     "evalue": "name 'mydrive' is not defined",
     "output_type": "error",
     "traceback": [
      "\u001b[1;31m---------------------------------------------------------------------------\u001b[0m",
      "\u001b[1;31mNameError\u001b[0m                                 Traceback (most recent call last)",
      "\u001b[1;32mC:\\Users\\BRENDO~1\\AppData\\Local\\Temp/ipykernel_10612/1496542358.py\u001b[0m in \u001b[0;36m<module>\u001b[1;34m\u001b[0m\n\u001b[1;32m----> 1\u001b[1;33m \u001b[0mfile_path\u001b[0m \u001b[1;33m=\u001b[0m \u001b[0mmydrive\u001b[0m \u001b[1;33m+\u001b[0m\u001b[1;34m\"txt/\"\u001b[0m\u001b[1;33m\u001b[0m\u001b[1;33m\u001b[0m\u001b[0m\n\u001b[0m\u001b[0;32m      2\u001b[0m \u001b[0mdoc_all_2\u001b[0m\u001b[1;33m=\u001b[0m\u001b[1;33m{\u001b[0m\u001b[1;33m}\u001b[0m\u001b[1;33m\u001b[0m\u001b[1;33m\u001b[0m\u001b[0m\n\u001b[0;32m      3\u001b[0m \u001b[1;33m\u001b[0m\u001b[0m\n\u001b[0;32m      4\u001b[0m \u001b[1;32mfor\u001b[0m \u001b[0mfilename\u001b[0m \u001b[1;32min\u001b[0m \u001b[0mos\u001b[0m\u001b[1;33m.\u001b[0m\u001b[0mlistdir\u001b[0m\u001b[1;33m(\u001b[0m\u001b[0mfile_path\u001b[0m \u001b[1;33m)\u001b[0m\u001b[1;33m:\u001b[0m\u001b[1;33m\u001b[0m\u001b[1;33m\u001b[0m\u001b[0m\n\u001b[0;32m      5\u001b[0m   \u001b[0mfileExtension\u001b[0m \u001b[1;33m=\u001b[0m \u001b[0mfilename\u001b[0m\u001b[1;33m.\u001b[0m\u001b[0msplit\u001b[0m\u001b[1;33m(\u001b[0m\u001b[1;34m\".\"\u001b[0m\u001b[1;33m)\u001b[0m\u001b[1;33m[\u001b[0m\u001b[1;33m-\u001b[0m\u001b[1;36m1\u001b[0m\u001b[1;33m]\u001b[0m\u001b[1;33m\u001b[0m\u001b[1;33m\u001b[0m\u001b[0m\n",
      "\u001b[1;31mNameError\u001b[0m: name 'mydrive' is not defined"
     ]
    }
   ],
   "source": [
    "file_path = mydrive +\"txt/\"\n",
    "doc_all_2={}\n",
    "\n",
    "for filename in os.listdir(file_path ):\n",
    "  fileExtension = filename.split(\".\")[-1]\n",
    "  if fileExtension == \"txt\":\n",
    "    text = open(file_path+filename).read()\n",
    "    pdf_text_list = list(text.split(\" \"))\n",
    "pdf_text_list"
   ]
  },
  {
   "cell_type": "markdown",
   "metadata": {
    "id": "3O66QB-1-A0c"
   },
   "source": [
    "### **Step3: Calculate the frequency of tokens**"
   ]
  },
  {
   "cell_type": "code",
   "execution_count": 19,
   "metadata": {
    "id": "96kMs8fZ9Z0C"
   },
   "outputs": [
    {
     "ename": "NameError",
     "evalue": "name 'pdf_text_list' is not defined",
     "output_type": "error",
     "traceback": [
      "\u001b[1;31m---------------------------------------------------------------------------\u001b[0m",
      "\u001b[1;31mNameError\u001b[0m                                 Traceback (most recent call last)",
      "\u001b[1;32mC:\\Users\\BRENDO~1\\AppData\\Local\\Temp/ipykernel_10612/3158273216.py\u001b[0m in \u001b[0;36m<module>\u001b[1;34m\u001b[0m\n\u001b[1;32m----> 1\u001b[1;33m \u001b[0mfdist2\u001b[0m \u001b[1;33m=\u001b[0m \u001b[0mFreqDist\u001b[0m\u001b[1;33m(\u001b[0m\u001b[0mpdf_text_list\u001b[0m\u001b[1;33m)\u001b[0m\u001b[1;33m\u001b[0m\u001b[1;33m\u001b[0m\u001b[0m\n\u001b[0m\u001b[0;32m      2\u001b[0m \u001b[0mfdist2\u001b[0m\u001b[1;33m\u001b[0m\u001b[1;33m\u001b[0m\u001b[0m\n",
      "\u001b[1;31mNameError\u001b[0m: name 'pdf_text_list' is not defined"
     ]
    }
   ],
   "source": [
    "fdist2 = FreqDist(pdf_text_list)\n",
    "fdist2"
   ]
  },
  {
   "cell_type": "markdown",
   "metadata": {
    "id": "YT6AzMzv-QHl"
   },
   "source": [
    "### **Step4: Make a plot (visualization)**"
   ]
  },
  {
   "cell_type": "code",
   "execution_count": 20,
   "metadata": {
    "id": "HL6g7oUF9oe7"
   },
   "outputs": [
    {
     "ename": "NameError",
     "evalue": "name 'fdist2' is not defined",
     "output_type": "error",
     "traceback": [
      "\u001b[1;31m---------------------------------------------------------------------------\u001b[0m",
      "\u001b[1;31mNameError\u001b[0m                                 Traceback (most recent call last)",
      "\u001b[1;32mC:\\Users\\BRENDO~1\\AppData\\Local\\Temp/ipykernel_10612/872800969.py\u001b[0m in \u001b[0;36m<module>\u001b[1;34m\u001b[0m\n\u001b[0;32m      3\u001b[0m \u001b[1;33m\u001b[0m\u001b[0m\n\u001b[0;32m      4\u001b[0m \u001b[1;31m# Plot the top 50 appeared tokens from our retrieved data in normal way\u001b[0m\u001b[1;33m\u001b[0m\u001b[1;33m\u001b[0m\u001b[0m\n\u001b[1;32m----> 5\u001b[1;33m \u001b[0mfdist2\u001b[0m\u001b[1;33m.\u001b[0m\u001b[0mplot\u001b[0m\u001b[1;33m(\u001b[0m\u001b[1;36m50\u001b[0m\u001b[1;33m,\u001b[0m \u001b[0mcumulative\u001b[0m\u001b[1;33m=\u001b[0m\u001b[1;32mFalse\u001b[0m\u001b[1;33m)\u001b[0m\u001b[1;33m\u001b[0m\u001b[1;33m\u001b[0m\u001b[0m\n\u001b[0m",
      "\u001b[1;31mNameError\u001b[0m: name 'fdist2' is not defined"
     ]
    }
   ],
   "source": [
    "# Set the plot size\n",
    "plt.rcParams[\"figure.figsize\"] = (16, 12)\n",
    "\n",
    "# Plot the top 50 appeared tokens from our retrieved data in normal way\n",
    "fdist2.plot(50, cumulative=False)"
   ]
  },
  {
   "cell_type": "code",
   "execution_count": 21,
   "metadata": {
    "id": "iX4n33IcBPyz"
   },
   "outputs": [
    {
     "ename": "NameError",
     "evalue": "name 'fdist2' is not defined",
     "output_type": "error",
     "traceback": [
      "\u001b[1;31m---------------------------------------------------------------------------\u001b[0m",
      "\u001b[1;31mNameError\u001b[0m                                 Traceback (most recent call last)",
      "\u001b[1;32mC:\\Users\\BRENDO~1\\AppData\\Local\\Temp/ipykernel_10612/994168911.py\u001b[0m in \u001b[0;36m<module>\u001b[1;34m\u001b[0m\n\u001b[0;32m      1\u001b[0m \u001b[1;31m# Plot the top 50 appeared tokens from our retrieved data in cumulative way\u001b[0m\u001b[1;33m\u001b[0m\u001b[1;33m\u001b[0m\u001b[0m\n\u001b[0;32m      2\u001b[0m \u001b[1;33m\u001b[0m\u001b[0m\n\u001b[1;32m----> 3\u001b[1;33m \u001b[0mfdist2\u001b[0m\u001b[1;33m.\u001b[0m\u001b[0mplot\u001b[0m\u001b[1;33m(\u001b[0m\u001b[1;36m50\u001b[0m\u001b[1;33m,\u001b[0m \u001b[0mcumulative\u001b[0m\u001b[1;33m=\u001b[0m\u001b[1;32mTrue\u001b[0m\u001b[1;33m)\u001b[0m\u001b[1;33m\u001b[0m\u001b[1;33m\u001b[0m\u001b[0m\n\u001b[0m",
      "\u001b[1;31mNameError\u001b[0m: name 'fdist2' is not defined"
     ]
    }
   ],
   "source": [
    "# Plot the top 50 appeared tokens from our retrieved data in cumulative way\n",
    "\n",
    "fdist2.plot(50, cumulative=True)"
   ]
  },
  {
   "cell_type": "markdown",
   "metadata": {
    "id": "cMan9U4c-fmf"
   },
   "source": [
    "#### **Reflective: looks good but...😕**"
   ]
  }
 ],
 "metadata": {
  "colab": {
   "collapsed_sections": [],
   "name": "week2_process_data.ipynb",
   "provenance": []
  },
  "kernelspec": {
   "display_name": "Python 3 (ipykernel)",
   "language": "python",
   "name": "python3"
  },
  "language_info": {
   "codemirror_mode": {
    "name": "ipython",
    "version": 3
   },
   "file_extension": ".py",
   "mimetype": "text/x-python",
   "name": "python",
   "nbconvert_exporter": "python",
   "pygments_lexer": "ipython3",
   "version": "3.9.7"
  }
 },
 "nbformat": 4,
 "nbformat_minor": 1
}
