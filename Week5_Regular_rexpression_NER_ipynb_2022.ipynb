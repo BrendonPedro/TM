{
 "cells": [
  {
   "cell_type": "markdown",
   "metadata": {
    "id": "IxCCBRAOC6aP"
   },
   "source": [
    "#Week 5: Regular Expression, NER"
   ]
  },
  {
   "cell_type": "markdown",
   "metadata": {
    "id": "Ox6Px7-rcXFu"
   },
   "source": [
    "# 1. Regular expression"
   ]
  },
  {
   "cell_type": "code",
   "execution_count": null,
   "metadata": {
    "id": "2hl-Zo9uWOxW"
   },
   "outputs": [],
   "source": [
    "## \"re\" is a python package for regular expression\n",
    "import re"
   ]
  },
  {
   "cell_type": "code",
   "execution_count": null,
   "metadata": {
    "colab": {
     "base_uri": "https://localhost:8080/"
    },
    "id": "6joqByCzWKzS",
    "outputId": "da87dad8-a8c2-470b-a39b-cd6bddba45e4"
   },
   "outputs": [
    {
     "data": {
      "text/plain": [
       "<re.Match object; span=(29, 33), match='grey'>"
      ]
     },
     "execution_count": 2,
     "metadata": {},
     "output_type": "execute_result"
    }
   ],
   "source": [
    "text1= 'I want to extract the token \"grey\" from this sentence '\n",
    "re.search(r'grey', text1)"
   ]
  },
  {
   "cell_type": "code",
   "execution_count": null,
   "metadata": {
    "colab": {
     "base_uri": "https://localhost:8080/"
    },
    "id": "a6E3pYcet7Iu",
    "outputId": "67ae1ed6-6499-4a8c-b44a-aae36f80854d"
   },
   "outputs": [
    {
     "data": {
      "text/plain": [
       "['gray', 'grey']"
      ]
     },
     "execution_count": 3,
     "metadata": {},
     "output_type": "execute_result"
    }
   ],
   "source": [
    "text2= 'I want to extract all tokens with \"gray\" or \"grey\" from this sentence'\n",
    "re.findall(r'grey|gray', text2)"
   ]
  },
  {
   "cell_type": "code",
   "execution_count": null,
   "metadata": {
    "colab": {
     "base_uri": "https://localhost:8080/"
    },
    "id": "tlEcVoR2nB3e",
    "outputId": "ce68296f-c326-40ee-85be-0c4aad0334cb"
   },
   "outputs": [
    {
     "data": {
      "text/plain": [
       "['color', 'colour']"
      ]
     },
     "execution_count": 4,
     "metadata": {},
     "output_type": "execute_result"
    }
   ],
   "source": [
    "text3 ='For example, colou?r matches both \"color\" and \"colour\"'\n",
    "re.findall(r'colou?r',text3)"
   ]
  },
  {
   "cell_type": "code",
   "execution_count": null,
   "metadata": {
    "colab": {
     "base_uri": "https://localhost:8080/"
    },
    "id": "ubiNxYyeo2en",
    "outputId": "2d233da9-97de-4823-b355-3e0c5dffb93a"
   },
   "outputs": [
    {
     "data": {
      "text/plain": [
       "['ac', 'abc', 'abbc', 'abbbc']"
      ]
     },
     "execution_count": 5,
     "metadata": {},
     "output_type": "execute_result"
    }
   ],
   "source": [
    "## * means zero or more than zero\n",
    "text4 = ' For example, ab*c matches \"ac\", \"abc\", \"abbc\", \"abbbc\", and so on'\n",
    "re.findall(r'ab*c',text4)"
   ]
  },
  {
   "cell_type": "code",
   "execution_count": null,
   "metadata": {
    "colab": {
     "base_uri": "https://localhost:8080/"
    },
    "id": "TfhCT-O_wYYv",
    "outputId": "32845666-b666-4f46-cd19-4362c3d79fd6"
   },
   "outputs": [
    {
     "data": {
      "text/plain": [
       "['abc', 'abbc', 'abbbc']"
      ]
     },
     "execution_count": 6,
     "metadata": {},
     "output_type": "execute_result"
    }
   ],
   "source": [
    "## * means more than zero\n",
    "text5 = 'For example, ab+c matches \"abc\", \"abbc\", \"abbbc\", and so on, but not \"ac\"'\n",
    "re.findall(r'ab+c',text5)"
   ]
  },
  {
   "cell_type": "code",
   "execution_count": null,
   "metadata": {
    "colab": {
     "base_uri": "https://localhost:8080/"
    },
    "id": "ZZZACNRbXWEK",
    "outputId": "ebee37ce-27a7-4d77-b416-447f71cd5059"
   },
   "outputs": [
    {
     "data": {
      "text/plain": [
       "['\"dog\"', '\"cat\"', '\"frog\"']"
      ]
     },
     "execution_count": 7,
     "metadata": {},
     "output_type": "execute_result"
    }
   ],
   "source": [
    "## [a-z] means from a to z, I replace l(L) in eel with 1(one)\n",
    "text6 = 'Which following words do not contain Arabic numerals? \"dog\" \"cat\" \"frog\" \"ee1\" '\n",
    "re.findall(r'\\\"[a-z]+\\\"',text6)"
   ]
  },
  {
   "cell_type": "code",
   "execution_count": null,
   "metadata": {
    "colab": {
     "base_uri": "https://localhost:8080/"
    },
    "id": "-6JkWpNssozk",
    "outputId": "5a371723-86b8-46a6-8c27-c225e0bbf84a"
   },
   "outputs": [
    {
     "data": {
      "text/plain": [
       "['discrimination', 'disconnection', 'distribution']"
      ]
     },
     "execution_count": 8,
     "metadata": {},
     "output_type": "execute_result"
    }
   ],
   "source": [
    "## Matching Characters\n",
    "text7='discrimination,disconnection,description,distribution,dictation'\n",
    "text7_norm = re.findall(r'dis[a-z]+tion', text7)\n",
    "text7_norm"
   ]
  },
  {
   "cell_type": "code",
   "execution_count": null,
   "metadata": {
    "colab": {
     "base_uri": "https://localhost:8080/"
    },
    "id": "jLfltUFvZj4p",
    "outputId": "abdae88a-cbe1-4954-d01f-7c2a3333012a"
   },
   "outputs": [
    {
     "data": {
      "text/plain": [
       "['good', 'goood', 'goooood']"
      ]
     },
     "execution_count": 9,
     "metadata": {},
     "output_type": "execute_result"
    }
   ],
   "source": [
    "## assign the frequency of repeated string\n",
    "text8='gd,god,good,goood,goooood,,gooooood,goooooooooood,gooooooooooooooood'\n",
    "text8_norm = re.findall(r'go{2,5}d', text8)\n",
    "text8_norm"
   ]
  },
  {
   "cell_type": "code",
   "execution_count": null,
   "metadata": {
    "colab": {
     "base_uri": "https://localhost:8080/"
    },
    "id": "2K-5vcwNZBeh",
    "outputId": "d2225827-56e3-463a-f2fd-d08a77c64c71"
   },
   "outputs": [
    {
     "name": "stdout",
     "output_type": "stream",
     "text": [
      "No match\n"
     ]
    }
   ],
   "source": [
    "testtext = \"????????????\"\n",
    "result = re.match(r'^[A-Za-z][0-9]{9}$', testtext)\n",
    "\n",
    "if result:\n",
    "    print('Match found: ', result.group())\n",
    "else:\n",
    "    print('No match')"
   ]
  },
  {
   "cell_type": "markdown",
   "metadata": {
    "id": "uA8Jzi7_cJHk"
   },
   "source": []
  },
  {
   "cell_type": "markdown",
   "metadata": {
    "id": "lrw7WTEQnJsa"
   },
   "source": [
    "# 2. Named Entity Recognition (NER)\n",
    "\n"
   ]
  },
  {
   "cell_type": "code",
   "execution_count": null,
   "metadata": {
    "colab": {
     "base_uri": "https://localhost:8080/"
    },
    "id": "d2HnACFxRrEe",
    "outputId": "53645ea7-34d9-4e70-dc01-68f6bce39c5a"
   },
   "outputs": [
    {
     "name": "stdout",
     "output_type": "stream",
     "text": [
      "Requirement already satisfied: spacy in /usr/local/lib/python3.7/dist-packages (3.2.3)\n",
      "Requirement already satisfied: preshed<3.1.0,>=3.0.2 in /usr/local/lib/python3.7/dist-packages (from spacy) (3.0.6)\n",
      "Requirement already satisfied: murmurhash<1.1.0,>=0.28.0 in /usr/local/lib/python3.7/dist-packages (from spacy) (1.0.6)\n",
      "Requirement already satisfied: srsly<3.0.0,>=2.4.1 in /usr/local/lib/python3.7/dist-packages (from spacy) (2.4.2)\n",
      "Requirement already satisfied: tqdm<5.0.0,>=4.38.0 in /usr/local/lib/python3.7/dist-packages (from spacy) (4.63.0)\n",
      "Requirement already satisfied: wasabi<1.1.0,>=0.8.1 in /usr/local/lib/python3.7/dist-packages (from spacy) (0.9.0)\n",
      "Requirement already satisfied: cymem<2.1.0,>=2.0.2 in /usr/local/lib/python3.7/dist-packages (from spacy) (2.0.6)\n",
      "Requirement already satisfied: pydantic!=1.8,!=1.8.1,<1.9.0,>=1.7.4 in /usr/local/lib/python3.7/dist-packages (from spacy) (1.8.2)\n",
      "Requirement already satisfied: spacy-loggers<2.0.0,>=1.0.0 in /usr/local/lib/python3.7/dist-packages (from spacy) (1.0.1)\n",
      "Requirement already satisfied: langcodes<4.0.0,>=3.2.0 in /usr/local/lib/python3.7/dist-packages (from spacy) (3.3.0)\n",
      "Requirement already satisfied: blis<0.8.0,>=0.4.0 in /usr/local/lib/python3.7/dist-packages (from spacy) (0.4.1)\n",
      "Requirement already satisfied: numpy>=1.15.0 in /usr/local/lib/python3.7/dist-packages (from spacy) (1.21.5)\n",
      "Requirement already satisfied: requests<3.0.0,>=2.13.0 in /usr/local/lib/python3.7/dist-packages (from spacy) (2.23.0)\n",
      "Requirement already satisfied: setuptools in /usr/local/lib/python3.7/dist-packages (from spacy) (57.4.0)\n",
      "Requirement already satisfied: typing-extensions<4.0.0.0,>=3.7.4 in /usr/local/lib/python3.7/dist-packages (from spacy) (3.10.0.2)\n",
      "Requirement already satisfied: catalogue<2.1.0,>=2.0.6 in /usr/local/lib/python3.7/dist-packages (from spacy) (2.0.6)\n",
      "Requirement already satisfied: spacy-legacy<3.1.0,>=3.0.8 in /usr/local/lib/python3.7/dist-packages (from spacy) (3.0.9)\n",
      "Requirement already satisfied: thinc<8.1.0,>=8.0.12 in /usr/local/lib/python3.7/dist-packages (from spacy) (8.0.14)\n",
      "Requirement already satisfied: jinja2 in /usr/local/lib/python3.7/dist-packages (from spacy) (2.11.3)\n",
      "Requirement already satisfied: packaging>=20.0 in /usr/local/lib/python3.7/dist-packages (from spacy) (21.3)\n",
      "Requirement already satisfied: pathy>=0.3.5 in /usr/local/lib/python3.7/dist-packages (from spacy) (0.6.1)\n",
      "Requirement already satisfied: typer<0.5.0,>=0.3.0 in /usr/local/lib/python3.7/dist-packages (from spacy) (0.4.0)\n",
      "Requirement already satisfied: zipp>=0.5 in /usr/local/lib/python3.7/dist-packages (from catalogue<2.1.0,>=2.0.6->spacy) (3.7.0)\n",
      "Requirement already satisfied: pyparsing!=3.0.5,>=2.0.2 in /usr/local/lib/python3.7/dist-packages (from packaging>=20.0->spacy) (3.0.7)\n",
      "Requirement already satisfied: smart-open<6.0.0,>=5.0.0 in /usr/local/lib/python3.7/dist-packages (from pathy>=0.3.5->spacy) (5.2.1)\n",
      "Requirement already satisfied: chardet<4,>=3.0.2 in /usr/local/lib/python3.7/dist-packages (from requests<3.0.0,>=2.13.0->spacy) (3.0.4)\n",
      "Requirement already satisfied: certifi>=2017.4.17 in /usr/local/lib/python3.7/dist-packages (from requests<3.0.0,>=2.13.0->spacy) (2021.10.8)\n",
      "Requirement already satisfied: urllib3!=1.25.0,!=1.25.1,<1.26,>=1.21.1 in /usr/local/lib/python3.7/dist-packages (from requests<3.0.0,>=2.13.0->spacy) (1.24.3)\n",
      "Requirement already satisfied: idna<3,>=2.5 in /usr/local/lib/python3.7/dist-packages (from requests<3.0.0,>=2.13.0->spacy) (2.10)\n",
      "Requirement already satisfied: click<9.0.0,>=7.1.1 in /usr/local/lib/python3.7/dist-packages (from typer<0.5.0,>=0.3.0->spacy) (7.1.2)\n",
      "Requirement already satisfied: MarkupSafe>=0.23 in /usr/local/lib/python3.7/dist-packages (from jinja2->spacy) (2.0.1)\n",
      "Collecting en-core-web-sm==3.2.0\n",
      "  Downloading https://github.com/explosion/spacy-models/releases/download/en_core_web_sm-3.2.0/en_core_web_sm-3.2.0-py3-none-any.whl (13.9 MB)\n",
      "\u001b[K     |████████████████████████████████| 13.9 MB 23.0 MB/s \n",
      "\u001b[?25hRequirement already satisfied: spacy<3.3.0,>=3.2.0 in /usr/local/lib/python3.7/dist-packages (from en-core-web-sm==3.2.0) (3.2.3)\n",
      "Requirement already satisfied: setuptools in /usr/local/lib/python3.7/dist-packages (from spacy<3.3.0,>=3.2.0->en-core-web-sm==3.2.0) (57.4.0)\n",
      "Requirement already satisfied: spacy-loggers<2.0.0,>=1.0.0 in /usr/local/lib/python3.7/dist-packages (from spacy<3.3.0,>=3.2.0->en-core-web-sm==3.2.0) (1.0.1)\n",
      "Requirement already satisfied: requests<3.0.0,>=2.13.0 in /usr/local/lib/python3.7/dist-packages (from spacy<3.3.0,>=3.2.0->en-core-web-sm==3.2.0) (2.23.0)\n",
      "Requirement already satisfied: thinc<8.1.0,>=8.0.12 in /usr/local/lib/python3.7/dist-packages (from spacy<3.3.0,>=3.2.0->en-core-web-sm==3.2.0) (8.0.14)\n",
      "Requirement already satisfied: pathy>=0.3.5 in /usr/local/lib/python3.7/dist-packages (from spacy<3.3.0,>=3.2.0->en-core-web-sm==3.2.0) (0.6.1)\n",
      "Requirement already satisfied: typer<0.5.0,>=0.3.0 in /usr/local/lib/python3.7/dist-packages (from spacy<3.3.0,>=3.2.0->en-core-web-sm==3.2.0) (0.4.0)\n",
      "Requirement already satisfied: tqdm<5.0.0,>=4.38.0 in /usr/local/lib/python3.7/dist-packages (from spacy<3.3.0,>=3.2.0->en-core-web-sm==3.2.0) (4.63.0)\n",
      "Requirement already satisfied: murmurhash<1.1.0,>=0.28.0 in /usr/local/lib/python3.7/dist-packages (from spacy<3.3.0,>=3.2.0->en-core-web-sm==3.2.0) (1.0.6)\n",
      "Requirement already satisfied: catalogue<2.1.0,>=2.0.6 in /usr/local/lib/python3.7/dist-packages (from spacy<3.3.0,>=3.2.0->en-core-web-sm==3.2.0) (2.0.6)\n",
      "Requirement already satisfied: pydantic!=1.8,!=1.8.1,<1.9.0,>=1.7.4 in /usr/local/lib/python3.7/dist-packages (from spacy<3.3.0,>=3.2.0->en-core-web-sm==3.2.0) (1.8.2)\n",
      "Requirement already satisfied: jinja2 in /usr/local/lib/python3.7/dist-packages (from spacy<3.3.0,>=3.2.0->en-core-web-sm==3.2.0) (2.11.3)\n",
      "Requirement already satisfied: typing-extensions<4.0.0.0,>=3.7.4 in /usr/local/lib/python3.7/dist-packages (from spacy<3.3.0,>=3.2.0->en-core-web-sm==3.2.0) (3.10.0.2)\n",
      "Requirement already satisfied: spacy-legacy<3.1.0,>=3.0.8 in /usr/local/lib/python3.7/dist-packages (from spacy<3.3.0,>=3.2.0->en-core-web-sm==3.2.0) (3.0.9)\n",
      "Requirement already satisfied: cymem<2.1.0,>=2.0.2 in /usr/local/lib/python3.7/dist-packages (from spacy<3.3.0,>=3.2.0->en-core-web-sm==3.2.0) (2.0.6)\n",
      "Requirement already satisfied: numpy>=1.15.0 in /usr/local/lib/python3.7/dist-packages (from spacy<3.3.0,>=3.2.0->en-core-web-sm==3.2.0) (1.21.5)\n",
      "Requirement already satisfied: blis<0.8.0,>=0.4.0 in /usr/local/lib/python3.7/dist-packages (from spacy<3.3.0,>=3.2.0->en-core-web-sm==3.2.0) (0.4.1)\n",
      "Requirement already satisfied: langcodes<4.0.0,>=3.2.0 in /usr/local/lib/python3.7/dist-packages (from spacy<3.3.0,>=3.2.0->en-core-web-sm==3.2.0) (3.3.0)\n",
      "Requirement already satisfied: srsly<3.0.0,>=2.4.1 in /usr/local/lib/python3.7/dist-packages (from spacy<3.3.0,>=3.2.0->en-core-web-sm==3.2.0) (2.4.2)\n",
      "Requirement already satisfied: wasabi<1.1.0,>=0.8.1 in /usr/local/lib/python3.7/dist-packages (from spacy<3.3.0,>=3.2.0->en-core-web-sm==3.2.0) (0.9.0)\n",
      "Requirement already satisfied: packaging>=20.0 in /usr/local/lib/python3.7/dist-packages (from spacy<3.3.0,>=3.2.0->en-core-web-sm==3.2.0) (21.3)\n",
      "Requirement already satisfied: preshed<3.1.0,>=3.0.2 in /usr/local/lib/python3.7/dist-packages (from spacy<3.3.0,>=3.2.0->en-core-web-sm==3.2.0) (3.0.6)\n",
      "Requirement already satisfied: zipp>=0.5 in /usr/local/lib/python3.7/dist-packages (from catalogue<2.1.0,>=2.0.6->spacy<3.3.0,>=3.2.0->en-core-web-sm==3.2.0) (3.7.0)\n",
      "Requirement already satisfied: pyparsing!=3.0.5,>=2.0.2 in /usr/local/lib/python3.7/dist-packages (from packaging>=20.0->spacy<3.3.0,>=3.2.0->en-core-web-sm==3.2.0) (3.0.7)\n",
      "Requirement already satisfied: smart-open<6.0.0,>=5.0.0 in /usr/local/lib/python3.7/dist-packages (from pathy>=0.3.5->spacy<3.3.0,>=3.2.0->en-core-web-sm==3.2.0) (5.2.1)\n",
      "Requirement already satisfied: idna<3,>=2.5 in /usr/local/lib/python3.7/dist-packages (from requests<3.0.0,>=2.13.0->spacy<3.3.0,>=3.2.0->en-core-web-sm==3.2.0) (2.10)\n",
      "Requirement already satisfied: urllib3!=1.25.0,!=1.25.1,<1.26,>=1.21.1 in /usr/local/lib/python3.7/dist-packages (from requests<3.0.0,>=2.13.0->spacy<3.3.0,>=3.2.0->en-core-web-sm==3.2.0) (1.24.3)\n",
      "Requirement already satisfied: chardet<4,>=3.0.2 in /usr/local/lib/python3.7/dist-packages (from requests<3.0.0,>=2.13.0->spacy<3.3.0,>=3.2.0->en-core-web-sm==3.2.0) (3.0.4)\n",
      "Requirement already satisfied: certifi>=2017.4.17 in /usr/local/lib/python3.7/dist-packages (from requests<3.0.0,>=2.13.0->spacy<3.3.0,>=3.2.0->en-core-web-sm==3.2.0) (2021.10.8)\n",
      "Requirement already satisfied: click<9.0.0,>=7.1.1 in /usr/local/lib/python3.7/dist-packages (from typer<0.5.0,>=0.3.0->spacy<3.3.0,>=3.2.0->en-core-web-sm==3.2.0) (7.1.2)\n",
      "Requirement already satisfied: MarkupSafe>=0.23 in /usr/local/lib/python3.7/dist-packages (from jinja2->spacy<3.3.0,>=3.2.0->en-core-web-sm==3.2.0) (2.0.1)\n",
      "\u001b[38;5;2m✔ Download and installation successful\u001b[0m\n",
      "You can now load the package via spacy.load('en_core_web_sm')\n",
      "Collecting zh-core-web-sm==3.2.0\n",
      "  Downloading https://github.com/explosion/spacy-models/releases/download/zh_core_web_sm-3.2.0/zh_core_web_sm-3.2.0-py3-none-any.whl (49.5 MB)\n",
      "\u001b[K     |████████████████████████████████| 49.5 MB 262 kB/s \n",
      "\u001b[?25hRequirement already satisfied: spacy<3.3.0,>=3.2.0 in /usr/local/lib/python3.7/dist-packages (from zh-core-web-sm==3.2.0) (3.2.3)\n",
      "Requirement already satisfied: spacy-pkuseg<0.1.0,>=0.0.27 in /usr/local/lib/python3.7/dist-packages (from zh-core-web-sm==3.2.0) (0.0.28)\n",
      "Requirement already satisfied: typer<0.5.0,>=0.3.0 in /usr/local/lib/python3.7/dist-packages (from spacy<3.3.0,>=3.2.0->zh-core-web-sm==3.2.0) (0.4.0)\n",
      "Requirement already satisfied: blis<0.8.0,>=0.4.0 in /usr/local/lib/python3.7/dist-packages (from spacy<3.3.0,>=3.2.0->zh-core-web-sm==3.2.0) (0.4.1)\n",
      "Requirement already satisfied: typing-extensions<4.0.0.0,>=3.7.4 in /usr/local/lib/python3.7/dist-packages (from spacy<3.3.0,>=3.2.0->zh-core-web-sm==3.2.0) (3.10.0.2)\n",
      "Requirement already satisfied: tqdm<5.0.0,>=4.38.0 in /usr/local/lib/python3.7/dist-packages (from spacy<3.3.0,>=3.2.0->zh-core-web-sm==3.2.0) (4.63.0)\n",
      "Requirement already satisfied: pathy>=0.3.5 in /usr/local/lib/python3.7/dist-packages (from spacy<3.3.0,>=3.2.0->zh-core-web-sm==3.2.0) (0.6.1)\n",
      "Requirement already satisfied: spacy-loggers<2.0.0,>=1.0.0 in /usr/local/lib/python3.7/dist-packages (from spacy<3.3.0,>=3.2.0->zh-core-web-sm==3.2.0) (1.0.1)\n",
      "Requirement already satisfied: srsly<3.0.0,>=2.4.1 in /usr/local/lib/python3.7/dist-packages (from spacy<3.3.0,>=3.2.0->zh-core-web-sm==3.2.0) (2.4.2)\n",
      "Requirement already satisfied: langcodes<4.0.0,>=3.2.0 in /usr/local/lib/python3.7/dist-packages (from spacy<3.3.0,>=3.2.0->zh-core-web-sm==3.2.0) (3.3.0)\n",
      "Requirement already satisfied: wasabi<1.1.0,>=0.8.1 in /usr/local/lib/python3.7/dist-packages (from spacy<3.3.0,>=3.2.0->zh-core-web-sm==3.2.0) (0.9.0)\n",
      "Requirement already satisfied: spacy-legacy<3.1.0,>=3.0.8 in /usr/local/lib/python3.7/dist-packages (from spacy<3.3.0,>=3.2.0->zh-core-web-sm==3.2.0) (3.0.9)\n",
      "Requirement already satisfied: numpy>=1.15.0 in /usr/local/lib/python3.7/dist-packages (from spacy<3.3.0,>=3.2.0->zh-core-web-sm==3.2.0) (1.21.5)\n",
      "Requirement already satisfied: cymem<2.1.0,>=2.0.2 in /usr/local/lib/python3.7/dist-packages (from spacy<3.3.0,>=3.2.0->zh-core-web-sm==3.2.0) (2.0.6)\n",
      "Requirement already satisfied: setuptools in /usr/local/lib/python3.7/dist-packages (from spacy<3.3.0,>=3.2.0->zh-core-web-sm==3.2.0) (57.4.0)\n",
      "Requirement already satisfied: jinja2 in /usr/local/lib/python3.7/dist-packages (from spacy<3.3.0,>=3.2.0->zh-core-web-sm==3.2.0) (2.11.3)\n",
      "Requirement already satisfied: catalogue<2.1.0,>=2.0.6 in /usr/local/lib/python3.7/dist-packages (from spacy<3.3.0,>=3.2.0->zh-core-web-sm==3.2.0) (2.0.6)\n",
      "Requirement already satisfied: murmurhash<1.1.0,>=0.28.0 in /usr/local/lib/python3.7/dist-packages (from spacy<3.3.0,>=3.2.0->zh-core-web-sm==3.2.0) (1.0.6)\n",
      "Requirement already satisfied: pydantic!=1.8,!=1.8.1,<1.9.0,>=1.7.4 in /usr/local/lib/python3.7/dist-packages (from spacy<3.3.0,>=3.2.0->zh-core-web-sm==3.2.0) (1.8.2)\n",
      "Requirement already satisfied: thinc<8.1.0,>=8.0.12 in /usr/local/lib/python3.7/dist-packages (from spacy<3.3.0,>=3.2.0->zh-core-web-sm==3.2.0) (8.0.14)\n",
      "Requirement already satisfied: packaging>=20.0 in /usr/local/lib/python3.7/dist-packages (from spacy<3.3.0,>=3.2.0->zh-core-web-sm==3.2.0) (21.3)\n",
      "Requirement already satisfied: preshed<3.1.0,>=3.0.2 in /usr/local/lib/python3.7/dist-packages (from spacy<3.3.0,>=3.2.0->zh-core-web-sm==3.2.0) (3.0.6)\n",
      "Requirement already satisfied: requests<3.0.0,>=2.13.0 in /usr/local/lib/python3.7/dist-packages (from spacy<3.3.0,>=3.2.0->zh-core-web-sm==3.2.0) (2.23.0)\n",
      "Requirement already satisfied: zipp>=0.5 in /usr/local/lib/python3.7/dist-packages (from catalogue<2.1.0,>=2.0.6->spacy<3.3.0,>=3.2.0->zh-core-web-sm==3.2.0) (3.7.0)\n",
      "Requirement already satisfied: pyparsing!=3.0.5,>=2.0.2 in /usr/local/lib/python3.7/dist-packages (from packaging>=20.0->spacy<3.3.0,>=3.2.0->zh-core-web-sm==3.2.0) (3.0.7)\n",
      "Requirement already satisfied: smart-open<6.0.0,>=5.0.0 in /usr/local/lib/python3.7/dist-packages (from pathy>=0.3.5->spacy<3.3.0,>=3.2.0->zh-core-web-sm==3.2.0) (5.2.1)\n",
      "Requirement already satisfied: idna<3,>=2.5 in /usr/local/lib/python3.7/dist-packages (from requests<3.0.0,>=2.13.0->spacy<3.3.0,>=3.2.0->zh-core-web-sm==3.2.0) (2.10)\n",
      "Requirement already satisfied: chardet<4,>=3.0.2 in /usr/local/lib/python3.7/dist-packages (from requests<3.0.0,>=2.13.0->spacy<3.3.0,>=3.2.0->zh-core-web-sm==3.2.0) (3.0.4)\n",
      "Requirement already satisfied: certifi>=2017.4.17 in /usr/local/lib/python3.7/dist-packages (from requests<3.0.0,>=2.13.0->spacy<3.3.0,>=3.2.0->zh-core-web-sm==3.2.0) (2021.10.8)\n",
      "Requirement already satisfied: urllib3!=1.25.0,!=1.25.1,<1.26,>=1.21.1 in /usr/local/lib/python3.7/dist-packages (from requests<3.0.0,>=2.13.0->spacy<3.3.0,>=3.2.0->zh-core-web-sm==3.2.0) (1.24.3)\n",
      "Requirement already satisfied: cython>=0.25 in /usr/local/lib/python3.7/dist-packages (from spacy-pkuseg<0.1.0,>=0.0.27->zh-core-web-sm==3.2.0) (0.29.28)\n",
      "Requirement already satisfied: click<9.0.0,>=7.1.1 in /usr/local/lib/python3.7/dist-packages (from typer<0.5.0,>=0.3.0->spacy<3.3.0,>=3.2.0->zh-core-web-sm==3.2.0) (7.1.2)\n",
      "Requirement already satisfied: MarkupSafe>=0.23 in /usr/local/lib/python3.7/dist-packages (from jinja2->spacy<3.3.0,>=3.2.0->zh-core-web-sm==3.2.0) (2.0.1)\n",
      "\u001b[38;5;2m✔ Download and installation successful\u001b[0m\n",
      "You can now load the package via spacy.load('zh_core_web_sm')\n"
     ]
    }
   ],
   "source": [
    "#install spaCy version 3, the spacy default of google colab is version 2\n",
    "!pip install -U spacy\n",
    "!python -m spacy download en_core_web_sm #download english module\n",
    "!python -m spacy download zh_core_web_sm #download chinese module"
   ]
  },
  {
   "cell_type": "code",
   "execution_count": null,
   "metadata": {
    "id": "4f_JL_6fF62-"
   },
   "outputs": [],
   "source": [
    "text=\"National Tsing Hua University was established in Beijing in 1911 as “Tsing Hua Academy”. \\\n",
    "In 1956, National Tsing Hua University was re-established at its present location in Hsinchu, Taiwan. \\\n",
    "Since its relocation, NTHU has developed into a comprehensive research university offering a full range \\\n",
    "of degree programs in science, technology, engineering, humanities, social sciences, and management.\""
   ]
  },
  {
   "cell_type": "code",
   "execution_count": null,
   "metadata": {
    "colab": {
     "base_uri": "https://localhost:8080/"
    },
    "id": "b3wR88wsoc9R",
    "outputId": "f68ec1bc-1594-4f82-b73a-228180cbef62"
   },
   "outputs": [
    {
     "data": {
      "text/plain": [
       "(National Tsing Hua University,\n",
       " Beijing,\n",
       " 1911,\n",
       " Tsing Hua Academy,\n",
       " 1956,\n",
       " National Tsing Hua University,\n",
       " Hsinchu,\n",
       " Taiwan,\n",
       " NTHU)"
      ]
     },
     "execution_count": 13,
     "metadata": {},
     "output_type": "execute_result"
    }
   ],
   "source": [
    "import spacy\n",
    "nlp = spacy.load('en_core_web_sm')\n",
    "doc = nlp(text)\n",
    "doc.ents # # .ents - entities"
   ]
  },
  {
   "cell_type": "code",
   "execution_count": null,
   "metadata": {
    "colab": {
     "base_uri": "https://localhost:8080/"
    },
    "id": "ApNO7P4jeHuD",
    "outputId": "8653cfd3-4999-4bde-eae3-e08b68eacbaa"
   },
   "outputs": [
    {
     "name": "stdout",
     "output_type": "stream",
     "text": [
      "[('National Tsing Hua University', 'ORG'), ('Beijing', 'GPE'), ('1911', 'DATE'), ('Tsing Hua Academy', 'WORK_OF_ART'), ('1956', 'DATE'), ('National Tsing Hua University', 'ORG'), ('Hsinchu', 'GPE'), ('Taiwan', 'GPE'), ('NTHU', 'ORG')]\n"
     ]
    }
   ],
   "source": [
    "print([(X.text, X.label_) for X in doc.ents])"
   ]
  },
  {
   "cell_type": "code",
   "execution_count": null,
   "metadata": {
    "colab": {
     "base_uri": "https://localhost:8080/"
    },
    "id": "TAuQ9OsyQXk0",
    "outputId": "05ed3149-8af5-4394-f94e-fb372633972a"
   },
   "outputs": [
    {
     "name": "stdout",
     "output_type": "stream",
     "text": [
      "National Tsing Hua University : 0 29 ORG\n",
      "Beijing : 49 56 GPE\n",
      "1911 : 60 64 DATE\n",
      "Tsing Hua Academy : 69 86 WORK_OF_ART\n",
      "1956 : 92 96 DATE\n",
      "National Tsing Hua University : 98 127 ORG\n",
      "Hsinchu : 174 181 GPE\n",
      "Taiwan : 183 189 GPE\n",
      "NTHU : 213 217 ORG\n"
     ]
    }
   ],
   "source": [
    "for ent in doc.ents:\n",
    "    print(ent.text,':', ent.start_char, ent.end_char, ent.label_)"
   ]
  },
  {
   "cell_type": "code",
   "execution_count": null,
   "metadata": {
    "colab": {
     "base_uri": "https://localhost:8080/",
     "height": 192
    },
    "id": "z3W8C0EBUbQc",
    "outputId": "1f0ba0b6-751d-4068-eeeb-4a07292574a3"
   },
   "outputs": [
    {
     "data": {
      "text/html": [
       "<span class=\"tex2jax_ignore\"><div class=\"entities\" style=\"line-height: 2.5; direction: ltr\">\n",
       "<mark class=\"entity\" style=\"background: #7aecec; padding: 0.45em 0.6em; margin: 0 0.25em; line-height: 1; border-radius: 0.35em;\">\n",
       "    National Tsing Hua University\n",
       "    <span style=\"font-size: 0.8em; font-weight: bold; line-height: 1; border-radius: 0.35em; vertical-align: middle; margin-left: 0.5rem\">ORG</span>\n",
       "</mark>\n",
       " was established in \n",
       "<mark class=\"entity\" style=\"background: #feca74; padding: 0.45em 0.6em; margin: 0 0.25em; line-height: 1; border-radius: 0.35em;\">\n",
       "    Beijing\n",
       "    <span style=\"font-size: 0.8em; font-weight: bold; line-height: 1; border-radius: 0.35em; vertical-align: middle; margin-left: 0.5rem\">GPE</span>\n",
       "</mark>\n",
       " in \n",
       "<mark class=\"entity\" style=\"background: #bfe1d9; padding: 0.45em 0.6em; margin: 0 0.25em; line-height: 1; border-radius: 0.35em;\">\n",
       "    1911\n",
       "    <span style=\"font-size: 0.8em; font-weight: bold; line-height: 1; border-radius: 0.35em; vertical-align: middle; margin-left: 0.5rem\">DATE</span>\n",
       "</mark>\n",
       " as “\n",
       "<mark class=\"entity\" style=\"background: #f0d0ff; padding: 0.45em 0.6em; margin: 0 0.25em; line-height: 1; border-radius: 0.35em;\">\n",
       "    Tsing Hua Academy\n",
       "    <span style=\"font-size: 0.8em; font-weight: bold; line-height: 1; border-radius: 0.35em; vertical-align: middle; margin-left: 0.5rem\">WORK_OF_ART</span>\n",
       "</mark>\n",
       "”. In \n",
       "<mark class=\"entity\" style=\"background: #bfe1d9; padding: 0.45em 0.6em; margin: 0 0.25em; line-height: 1; border-radius: 0.35em;\">\n",
       "    1956\n",
       "    <span style=\"font-size: 0.8em; font-weight: bold; line-height: 1; border-radius: 0.35em; vertical-align: middle; margin-left: 0.5rem\">DATE</span>\n",
       "</mark>\n",
       ", \n",
       "<mark class=\"entity\" style=\"background: #7aecec; padding: 0.45em 0.6em; margin: 0 0.25em; line-height: 1; border-radius: 0.35em;\">\n",
       "    National Tsing Hua University\n",
       "    <span style=\"font-size: 0.8em; font-weight: bold; line-height: 1; border-radius: 0.35em; vertical-align: middle; margin-left: 0.5rem\">ORG</span>\n",
       "</mark>\n",
       " was re-established at its present location in \n",
       "<mark class=\"entity\" style=\"background: #feca74; padding: 0.45em 0.6em; margin: 0 0.25em; line-height: 1; border-radius: 0.35em;\">\n",
       "    Hsinchu\n",
       "    <span style=\"font-size: 0.8em; font-weight: bold; line-height: 1; border-radius: 0.35em; vertical-align: middle; margin-left: 0.5rem\">GPE</span>\n",
       "</mark>\n",
       ", \n",
       "<mark class=\"entity\" style=\"background: #feca74; padding: 0.45em 0.6em; margin: 0 0.25em; line-height: 1; border-radius: 0.35em;\">\n",
       "    Taiwan\n",
       "    <span style=\"font-size: 0.8em; font-weight: bold; line-height: 1; border-radius: 0.35em; vertical-align: middle; margin-left: 0.5rem\">GPE</span>\n",
       "</mark>\n",
       ". Since its relocation, \n",
       "<mark class=\"entity\" style=\"background: #7aecec; padding: 0.45em 0.6em; margin: 0 0.25em; line-height: 1; border-radius: 0.35em;\">\n",
       "    NTHU\n",
       "    <span style=\"font-size: 0.8em; font-weight: bold; line-height: 1; border-radius: 0.35em; vertical-align: middle; margin-left: 0.5rem\">ORG</span>\n",
       "</mark>\n",
       " has developed into a comprehensive research university offering a full range of degree programs in science, technology, engineering, humanities, social sciences, and management.</div></span>"
      ],
      "text/plain": [
       "<IPython.core.display.HTML object>"
      ]
     },
     "metadata": {},
     "output_type": "display_data"
    }
   ],
   "source": [
    "from spacy import displacy\n",
    "displacy.render(doc, jupyter=True, style='ent')"
   ]
  },
  {
   "cell_type": "code",
   "execution_count": null,
   "metadata": {
    "colab": {
     "base_uri": "https://localhost:8080/",
     "height": 507
    },
    "id": "B6c9e_xWPiJS",
    "outputId": "99031a77-17be-4136-f2b3-0b8307c7121e"
   },
   "outputs": [
    {
     "data": {
      "text/html": [
       "<span class=\"tex2jax_ignore\"><div class=\"entities\" style=\"line-height: 2.5; direction: ltr\">A smartphone application capable of identifying medicines based on their appearance was unveiled \n",
       "<mark class=\"entity\" style=\"background: #bfe1d9; padding: 0.45em 0.6em; margin: 0 0.25em; line-height: 1; border-radius: 0.35em;\">\n",
       "    May 7\n",
       "    <span style=\"font-size: 0.8em; font-weight: bold; line-height: 1; border-radius: 0.35em; vertical-align: middle; margin-left: 0.5rem\">DATE</span>\n",
       "</mark>\n",
       " by \n",
       "<mark class=\"entity\" style=\"background: #7aecec; padding: 0.45em 0.6em; margin: 0 0.25em; line-height: 1; border-radius: 0.35em;\">\n",
       "    National Yang-Ming University\n",
       "    <span style=\"font-size: 0.8em; font-weight: bold; line-height: 1; border-radius: 0.35em; vertical-align: middle; margin-left: 0.5rem\">ORG</span>\n",
       "</mark>\n",
       " in \n",
       "<mark class=\"entity\" style=\"background: #feca74; padding: 0.45em 0.6em; margin: 0 0.25em; line-height: 1; border-radius: 0.35em;\">\n",
       "    Taipei City\n",
       "    <span style=\"font-size: 0.8em; font-weight: bold; line-height: 1; border-radius: 0.35em; vertical-align: middle; margin-left: 0.5rem\">GPE</span>\n",
       "</mark>\n",
       ".Designed for home care professionals, \n",
       "<mark class=\"entity\" style=\"background: #7aecec; padding: 0.45em 0.6em; margin: 0 0.25em; line-height: 1; border-radius: 0.35em;\">\n",
       "    AIGIA\n",
       "    <span style=\"font-size: 0.8em; font-weight: bold; line-height: 1; border-radius: 0.35em; vertical-align: middle; margin-left: 0.5rem\">ORG</span>\n",
       "</mark>\n",
       " can recognize around \n",
       "<mark class=\"entity\" style=\"background: #e4e7d2; padding: 0.45em 0.6em; margin: 0 0.25em; line-height: 1; border-radius: 0.35em;\">\n",
       "    400\n",
       "    <span style=\"font-size: 0.8em; font-weight: bold; line-height: 1; border-radius: 0.35em; vertical-align: middle; margin-left: 0.5rem\">CARDINAL</span>\n",
       "</mark>\n",
       " commonly used drugs and provide detailed information on the pharmaceuticals in \n",
       "<mark class=\"entity\" style=\"background: #ff8197; padding: 0.45em 0.6em; margin: 0 0.25em; line-height: 1; border-radius: 0.35em;\">\n",
       "    English\n",
       "    <span style=\"font-size: 0.8em; font-weight: bold; line-height: 1; border-radius: 0.35em; vertical-align: middle; margin-left: 0.5rem\">LANGUAGE</span>\n",
       "</mark>\n",
       ",\n",
       "<mark class=\"entity\" style=\"background: #c887fb; padding: 0.45em 0.6em; margin: 0 0.25em; line-height: 1; border-radius: 0.35em;\">\n",
       "    Indonesian\n",
       "    <span style=\"font-size: 0.8em; font-weight: bold; line-height: 1; border-radius: 0.35em; vertical-align: middle; margin-left: 0.5rem\">NORP</span>\n",
       "</mark>\n",
       ", \n",
       "<mark class=\"entity\" style=\"background: #c887fb; padding: 0.45em 0.6em; margin: 0 0.25em; line-height: 1; border-radius: 0.35em;\">\n",
       "    Malay\n",
       "    <span style=\"font-size: 0.8em; font-weight: bold; line-height: 1; border-radius: 0.35em; vertical-align: middle; margin-left: 0.5rem\">NORP</span>\n",
       "</mark>\n",
       " and \n",
       "<mark class=\"entity\" style=\"background: #c887fb; padding: 0.45em 0.6em; margin: 0 0.25em; line-height: 1; border-radius: 0.35em;\">\n",
       "    Vietnamese\n",
       "    <span style=\"font-size: 0.8em; font-weight: bold; line-height: 1; border-radius: 0.35em; vertical-align: middle; margin-left: 0.5rem\">NORP</span>\n",
       "</mark>\n",
       ". It is designed to work in conjunction with MedBox, a mobile imaging device also created by the \n",
       "<mark class=\"entity\" style=\"background: #7aecec; padding: 0.45em 0.6em; margin: 0 0.25em; line-height: 1; border-radius: 0.35em;\">\n",
       "    NYMU\n",
       "    <span style=\"font-size: 0.8em; font-weight: bold; line-height: 1; border-radius: 0.35em; vertical-align: middle; margin-left: 0.5rem\">ORG</span>\n",
       "</mark>\n",
       " team for photographing medicines.According to the university, \n",
       "<mark class=\"entity\" style=\"background: #e4e7d2; padding: 0.45em 0.6em; margin: 0 0.25em; line-height: 1; border-radius: 0.35em;\">\n",
       "    around 500,000\n",
       "    <span style=\"font-size: 0.8em; font-weight: bold; line-height: 1; border-radius: 0.35em; vertical-align: middle; margin-left: 0.5rem\">CARDINAL</span>\n",
       "</mark>\n",
       " seniors in \n",
       "<mark class=\"entity\" style=\"background: #feca74; padding: 0.45em 0.6em; margin: 0 0.25em; line-height: 1; border-radius: 0.35em;\">\n",
       "    Taiwan\n",
       "    <span style=\"font-size: 0.8em; font-weight: bold; line-height: 1; border-radius: 0.35em; vertical-align: middle; margin-left: 0.5rem\">GPE</span>\n",
       "</mark>\n",
       " have multiple chronic diseases and need to take several drugs \n",
       "<mark class=\"entity\" style=\"background: #bfe1d9; padding: 0.45em 0.6em; margin: 0 0.25em; line-height: 1; border-radius: 0.35em;\">\n",
       "    every day\n",
       "    <span style=\"font-size: 0.8em; font-weight: bold; line-height: 1; border-radius: 0.35em; vertical-align: middle; margin-left: 0.5rem\">DATE</span>\n",
       "</mark>\n",
       ". As many pills are similar insize and appearance, \n",
       "<mark class=\"entity\" style=\"background: #e4e7d2; padding: 0.45em 0.6em; margin: 0 0.25em; line-height: 1; border-radius: 0.35em;\">\n",
       "    more than half\n",
       "    <span style=\"font-size: 0.8em; font-weight: bold; line-height: 1; border-radius: 0.35em; vertical-align: middle; margin-left: 0.5rem\">CARDINAL</span>\n",
       "</mark>\n",
       " of such elderly patients have reported mistakenly taking the wrong medication, \n",
       "<mark class=\"entity\" style=\"background: #7aecec; padding: 0.45em 0.6em; margin: 0 0.25em; line-height: 1; border-radius: 0.35em;\">\n",
       "    NYMU\n",
       "    <span style=\"font-size: 0.8em; font-weight: bold; line-height: 1; border-radius: 0.35em; vertical-align: middle; margin-left: 0.5rem\">ORG</span>\n",
       "</mark>\n",
       " said.Dr. \n",
       "<mark class=\"entity\" style=\"background: #aa9cfc; padding: 0.45em 0.6em; margin: 0 0.25em; line-height: 1; border-radius: 0.35em;\">\n",
       "    Chen Yu-chun\n",
       "    <span style=\"font-size: 0.8em; font-weight: bold; line-height: 1; border-radius: 0.35em; vertical-align: middle; margin-left: 0.5rem\">PERSON</span>\n",
       "</mark>\n",
       ", an associate professor at the college and head of the R&amp;D team, said that many patients in \n",
       "<mark class=\"entity\" style=\"background: #feca74; padding: 0.45em 0.6em; margin: 0 0.25em; line-height: 1; border-radius: 0.35em;\">\n",
       "    Taiwan\n",
       "    <span style=\"font-size: 0.8em; font-weight: bold; line-height: 1; border-radius: 0.35em; vertical-align: middle; margin-left: 0.5rem\">GPE</span>\n",
       "</mark>\n",
       " discard external packaging and store pillsin the same box, which can create difficulties for caregivers. The app provides a simple solution in case of uncertainty, with initial trials at \n",
       "<mark class=\"entity\" style=\"background: #9cc9cc; padding: 0.45em 0.6em; margin: 0 0.25em; line-height: 1; border-radius: 0.35em;\">\n",
       "    Taipei VeteransGeneral Hospital\n",
       "    <span style=\"font-size: 0.8em; font-weight: bold; line-height: 1; border-radius: 0.35em; vertical-align: middle; margin-left: 0.5rem\">FAC</span>\n",
       "</mark>\n",
       " demonstrating that it has an accuracy rate of \n",
       "<mark class=\"entity\" style=\"background: #e4e7d2; padding: 0.45em 0.6em; margin: 0 0.25em; line-height: 1; border-radius: 0.35em;\">\n",
       "    about 95 percent\n",
       "    <span style=\"font-size: 0.8em; font-weight: bold; line-height: 1; border-radius: 0.35em; vertical-align: middle; margin-left: 0.5rem\">PERCENT</span>\n",
       "</mark>\n",
       ", he added</div></span>"
      ],
      "text/plain": [
       "<IPython.core.display.HTML object>"
      ]
     },
     "metadata": {},
     "output_type": "display_data"
    }
   ],
   "source": [
    "# define text\n",
    "text2=\"A smartphone application capable of identifying medicines based on their appearance was unveiled May 7 by National Yang-Ming University in Taipei City.\\\n",
    "Designed for home care professionals, AIGIA can recognize around 400 commonly used drugs and provide detailed information on the pharmaceuticals in English,\\\n",
    "Indonesian, Malay and Vietnamese. It is designed to work in conjunction with MedBox, a mobile imaging device also created by the NYMU team for photographing medicines.\\\n",
    "According to the university, around 500,000 seniors in Taiwan have multiple chronic diseases and need to take several drugs every day. As many pills are similar in\\\n",
    "size and appearance, more than half of such elderly patients have reported mistakenly taking the wrong medication, NYMU said.\\\n",
    "Dr. Chen Yu-chun, an associate professor at the college and head of the R&D team, said that many patients in Taiwan discard external packaging and store pills\\\n",
    "in the same box, which can create difficulties for caregivers. The app provides a simple solution in case of uncertainty, with initial trials at Taipei Veterans\\\n",
    "General Hospital demonstrating that it has an accuracy rate of about 95 percent, he added\"\n",
    "doc2=nlp(text2)\n",
    "displacy.render(doc2, jupyter=True, style='ent')\n"
   ]
  },
  {
   "cell_type": "markdown",
   "metadata": {
    "id": "D_dGMvRTYZBv"
   },
   "source": [
    "# NER Chinese"
   ]
  },
  {
   "cell_type": "code",
   "execution_count": null,
   "metadata": {
    "colab": {
     "base_uri": "https://localhost:8080/"
    },
    "id": "tREWEkLP2POd",
    "outputId": "268acbae-dab2-4d4a-837b-bfa565ec3600"
   },
   "outputs": [
    {
     "name": "stdout",
     "output_type": "stream",
     "text": [
      "['國立清華大學立校於中西文化激盪之際，不同學問的思辨，本土與國際的對話，滋養人才，學貫中西，貢獻人群，橫跨學術、藝術、文學、軍事、政治、經濟各領域，為本校傲人的傳統。學校歷經變遷，而弦歌不曾稍歇；於逆境中，自強以不息，於板蕩中，厚德以載物，是本校師生的精神與面貌，以迄於今。而服務科學研究所成立於2008年 是亞洲第一個服務科學研究所，首開服務科學跨領域學習研究並培養創新人才，強調科技與人文的結合，以便在服務內容的發展，或是服務提供的過程中，提高服務滿意度，達到服務創新所帶來的價值。同時探討如何以科學化的方法與技術，增進服務相關產業與企業流程的生產力與創新，增進人類福祉。本所培育的人才具有跨領域思維能力，能將服務科學知識廣泛應用在各領域，本所學生畢業後就職，如同服科所本身多元發展的特性，除出國繼續進修深造外，皆能於各領域發揮專長，除網路產業、製造/軟體服務業、研究單位外，自行創業、加入Start-up團隊或前進兩岸三地就職也不在少數。']\n"
     ]
    }
   ],
   "source": [
    "## Input text\n",
    "chinese_text = \"國立清華大學立校於中西文化激盪之際，不同學問的思辨，本土與國際的對話，滋養人才，學貫中西，貢獻人群，橫跨學術、藝術、文學、軍事、政治、經濟各領域，\\\n",
    "為本校傲人的傳統。學校歷經變遷，而弦歌不曾稍歇；於逆境中，自強以不息，於板蕩中，厚德以載物，是本校師生的精神與面貌，以迄於今。而服務科學研究所成立於2008年 \\\n",
    "是亞洲第一個服務科學研究所，首開服務科學跨領域學習研究並培養創新人才，強調科技與人文的結合，以便在服務內容的發展，或是服務提供的過程中，提高服務滿意度，達到服務創新所帶來的價值。\\\n",
    "同時探討如何以科學化的方法與技術，增進服務相關產業與企業流程的生產力與創新，增進人類福祉。\\\n",
    "本所培育的人才具有跨領域思維能力，能將服務科學知識廣泛應用在各領域，本所學生畢業後就職，如同服科所本身多元發展的特性，除出國繼續進修深造外，皆能於各領域發揮專長，\\\n",
    "除網路產業、製造/軟體服務業、研究單位外，自行創業、加入Start-up團隊或前進兩岸三地就職也不在少數。\"\n",
    "\n",
    "chinese_text_cn=\"国立清华大学立校于中西文化激盪之际，不同学问的思辨，本土与国际的对话，滋养人才，学贯中西，贡献人群，横跨学术、艺术、文学、军事、政治、经济各领域，\\\n",
    "为本校傲人的传统。学校历经变迁，而弦歌不曾稍歇；于逆境中，自强以不息，于板荡中，厚德以载物，是本校师生的精神与面貌，以迄于今。而服务科学研究所成立于2008年 \\\n",
    "是亚洲第一个服务科学研究所，首开服务科学跨领域学习研究并培养创新人才，强调科技与人文的结合，以便在服务内容的发展，或是服务提供的过程中，提高服务满意度，达到服务创新所带来的价值。\\\n",
    "同时探讨如何以科学化的方法与技术，增进服务相关产业与企业流程的生产力与创新，增进人类福祉。\\\n",
    "本所培育的人才具有跨领域思维能力，能将服务科学知识广泛应用在各领域，本所学生毕业后就职，如同服科所本身多元发展的特性，除出国继续进修深造外，皆能于各领域发挥专长，\\\n",
    "除网路产业、製造/软体服务业、研究单位外，自行创业、加入Start-up团队或前进两岸三地就职也不在少数。\"\n",
    "\n",
    "## paragraph breaks\n",
    "text = [p for p in chinese_text.split('\\n') if len(p) != 0]\n",
    "print(text)"
   ]
  },
  {
   "cell_type": "markdown",
   "metadata": {
    "id": "gcTsD8W3VYKk"
   },
   "source": [
    "## Using Jieba\n",
    "\n",
    "\n",
    "Source：https://kknews.cc/education/q45naob.html"
   ]
  },
  {
   "cell_type": "code",
   "execution_count": null,
   "metadata": {
    "colab": {
     "base_uri": "https://localhost:8080/"
    },
    "id": "Z1HKmBIjVcge",
    "outputId": "9ae1e235-636e-4dd0-f08b-c0eca4ded3f9"
   },
   "outputs": [
    {
     "name": "stdout",
     "output_type": "stream",
     "text": [
      "Requirement already satisfied: opencc-python-reimplemented in /usr/local/lib/python3.7/dist-packages (0.1.6)\n"
     ]
    },
    {
     "name": "stderr",
     "output_type": "stream",
     "text": [
      "Building prefix dict from /content/dict.txt.big ...\n",
      "Dumping model to file cache /tmp/jieba.u501edca284da514cb68b53a20324f4e3.cache\n",
      "Loading model cost 1.842 seconds.\n",
      "Prefix dict has been built successfully.\n"
     ]
    },
    {
     "name": "stdout",
     "output_type": "stream",
     "text": [
      "extract_tags:  ('人才', 0.9407798946028572)\n",
      "extract_tags:  ('研究所', 0.5913788147095238)\n",
      "extract_tags:  ('立校', 0.5692746429952381)\n",
      "extract_tags:  ('服科', 0.5692746429952381)\n",
      "extract_tags:  ('傲人', 0.5522901218571429)\n",
      "extract_tags:  ('弦歌', 0.539796585452381)\n",
      "extract_tags:  ('中西文化', 0.5147445332666667)\n",
      "extract_tags:  ('逆境', 0.4999752509666666)\n",
      "extract_tags:  ('人文', 0.39534550918952377)\n",
      "extract_tags:  ('面貌', 0.37307474104142857)\n",
      "extract_tags:  ('流程', 0.36976727432809525)\n",
      "extract_tags:  ('本土', 0.3584456124952381)\n",
      "extract_tags:  ('特性', 0.32279132239761904)\n",
      "extract_tags:  ('人群', 0.3112443160819048)\n",
      "extract_tags:  ('科技', 0.2777273663528571)\n",
      "extract_tags:  ('精神', 0.26760539292476193)\n",
      "extract_tags:  ('政治', 0.24456397322095239)\n",
      "extract_tags:  ('方法', 0.23656214428761904)\n"
     ]
    }
   ],
   "source": [
    "import jieba \n",
    "import jieba.analyse \n",
    "import jieba.posseg as posg\n",
    "\n",
    "!pip3 install opencc-python-reimplemented\n",
    "from opencc import OpenCC\n",
    "cc = OpenCC('s2t')\n",
    "\n",
    "#https://github.com/fxsjy/jieba/raw/master/extra_dict/dict.txt.big\n",
    "\n",
    "#download chinese stopwords file at https://raw.githubusercontent.com/stopwords-iso/stopwords-zh/master/stopwords-zh.txt\n",
    "# and save to your computer, you also add more chinese stopwords\n",
    "import requests\n",
    "\n",
    "## Download dictionary that has better support for traditional Chinese https://github.com/fxsjy/jieba\n",
    "url = 'https://github.com/fxsjy/jieba/raw/master/extra_dict/dict.txt.big'\n",
    "r = requests.get(url, allow_redirects=True)\n",
    "open('dict.txt.big', 'wb').write(r.content)\n",
    "\n",
    "jieba.set_dictionary('dict.txt.big')\n",
    "\n",
    "kw1=jieba.analyse.extract_tags(chinese_text,topK=20,withWeight=True,allowPOS=('n','ns')) \n",
    "for item in kw1:\n",
    "  print(\"extract_tags: \",item)\n"
   ]
  },
  {
   "cell_type": "markdown",
   "metadata": {
    "id": "csfzINHZTFJ4"
   },
   "source": [
    "## Using Spacy"
   ]
  },
  {
   "cell_type": "code",
   "execution_count": null,
   "metadata": {
    "colab": {
     "base_uri": "https://localhost:8080/"
    },
    "id": "r7GohQ-DXlYF",
    "outputId": "8a549565-2285-4842-d3a3-941710c24912"
   },
   "outputs": [
    {
     "name": "stdout",
     "output_type": "stream",
     "text": [
      "(清华大学, 2008年, 亚洲, 第一, 三)\n"
     ]
    }
   ],
   "source": [
    "import spacy\n",
    "#import zh_core_web_sm\n",
    "nlp_cn = spacy.load(\"zh_core_web_sm\")\n",
    "doc_cn3 = nlp_cn(chinese_text_cn)\n",
    "print(doc_cn3.ents)"
   ]
  },
  {
   "cell_type": "code",
   "execution_count": null,
   "metadata": {
    "colab": {
     "base_uri": "https://localhost:8080/"
    },
    "id": "hDw7EY4Z_XkC",
    "outputId": "d7fc0138-b271-44fe-a580-3f48aeda3e1a"
   },
   "outputs": [
    {
     "name": "stdout",
     "output_type": "stream",
     "text": [
      "[('清华大学', 'ORG'), ('2008年', 'DATE'), ('亚洲', 'LOC'), ('第一', 'ORDINAL'), ('三', 'CARDINAL')]\n"
     ]
    }
   ],
   "source": [
    "print([(X.text, X.label_) for X in doc_cn3.ents])"
   ]
  },
  {
   "cell_type": "code",
   "execution_count": null,
   "metadata": {
    "colab": {
     "base_uri": "https://localhost:8080/",
     "height": 367
    },
    "id": "GiKbErcIdeqV",
    "outputId": "cea7f2ca-656b-4406-f4c3-345f330214d4"
   },
   "outputs": [
    {
     "data": {
      "text/html": [
       "<span class=\"tex2jax_ignore\"><div class=\"entities\" style=\"line-height: 2.5; direction: ltr\">国立\n",
       "<mark class=\"entity\" style=\"background: #7aecec; padding: 0.45em 0.6em; margin: 0 0.25em; line-height: 1; border-radius: 0.35em;\">\n",
       "    清华大学\n",
       "    <span style=\"font-size: 0.8em; font-weight: bold; line-height: 1; border-radius: 0.35em; vertical-align: middle; margin-left: 0.5rem\">ORG</span>\n",
       "</mark>\n",
       "立校于中西文化激盪之际，不同学问的思辨，本土与国际的对话，滋养人才，学贯中西，贡献人群，横跨学术、艺术、文学、军事、政治、经济各领域，为本校傲人的传统。学校历经变迁，而弦歌不曾稍歇；于逆境中，自强以不息，于板荡中，厚德以载物，是本校师生的精神与面貌，以迄于今。而服务科学研究所成立于\n",
       "<mark class=\"entity\" style=\"background: #bfe1d9; padding: 0.45em 0.6em; margin: 0 0.25em; line-height: 1; border-radius: 0.35em;\">\n",
       "    2008年\n",
       "    <span style=\"font-size: 0.8em; font-weight: bold; line-height: 1; border-radius: 0.35em; vertical-align: middle; margin-left: 0.5rem\">DATE</span>\n",
       "</mark>\n",
       " 是\n",
       "<mark class=\"entity\" style=\"background: #ff9561; padding: 0.45em 0.6em; margin: 0 0.25em; line-height: 1; border-radius: 0.35em;\">\n",
       "    亚洲\n",
       "    <span style=\"font-size: 0.8em; font-weight: bold; line-height: 1; border-radius: 0.35em; vertical-align: middle; margin-left: 0.5rem\">LOC</span>\n",
       "</mark>\n",
       "\n",
       "<mark class=\"entity\" style=\"background: #e4e7d2; padding: 0.45em 0.6em; margin: 0 0.25em; line-height: 1; border-radius: 0.35em;\">\n",
       "    第一\n",
       "    <span style=\"font-size: 0.8em; font-weight: bold; line-height: 1; border-radius: 0.35em; vertical-align: middle; margin-left: 0.5rem\">ORDINAL</span>\n",
       "</mark>\n",
       "个服务科学研究所，首开服务科学跨领域学习研究并培养创新人才，强调科技与人文的结合，以便在服务内容的发展，或是服务提供的过程中，提高服务满意度，达到服务创新所带来的价值。同时探讨如何以科学化的方法与技术，增进服务相关产业与企业流程的生产力与创新，增进人类福祉。本所培育的人才具有跨领域思维能力，能将服务科学知识广泛应用在各领域，本所学生毕业后就职，如同服科所本身多元发展的特性，除出国继续进修深造外，皆能于各领域发挥专长，除网路产业、製造/软体服务业、研究单位外，自行创业、加入Start-up团队或前进两岸\n",
       "<mark class=\"entity\" style=\"background: #e4e7d2; padding: 0.45em 0.6em; margin: 0 0.25em; line-height: 1; border-radius: 0.35em;\">\n",
       "    三\n",
       "    <span style=\"font-size: 0.8em; font-weight: bold; line-height: 1; border-radius: 0.35em; vertical-align: middle; margin-left: 0.5rem\">CARDINAL</span>\n",
       "</mark>\n",
       "地就职也不在少数。</div></span>"
      ],
      "text/plain": [
       "<IPython.core.display.HTML object>"
      ]
     },
     "metadata": {},
     "output_type": "display_data"
    }
   ],
   "source": [
    "from spacy import displacy\n",
    "displacy.render(doc_cn3, jupyter=True, style='ent')"
   ]
  },
  {
   "cell_type": "markdown",
   "metadata": {
    "id": "pHGuHofWUcsX"
   },
   "source": [
    "## NLP_Zh in Spacy"
   ]
  },
  {
   "cell_type": "code",
   "execution_count": null,
   "metadata": {
    "id": "_bLcPTaU39Ut"
   },
   "outputs": [],
   "source": [
    "import spacy\n",
    "from spacy import displacy\n",
    "# load language model\n",
    "nlp_zh = spacy.load('zh_core_web_sm')  ## disable=[\"parser\"]\n",
    "# parse text\n",
    "doc = nlp_zh(chinese_text)"
   ]
  },
  {
   "cell_type": "code",
   "execution_count": null,
   "metadata": {
    "colab": {
     "base_uri": "https://localhost:8080/"
    },
    "id": "ddknoOm-4j0M",
    "outputId": "391469ed-fc0d-41eb-bba7-0752e55a2d15"
   },
   "outputs": [
    {
     "data": {
      "text/plain": [
       "國立清華大學立校於中西文化激盪之際，不同學問的思辨，本土與國際的對話，滋養人才，學貫中西，貢獻人群，橫跨學術、藝術、文學、軍事、政治、經濟各領域，為本校傲人的傳統。學校歷經變遷，而弦歌不曾稍歇；於逆境中，自強以不息，於板蕩中，厚德以載物，是本校師生的精神與面貌，以迄於今。而服務科學研究所成立於2008年 是亞洲第一個服務科學研究所，首開服務科學跨領域學習研究並培養創新人才，強調科技與人文的結合，以便在服務內容的發展，或是服務提供的過程中，提高服務滿意度，達到服務創新所帶來的價值。同時探討如何以科學化的方法與技術，增進服務相關產業與企業流程的生產力與創新，增進人類福祉。本所培育的人才具有跨領域思維能力，能將服務科學知識廣泛應用在各領域，本所學生畢業後就職，如同服科所本身多元發展的特性，除出國繼續進修深造外，皆能於各領域發揮專長，除網路產業、製造/軟體服務業、研究單位外，自行創業、加入Start-up團隊或前進兩岸三地就職也不在少數。"
      ]
     },
     "execution_count": 23,
     "metadata": {},
     "output_type": "execute_result"
    }
   ],
   "source": [
    "doc"
   ]
  },
  {
   "cell_type": "code",
   "execution_count": null,
   "metadata": {
    "colab": {
     "base_uri": "https://localhost:8080/"
    },
    "id": "LM_LhgCV4stP",
    "outputId": "1ee2d5e3-006e-49dc-97f4-fb2f38fd5f69"
   },
   "outputs": [
    {
     "name": "stdout",
     "output_type": "stream",
     "text": [
      "('國立', 'VERB', 'VV', 'nmod:topic', True, False)\n",
      "('清華', 'ADJ', 'JJ', 'amod', True, False)\n",
      "('大學', 'NOUN', 'NN', 'nsubj', True, False)\n",
      "('立校', 'VERB', 'VV', 'ROOT', True, False)\n",
      "('於', 'ADP', 'P', 'case', True, False)\n",
      "('中西', 'NOUN', 'NN', 'compound:nn', True, False)\n",
      "('文化', 'NOUN', 'NN', 'nmod:prep', True, False)\n",
      "('激盪', 'NOUN', 'NN', 'conj', True, False)\n",
      "('之', 'PART', 'DEG', 'case', True, True)\n",
      "('際', 'NOUN', 'NN', 'dobj', True, False)\n",
      "('，', 'PUNCT', 'PU', 'punct', False, True)\n",
      "('不同', 'ADJ', 'JJ', 'amod', True, True)\n",
      "('學問', 'NOUN', 'NN', 'nmod:assmod', True, False)\n",
      "('的', 'PART', 'DEG', 'case', True, True)\n",
      "('思辨', 'NOUN', 'NN', 'dobj', True, False)\n",
      "('，', 'PUNCT', 'PU', 'punct', False, True)\n",
      "('本土', 'NOUN', 'NN', 'nsubj', True, False)\n",
      "('與', 'VERB', 'VV', 'acl', True, False)\n",
      "('國際', 'NOUN', 'NN', 'dobj', True, False)\n",
      "('的', 'PART', 'DEC', 'mark', True, True)\n",
      "('對話', 'NOUN', 'NN', 'conj', True, False)\n",
      "('，', 'PUNCT', 'PU', 'punct', False, True)\n",
      "('滋養', 'VERB', 'VV', 'conj', True, False)\n",
      "('人才', 'NOUN', 'NN', 'dobj', True, False)\n",
      "('，', 'PUNCT', 'PU', 'punct', False, True)\n",
      "('學貫', 'VERB', 'VV', 'conj', True, False)\n",
      "('中西', 'VERB', 'VV', 'dobj', True, False)\n",
      "('，', 'PUNCT', 'PU', 'punct', False, True)\n",
      "('貢獻', 'VERB', 'VV', 'conj', True, False)\n",
      "('人群', 'NOUN', 'NN', 'dobj', True, False)\n",
      "('，', 'PUNCT', 'PU', 'punct', False, True)\n",
      "('橫跨', 'NOUN', 'NN', 'nsubj', True, False)\n",
      "('學術', 'VERB', 'VA', 'conj', True, False)\n",
      "('、', 'PUNCT', 'PU', 'punct', False, True)\n",
      "('藝術', 'NOUN', 'NN', 'conj', True, False)\n",
      "('、', 'PUNCT', 'PU', 'punct', False, True)\n",
      "('文學', 'NOUN', 'NN', 'conj', True, False)\n",
      "('、', 'PUNCT', 'PU', 'punct', False, True)\n",
      "('軍事', 'NOUN', 'NN', 'conj', True, False)\n",
      "('、', 'PUNCT', 'PU', 'punct', False, True)\n",
      "('政治', 'NOUN', 'NN', 'conj', True, False)\n",
      "('、', 'PUNCT', 'PU', 'punct', False, True)\n",
      "('經濟', 'NOUN', 'NN', 'compound:nn', True, False)\n",
      "('各', 'DET', 'DT', 'advmod', True, True)\n",
      "('領域', 'VERB', 'VA', 'dobj', True, False)\n",
      "('，', 'PUNCT', 'PU', 'punct', False, True)\n",
      "('為', 'VERB', 'VV', 'conj', True, False)\n",
      "('本校', 'PROPN', 'NR', 'nmod:assmod', True, False)\n",
      "('傲人', 'NOUN', 'NN', 'nmod:assmod', True, False)\n",
      "('的', 'PART', 'DEG', 'case', True, True)\n",
      "('傳統', 'NOUN', 'NN', 'dobj', True, False)\n",
      "('。', 'PUNCT', 'PU', 'punct', False, True)\n",
      "('學校', 'NOUN', 'NN', 'nsubj', True, False)\n",
      "('歷經', 'VERB', 'VV', 'ROOT', True, False)\n",
      "('變遷', 'VERB', 'VV', 'compound:vc', True, False)\n",
      "('，', 'PUNCT', 'PU', 'punct', False, True)\n",
      "('而', 'ADV', 'AD', 'advmod', True, True)\n",
      "('弦歌', 'NOUN', 'NN', 'nsubj', True, False)\n",
      "('不曾', 'ADV', 'AD', 'amod', True, True)\n",
      "('稍歇', 'VERB', 'VV', 'conj', True, False)\n",
      "('；', 'PUNCT', 'PU', 'punct', False, True)\n",
      "('於', 'ADP', 'P', 'case', True, False)\n",
      "('逆境', 'NOUN', 'NN', 'nmod:prep', True, False)\n",
      "('中', 'PART', 'LC', 'case', True, False)\n",
      "('，', 'PUNCT', 'PU', 'punct', False, True)\n",
      "('自強', 'VERB', 'VV', 'dep', True, False)\n",
      "('以', 'ADP', 'P', 'case', True, True)\n",
      "('不息', 'VERB', 'VV', 'conj', True, False)\n",
      "('，', 'PUNCT', 'PU', 'punct', False, True)\n",
      "('於板', 'VERB', 'VV', 'compound:vc', True, False)\n",
      "('蕩', 'VERB', 'VV', 'advcl:loc', True, False)\n",
      "('中', 'PART', 'LC', 'case', True, False)\n",
      "('，', 'PUNCT', 'PU', 'punct', False, True)\n",
      "('厚德', 'VERB', 'VV', 'conj', True, False)\n",
      "('以', 'ADP', 'P', 'case', True, True)\n",
      "('載物', 'NOUN', 'NN', 'nmod:prep', True, False)\n",
      "('，', 'PUNCT', 'PU', 'punct', False, True)\n",
      "('是', 'VERB', 'VC', 'cop', True, True)\n",
      "('本校', 'NOUN', 'NN', 'nsubj', True, False)\n",
      "('師生', 'VERB', 'VA', 'amod', True, False)\n",
      "('的', 'PART', 'DEC', 'mark', True, True)\n",
      "('精神', 'NOUN', 'NN', 'compound:nn', True, False)\n",
      "('與', 'NOUN', 'NN', 'compound:nn', True, False)\n",
      "('面貌', 'NOUN', 'NN', 'nmod:prep', True, False)\n",
      "('，', 'PUNCT', 'PU', 'punct', False, True)\n",
      "('以迄', 'ADV', 'AD', 'advmod', True, False)\n",
      "('於今', 'VERB', 'VV', 'conj', True, False)\n",
      "('。', 'PUNCT', 'PU', 'punct', False, True)\n",
      "('而', 'ADV', 'AD', 'advmod', True, True)\n",
      "('服務', 'NOUN', 'NN', 'compound:nn', True, False)\n",
      "('科學', 'NOUN', 'NN', 'compound:nn', True, False)\n",
      "('研究所', 'NOUN', 'NN', 'nsubj', True, False)\n",
      "('成立', 'VERB', 'VV', 'acl', True, False)\n",
      "('於', 'ADP', 'P', 'case', True, False)\n",
      "('2008年', 'NOUN', 'NT', 'nmod:prep', False, False)\n",
      "('是', 'VERB', 'VC', 'cop', True, True)\n",
      "('亞洲', 'ADV', 'AD', 'advmod', True, False)\n",
      "('第一', 'NUM', 'OD', 'dep', True, False)\n",
      "('個', 'NUM', 'M', 'mark:clf', True, False)\n",
      "('服務', 'NOUN', 'NN', 'conj', True, False)\n",
      "('科學', 'NOUN', 'NN', 'compound:nn', True, False)\n",
      "('研究所', 'NOUN', 'NN', 'dobj', True, False)\n",
      "('，', 'PUNCT', 'PU', 'punct', False, True)\n",
      "('首', 'NUM', 'OD', 'nummod', True, False)\n",
      "('開', 'NUM', 'M', 'mark:clf', True, False)\n",
      "('服務', 'NOUN', 'NN', 'compound:nn', True, False)\n",
      "('科學', 'PROPN', 'NR', 'compound:nn', True, False)\n",
      "('跨領域', 'ADJ', 'JJ', 'amod', True, False)\n",
      "('學習', 'NOUN', 'NN', 'nsubj', True, False)\n",
      "('研究', 'VERB', 'VV', 'conj', True, False)\n",
      "('並培', 'PROPN', 'NR', 'nsubj', True, False)\n",
      "('養創', 'ADJ', 'JJ', 'amod', True, False)\n",
      "('新', 'ADJ', 'JJ', 'amod', True, False)\n",
      "('人才', 'NOUN', 'NN', 'dobj', True, False)\n",
      "('，', 'PUNCT', 'PU', 'punct', False, True)\n",
      "('強調', 'NOUN', 'NN', 'compound:nn', True, False)\n",
      "('科技', 'NOUN', 'NN', 'nsubj', True, False)\n",
      "('與', 'VERB', 'VV', 'acl', True, False)\n",
      "('人文', 'NOUN', 'NN', 'dobj', True, False)\n",
      "('的', 'PART', 'DEC', 'mark', True, True)\n",
      "('結合', 'NOUN', 'NN', 'dobj', True, False)\n",
      "('，', 'PUNCT', 'PU', 'punct', False, True)\n",
      "('以便', 'ADV', 'AD', 'advmod', True, True)\n",
      "('在', 'ADP', 'P', 'case', True, True)\n",
      "('服務', 'VERB', 'VV', 'nmod:prep', True, False)\n",
      "('內容', 'NOUN', 'NN', 'nmod:assmod', True, False)\n",
      "('的', 'PART', 'DEG', 'case', True, True)\n",
      "('發展', 'NOUN', 'NN', 'dobj', True, False)\n",
      "('，', 'PUNCT', 'PU', 'punct', False, True)\n",
      "('或是', 'CCONJ', 'CC', 'cc', True, True)\n",
      "('服務', 'NOUN', 'NN', 'nsubj', True, False)\n",
      "('提供', 'VERB', 'VV', 'acl', True, False)\n",
      "('的', 'PART', 'DEC', 'mark', True, True)\n",
      "('過程', 'NOUN', 'NN', 'dobj', True, False)\n",
      "('中', 'PART', 'LC', 'case', True, False)\n",
      "('，', 'PUNCT', 'PU', 'punct', False, True)\n",
      "('提高', 'VERB', 'VV', 'conj', True, False)\n",
      "('服務', 'NOUN', 'NN', 'compound:nn', True, False)\n",
      "('滿意度', 'NOUN', 'NN', 'dobj', True, False)\n",
      "('，', 'PUNCT', 'PU', 'punct', False, True)\n",
      "('達到', 'VERB', 'VV', 'conj', True, False)\n",
      "('服務', 'NOUN', 'NN', 'compound:nn', True, False)\n",
      "('創新', 'NOUN', 'NN', 'dobj', True, False)\n",
      "('所', 'PART', 'MSP', 'aux:prtmod', True, True)\n",
      "('帶來', 'NOUN', 'NN', 'conj', True, False)\n",
      "('的', 'PART', 'DEG', 'case', True, True)\n",
      "('價值', 'NOUN', 'NN', 'ROOT', True, False)\n",
      "('。', 'PUNCT', 'PU', 'punct', False, True)\n",
      "('同時', 'NOUN', 'NN', 'nsubj', True, False)\n",
      "('探討', 'VERB', 'VV', 'ROOT', True, False)\n",
      "('如何', 'ADV', 'AD', 'advmod', True, True)\n",
      "('以', 'ADP', 'P', 'case', True, True)\n",
      "('科學化', 'NOUN', 'NN', 'nmod:assmod', True, False)\n",
      "('的', 'PART', 'DEG', 'case', True, True)\n",
      "('方法', 'NOUN', 'NN', 'nmod:prep', True, False)\n",
      "('與', 'VERB', 'VV', 'ccomp', True, False)\n",
      "('技術', 'NOUN', 'NN', 'dobj', True, False)\n",
      "('，', 'PUNCT', 'PU', 'punct', False, True)\n",
      "('增進', 'NOUN', 'NN', 'compound:nn', True, False)\n",
      "('服務', 'NOUN', 'NN', 'nsubj', True, False)\n",
      "('相關', 'VERB', 'VV', 'advmod', True, False)\n",
      "('產', 'ADV', 'AD', 'advmod', True, False)\n",
      "('業與', 'ADJ', 'JJ', 'acl', True, False)\n",
      "('企業', 'NOUN', 'NN', 'compound:nn', True, False)\n",
      "('流程', 'NOUN', 'NN', 'dobj', True, False)\n",
      "('的', 'PART', 'DEG', 'mark', True, True)\n",
      "('生產力', 'NOUN', 'NN', 'nsubj', True, False)\n",
      "('與創', 'VERB', 'VV', 'conj', True, False)\n",
      "('新', 'VERB', 'VA', 'conj', True, False)\n",
      "('，', 'PUNCT', 'PU', 'punct', False, True)\n",
      "('增進', 'VERB', 'VV', 'conj', True, False)\n",
      "('人', 'NOUN', 'NN', 'nsubj', True, True)\n",
      "('類', 'NOUN', 'NN', 'compound:nn', True, False)\n",
      "('福祉', 'NOUN', 'NN', 'dobj', True, False)\n",
      "('。', 'PUNCT', 'PU', 'punct', False, True)\n",
      "('本', 'DET', 'DT', 'det', True, True)\n",
      "('所', 'PART', 'MSP', 'aux:prtmod', True, True)\n",
      "('培育', 'VERB', 'VV', 'acl', True, False)\n",
      "('的', 'PART', 'DEC', 'mark', True, True)\n",
      "('人才', 'NOUN', 'NN', 'nsubj', True, False)\n",
      "('具有', 'VERB', 'VV', 'ROOT', True, True)\n",
      "('跨領域', 'ADJ', 'JJ', 'amod', True, False)\n",
      "('思維', 'NOUN', 'NN', 'compound:nn', True, False)\n",
      "('能力', 'NOUN', 'NN', 'dobj', True, False)\n",
      "('，', 'PUNCT', 'PU', 'punct', False, True)\n",
      "('能', 'VERB', 'VV', 'aux:modal', True, True)\n",
      "('將', 'NUM', 'M', 'dep', True, False)\n",
      "('服務', 'NOUN', 'NN', 'nsubj', True, False)\n",
      "('科學', 'VERB', 'VV', 'conj', True, False)\n",
      "('知識', 'VERB', 'VV', 'conj', True, False)\n",
      "('廣泛', 'VERB', 'VV', 'advmod', True, False)\n",
      "('應用', 'VERB', 'VV', 'conj', True, False)\n",
      "('在', 'ADP', 'P', 'case', True, True)\n",
      "('各', 'DET', 'DT', 'det', True, True)\n",
      "('領域', 'VERB', 'VA', 'nmod:prep', True, False)\n",
      "('，', 'PUNCT', 'PU', 'punct', False, True)\n",
      "('本', 'DET', 'DT', 'det', True, True)\n",
      "('所', 'NUM', 'M', 'mark:clf', True, True)\n",
      "('學生', 'NOUN', 'NN', 'nsubj', True, False)\n",
      "('畢業', 'VERB', 'VV', 'conj', True, False)\n",
      "('後', 'PART', 'LC', 'case', True, False)\n",
      "('就', 'ADV', 'AD', 'advmod', True, True)\n",
      "('職', 'VERB', 'VV', 'conj', True, False)\n",
      "('，', 'PUNCT', 'PU', 'punct', False, True)\n",
      "('如同', 'ADP', 'P', 'case', True, True)\n",
      "('服科所', 'NOUN', 'NN', 'nsubj', True, False)\n",
      "('本身', 'PRON', 'PN', 'dobj', True, True)\n",
      "('多元', 'ADV', 'AD', 'advmod', True, False)\n",
      "('發展', 'VERB', 'VV', 'acl', True, False)\n",
      "('的', 'PART', 'DEC', 'mark', True, True)\n",
      "('特性', 'NOUN', 'NN', 'dobj', True, False)\n",
      "('，', 'PUNCT', 'PU', 'punct', False, True)\n",
      "('除', 'ADP', 'P', 'case', True, True)\n",
      "('出國', 'VERB', 'VV', 'nmod:prep', True, False)\n",
      "('繼續', 'NOUN', 'NN', 'dobj', True, False)\n",
      "('進修', 'NOUN', 'NN', 'compound:nn', True, False)\n",
      "('深造', 'NOUN', 'NN', 'dobj', True, False)\n",
      "('外', 'PART', 'LC', 'case', True, False)\n",
      "('，', 'PUNCT', 'PU', 'punct', False, True)\n",
      "('皆', 'ADV', 'AD', 'advmod', True, False)\n",
      "('能', 'VERB', 'VV', 'aux:modal', True, True)\n",
      "('於', 'ADP', 'P', 'case', True, False)\n",
      "('各', 'DET', 'DT', 'det', True, True)\n",
      "('領域', 'NOUN', 'NN', 'compound:nn', True, False)\n",
      "('發揮', 'NOUN', 'NN', 'compound:nn', True, False)\n",
      "('專長', 'NOUN', 'NN', 'nmod:prep', True, False)\n",
      "('，', 'PUNCT', 'PU', 'punct', False, True)\n",
      "('除', 'ADP', 'P', 'case', True, True)\n",
      "('網路', 'NOUN', 'NN', 'compound:nn', True, False)\n",
      "('產業', 'NOUN', 'NN', 'conj', True, False)\n",
      "('、', 'PUNCT', 'PU', 'punct', False, True)\n",
      "('製造', 'NOUN', 'NN', 'nmod:prep', True, False)\n",
      "('/', 'PUNCT', 'PU', 'punct', False, True)\n",
      "('軟', 'VERB', 'VV', 'conj', True, False)\n",
      "('體服', 'PROPN', 'NR', 'compound:nn', True, False)\n",
      "('務業', 'NOUN', 'NN', 'conj', True, False)\n",
      "('、', 'PUNCT', 'PU', 'punct', False, True)\n",
      "('研究', 'NOUN', 'NN', 'compound:nn', True, False)\n",
      "('單位', 'NOUN', 'NN', 'dobj', True, False)\n",
      "('外', 'PART', 'LC', 'case', True, False)\n",
      "('，', 'PUNCT', 'PU', 'punct', False, True)\n",
      "('自行', 'ADV', 'AD', 'advmod', True, False)\n",
      "('創業', 'VERB', 'VV', 'conj', True, False)\n",
      "('、', 'PUNCT', 'PU', 'punct', False, True)\n",
      "('加入', 'VERB', 'VV', 'conj', True, True)\n",
      "('Start', 'PROPN', 'NR', 'dobj', True, False)\n",
      "('-', 'PUNCT', 'PU', 'punct', False, True)\n",
      "('up', 'PROPN', 'NR', 'dep', True, False)\n",
      "('團隊', 'NOUN', 'NN', 'conj', True, False)\n",
      "('或', 'CCONJ', 'CC', 'cc', True, True)\n",
      "('前進', 'NOUN', 'NN', 'nsubj', True, False)\n",
      "('兩岸', 'VERB', 'VV', 'acl', True, False)\n",
      "('三', 'NUM', 'CD', 'dep', True, True)\n",
      "('地', 'NOUN', 'NN', 'nsubj', True, True)\n",
      "('就', 'ADV', 'AD', 'advmod', True, True)\n",
      "('職', 'VERB', 'VV', 'conj', True, False)\n",
      "('也', 'ADV', 'AD', 'advmod', True, True)\n",
      "('不', 'ADV', 'AD', 'neg', True, True)\n",
      "('在', 'ADV', 'AD', 'advmod', True, True)\n",
      "('少數', 'VERB', 'VV', 'conj', True, False)\n",
      "('。', 'PUNCT', 'PU', 'punct', False, True)\n"
     ]
    }
   ],
   "source": [
    "for token in doc:\n",
    "    print(((\n",
    "        token.text,\n",
    "        token.pos_,\n",
    "        token.tag_,\n",
    "        token.dep_,\n",
    "        token.is_alpha,\n",
    "        token.is_stop,\n",
    "    )))"
   ]
  },
  {
   "cell_type": "code",
   "execution_count": null,
   "metadata": {
    "colab": {
     "base_uri": "https://localhost:8080/",
     "height": 349
    },
    "id": "cDakyguG5Gxk",
    "outputId": "863389c2-9613-4ba7-c8bc-39af452a2782"
   },
   "outputs": [
    {
     "name": "stdout",
     "output_type": "stream",
     "text": [
      "[('科學研究所', 'ORG'), ('2008年', 'DATE'), ('第一', 'ORDINAL'), ('科學研究所', 'ORG')]\n"
     ]
    },
    {
     "data": {
      "text/html": [
       "<span class=\"tex2jax_ignore\"><div class=\"entities\" style=\"line-height: 2.5; direction: ltr\">國立清華大學立校於中西文化激盪之際，不同學問的思辨，本土與國際的對話，滋養人才，學貫中西，貢獻人群，橫跨學術、藝術、文學、軍事、政治、經濟各領域，為本校傲人的傳統。學校歷經變遷，而弦歌不曾稍歇；於逆境中，自強以不息，於板蕩中，厚德以載物，是本校師生的精神與面貌，以迄於今。而服務\n",
       "<mark class=\"entity\" style=\"background: #7aecec; padding: 0.45em 0.6em; margin: 0 0.25em; line-height: 1; border-radius: 0.35em;\">\n",
       "    科學研究所\n",
       "    <span style=\"font-size: 0.8em; font-weight: bold; line-height: 1; border-radius: 0.35em; vertical-align: middle; margin-left: 0.5rem\">ORG</span>\n",
       "</mark>\n",
       "成立於\n",
       "<mark class=\"entity\" style=\"background: #bfe1d9; padding: 0.45em 0.6em; margin: 0 0.25em; line-height: 1; border-radius: 0.35em;\">\n",
       "    2008年\n",
       "    <span style=\"font-size: 0.8em; font-weight: bold; line-height: 1; border-radius: 0.35em; vertical-align: middle; margin-left: 0.5rem\">DATE</span>\n",
       "</mark>\n",
       " 是亞洲\n",
       "<mark class=\"entity\" style=\"background: #e4e7d2; padding: 0.45em 0.6em; margin: 0 0.25em; line-height: 1; border-radius: 0.35em;\">\n",
       "    第一\n",
       "    <span style=\"font-size: 0.8em; font-weight: bold; line-height: 1; border-radius: 0.35em; vertical-align: middle; margin-left: 0.5rem\">ORDINAL</span>\n",
       "</mark>\n",
       "個服務\n",
       "<mark class=\"entity\" style=\"background: #7aecec; padding: 0.45em 0.6em; margin: 0 0.25em; line-height: 1; border-radius: 0.35em;\">\n",
       "    科學研究所\n",
       "    <span style=\"font-size: 0.8em; font-weight: bold; line-height: 1; border-radius: 0.35em; vertical-align: middle; margin-left: 0.5rem\">ORG</span>\n",
       "</mark>\n",
       "，首開服務科學跨領域學習研究並培養創新人才，強調科技與人文的結合，以便在服務內容的發展，或是服務提供的過程中，提高服務滿意度，達到服務創新所帶來的價值。同時探討如何以科學化的方法與技術，增進服務相關產業與企業流程的生產力與創新，增進人類福祉。本所培育的人才具有跨領域思維能力，能將服務科學知識廣泛應用在各領域，本所學生畢業後就職，如同服科所本身多元發展的特性，除出國繼續進修深造外，皆能於各領域發揮專長，除網路產業、製造/軟體服務業、研究單位外，自行創業、加入Start-up團隊或前進兩岸三地就職也不在少數。</div></span>"
      ],
      "text/plain": [
       "<IPython.core.display.HTML object>"
      ]
     },
     "metadata": {},
     "output_type": "display_data"
    }
   ],
   "source": [
    "print([(X.text, X.label_) for X in doc.ents])\n",
    "from spacy import displacy\n",
    "displacy.render(doc, jupyter=True, style='ent')"
   ]
  },
  {
   "cell_type": "markdown",
   "metadata": {
    "id": "Wu4KrB5BSO00"
   },
   "source": [
    "## Ckiptagger"
   ]
  },
  {
   "cell_type": "markdown",
   "metadata": {
    "id": "PwYAtgkLSWxH"
   },
   "source": [
    "This open-source library implements neural CKIP-style Chinese NLP tools.\n",
    "[https://github.com/ckiplab/ckiptagger/](https://github.com/ckiplab/ckiptagger/)"
   ]
  },
  {
   "cell_type": "code",
   "execution_count": null,
   "metadata": {
    "colab": {
     "base_uri": "https://localhost:8080/"
    },
    "id": "omEpnD_-17mb",
    "outputId": "5018d284-666a-4bfc-e213-a250361520d8"
   },
   "outputs": [
    {
     "name": "stdout",
     "output_type": "stream",
     "text": [
      "Requirement already satisfied: ckiptagger in /usr/local/lib/python3.7/dist-packages (0.2.1)\n"
     ]
    }
   ],
   "source": [
    "!pip3 install ckiptagger"
   ]
  },
  {
   "cell_type": "code",
   "execution_count": null,
   "metadata": {
    "id": "BQOaTEF82BbR"
   },
   "outputs": [],
   "source": [
    "# if link 1 die, you can use the alternative link below\n",
    "from ckiptagger import data_utils\n",
    "\n",
    "ckipdata_id2=\"150BTuWcykYKdU6L5V3gEcECAfalAMuSY\"\n",
    "ckipdata_id3=\"12mf66AlZ2Xq0JUGORflD1Ot4Pul2SNPg\"\n",
    "\n",
    "def download_data_gdown(path,file_id):\n",
    "    import gdown, os, zipfile, sys\n",
    "    url = f\"https://drive.google.com/uc?id={file_id}\"\n",
    "    data_zip = os.path.join(path, \"data.zip\")\n",
    "    gdown.download(url, data_zip, quiet=False)\n",
    "\n",
    "    with zipfile.ZipFile(data_zip, \"r\") as zip_ref:\n",
    "        zip_ref.extractall(path)\n",
    "    return\n",
    "\n",
    "#download_data_gdown(path=\"./\",file_id=ckipdata_id3)\n",
    "data_utils.download_data_url(\"./\") # iis-ckip"
   ]
  },
  {
   "cell_type": "code",
   "execution_count": null,
   "metadata": {
    "colab": {
     "base_uri": "https://localhost:8080/"
    },
    "id": "FCj8AilQ2FLU",
    "outputId": "4de51337-323d-4911-cb59-c7d05fb6a714"
   },
   "outputs": [
    {
     "name": "stderr",
     "output_type": "stream",
     "text": [
      "/usr/local/lib/python3.7/dist-packages/ckiptagger/model_ws.py:106: UserWarning: `tf.nn.rnn_cell.LSTMCell` is deprecated and will be removed in a future version. This class is equivalent as `tf.keras.layers.LSTMCell`, and will be replaced by that in Tensorflow 2.0.\n",
      "  cell = tf.compat.v1.nn.rnn_cell.LSTMCell(hidden_d, name=name)\n",
      "/usr/local/lib/python3.7/dist-packages/keras/layers/legacy_rnn/rnn_cell_impl.py:988: UserWarning: `layer.add_variable` is deprecated and will be removed in a future version. Please use `layer.add_weight` method instead.\n",
      "  partitioner=maybe_partitioner)\n",
      "/usr/local/lib/python3.7/dist-packages/keras/layers/legacy_rnn/rnn_cell_impl.py:996: UserWarning: `layer.add_variable` is deprecated and will be removed in a future version. Please use `layer.add_weight` method instead.\n",
      "  initializer=initializer)\n",
      "/usr/local/lib/python3.7/dist-packages/ckiptagger/model_pos.py:56: UserWarning: `tf.nn.rnn_cell.LSTMCell` is deprecated and will be removed in a future version. This class is equivalent as `tf.keras.layers.LSTMCell`, and will be replaced by that in Tensorflow 2.0.\n",
      "  cell = tf.compat.v1.nn.rnn_cell.LSTMCell(hidden_d, name=name)\n",
      "/usr/local/lib/python3.7/dist-packages/ckiptagger/model_ner.py:57: UserWarning: `tf.nn.rnn_cell.LSTMCell` is deprecated and will be removed in a future version. This class is equivalent as `tf.keras.layers.LSTMCell`, and will be replaced by that in Tensorflow 2.0.\n",
      "  cell = tf.compat.v1.nn.rnn_cell.LSTMCell(hidden_d, name=name)\n"
     ]
    }
   ],
   "source": [
    "#load model file\n",
    "from ckiptagger import construct_dictionary, WS,POS,NER\n",
    "ws = WS(\"./data\")\n",
    "pos = POS(\"./data\")\n",
    "ner = NER(\"./data\")"
   ]
  },
  {
   "cell_type": "code",
   "execution_count": null,
   "metadata": {
    "id": "1XI_OMd926z6"
   },
   "outputs": [],
   "source": [
    "word_sentence_list = ws(text)\n",
    "pos_sentence_list = pos(word_sentence_list)\n",
    "ner_sentence_list = ner(word_sentence_list, pos_sentence_list)"
   ]
  },
  {
   "cell_type": "code",
   "execution_count": null,
   "metadata": {
    "colab": {
     "base_uri": "https://localhost:8080/"
    },
    "id": "EkBDzvVPBJcI",
    "outputId": "c8a2815b-3dea-43e7-ea5c-e4c7bd48b508"
   },
   "outputs": [
    {
     "data": {
      "text/plain": [
       "[['國立',\n",
       "  '清華',\n",
       "  '大學',\n",
       "  '立校',\n",
       "  '於',\n",
       "  '中西',\n",
       "  '文化',\n",
       "  '激盪',\n",
       "  '之',\n",
       "  '際',\n",
       "  '，',\n",
       "  '不同',\n",
       "  '學問',\n",
       "  '的',\n",
       "  '思辨',\n",
       "  '，',\n",
       "  '本土',\n",
       "  '與',\n",
       "  '國際',\n",
       "  '的',\n",
       "  '對話',\n",
       "  '，',\n",
       "  '滋養',\n",
       "  '人才',\n",
       "  '，',\n",
       "  '學',\n",
       "  '貫',\n",
       "  '中',\n",
       "  '西',\n",
       "  '，',\n",
       "  '貢獻',\n",
       "  '人群',\n",
       "  '，',\n",
       "  '橫跨',\n",
       "  '學術',\n",
       "  '、',\n",
       "  '藝術',\n",
       "  '、',\n",
       "  '文學',\n",
       "  '、',\n",
       "  '軍事',\n",
       "  '、',\n",
       "  '政治',\n",
       "  '、',\n",
       "  '經濟',\n",
       "  '各',\n",
       "  '領域',\n",
       "  '，',\n",
       "  '為',\n",
       "  '本',\n",
       "  '校',\n",
       "  '傲人',\n",
       "  '的',\n",
       "  '傳統',\n",
       "  '。',\n",
       "  '學校',\n",
       "  '歷經',\n",
       "  '變遷',\n",
       "  '，',\n",
       "  '而',\n",
       "  '弦歌',\n",
       "  '不',\n",
       "  '曾',\n",
       "  '稍',\n",
       "  '歇',\n",
       "  '；',\n",
       "  '於',\n",
       "  '逆境',\n",
       "  '中',\n",
       "  '，',\n",
       "  '自強',\n",
       "  '以',\n",
       "  '不息',\n",
       "  '，',\n",
       "  '於',\n",
       "  '板蕩',\n",
       "  '中',\n",
       "  '，',\n",
       "  '厚德',\n",
       "  '以',\n",
       "  '載物',\n",
       "  '，',\n",
       "  '是',\n",
       "  '本',\n",
       "  '校',\n",
       "  '師生',\n",
       "  '的',\n",
       "  '精神',\n",
       "  '與',\n",
       "  '面貌',\n",
       "  '，',\n",
       "  '以迄',\n",
       "  '於',\n",
       "  '今',\n",
       "  '。',\n",
       "  '而',\n",
       "  '服務',\n",
       "  '科學',\n",
       "  '研究所',\n",
       "  '成立',\n",
       "  '於',\n",
       "  '2008年',\n",
       "  ' ',\n",
       "  '是',\n",
       "  '亞洲',\n",
       "  '第一',\n",
       "  '個',\n",
       "  '服務',\n",
       "  '科學',\n",
       "  '研究所',\n",
       "  '，',\n",
       "  '首開',\n",
       "  '服務',\n",
       "  '科學',\n",
       "  '跨',\n",
       "  '領域',\n",
       "  '學習',\n",
       "  '研究',\n",
       "  '並',\n",
       "  '培養',\n",
       "  '創新',\n",
       "  '人才',\n",
       "  '，',\n",
       "  '強調',\n",
       "  '科技',\n",
       "  '與',\n",
       "  '人文',\n",
       "  '的',\n",
       "  '結合',\n",
       "  '，',\n",
       "  '以便',\n",
       "  '在',\n",
       "  '服務',\n",
       "  '內容',\n",
       "  '的',\n",
       "  '發展',\n",
       "  '，',\n",
       "  '或是',\n",
       "  '服務',\n",
       "  '提供',\n",
       "  '的',\n",
       "  '過程',\n",
       "  '中',\n",
       "  '，',\n",
       "  '提高',\n",
       "  '服務',\n",
       "  '滿意度',\n",
       "  '，',\n",
       "  '達到',\n",
       "  '服務',\n",
       "  '創新',\n",
       "  '所',\n",
       "  '帶來',\n",
       "  '的',\n",
       "  '價值',\n",
       "  '。',\n",
       "  '同時',\n",
       "  '探討',\n",
       "  '如何',\n",
       "  '以',\n",
       "  '科學化',\n",
       "  '的',\n",
       "  '方法',\n",
       "  '與',\n",
       "  '技術',\n",
       "  '，',\n",
       "  '增進',\n",
       "  '服務',\n",
       "  '相關',\n",
       "  '產業',\n",
       "  '與',\n",
       "  '企業',\n",
       "  '流程',\n",
       "  '的',\n",
       "  '生產力',\n",
       "  '與',\n",
       "  '創新',\n",
       "  '，',\n",
       "  '增進',\n",
       "  '人類',\n",
       "  '福祉',\n",
       "  '。',\n",
       "  '本',\n",
       "  '所',\n",
       "  '培育',\n",
       "  '的',\n",
       "  '人才',\n",
       "  '具有',\n",
       "  '跨',\n",
       "  '領域',\n",
       "  '思維',\n",
       "  '能力',\n",
       "  '，',\n",
       "  '能',\n",
       "  '將',\n",
       "  '服務',\n",
       "  '科學',\n",
       "  '知識',\n",
       "  '廣泛',\n",
       "  '應用',\n",
       "  '在',\n",
       "  '各',\n",
       "  '領域',\n",
       "  '，',\n",
       "  '本',\n",
       "  '所',\n",
       "  '學生',\n",
       "  '畢業',\n",
       "  '後',\n",
       "  '就職',\n",
       "  '，',\n",
       "  '如同',\n",
       "  '服科所',\n",
       "  '本身',\n",
       "  '多元',\n",
       "  '發展',\n",
       "  '的',\n",
       "  '特性',\n",
       "  '，',\n",
       "  '除',\n",
       "  '出國',\n",
       "  '繼續',\n",
       "  '進修',\n",
       "  '深造',\n",
       "  '外',\n",
       "  '，',\n",
       "  '皆',\n",
       "  '能',\n",
       "  '於',\n",
       "  '各',\n",
       "  '領域',\n",
       "  '發揮',\n",
       "  '專長',\n",
       "  '，',\n",
       "  '除',\n",
       "  '網路',\n",
       "  '產業',\n",
       "  '、',\n",
       "  '製造',\n",
       "  '/',\n",
       "  '軟體',\n",
       "  '服務業',\n",
       "  '、',\n",
       "  '研究',\n",
       "  '單位',\n",
       "  '外',\n",
       "  '，',\n",
       "  '自行',\n",
       "  '創業',\n",
       "  '、',\n",
       "  '加入',\n",
       "  'Start-up',\n",
       "  '團隊',\n",
       "  '或',\n",
       "  '前進',\n",
       "  '兩岸',\n",
       "  '三',\n",
       "  '地',\n",
       "  '就職',\n",
       "  '也',\n",
       "  '不在少數',\n",
       "  '。']]"
      ]
     },
     "execution_count": 30,
     "metadata": {},
     "output_type": "execute_result"
    }
   ],
   "source": [
    "word_sentence_list"
   ]
  },
  {
   "cell_type": "code",
   "execution_count": null,
   "metadata": {
    "colab": {
     "base_uri": "https://localhost:8080/"
    },
    "id": "VwkgVAuVLAVj",
    "outputId": "7399429b-a6ad-4268-ac77-e7e19e83af05"
   },
   "outputs": [
    {
     "data": {
      "text/plain": [
       "[{(147, 152, 'DATE', '2008年'),\n",
       "  (154, 156, 'LOC', '亞洲'),\n",
       "  (156, 158, 'ORDINAL', '第一'),\n",
       "  (396, 406, 'ORG', 'Start-up團隊'),\n",
       "  (409, 410, 'CARDINAL', '兩'),\n",
       "  (411, 412, 'CARDINAL', '三')}]"
      ]
     },
     "execution_count": 31,
     "metadata": {},
     "output_type": "execute_result"
    }
   ],
   "source": [
    "ner_sentence_list"
   ]
  },
  {
   "cell_type": "code",
   "execution_count": null,
   "metadata": {
    "colab": {
     "base_uri": "https://localhost:8080/"
    },
    "id": "UkWHvIuk3GJj",
    "outputId": "98567d79-b81c-4a3a-e7b2-2bf9c89b66c4"
   },
   "outputs": [
    {
     "name": "stdout",
     "output_type": "stream",
     "text": [
      "[(6, {'國立清華大學': 1.0}), (7, {'服務科學研究所': 1.0})]\n"
     ]
    }
   ],
   "source": [
    "# Define new term for tokenization\n",
    "word_to_weight = {\"國立清華大學\":1,\"服務科學研究所\":1}\n",
    "user_dictionary = construct_dictionary(word_to_weight)\n",
    "print(user_dictionary)"
   ]
  },
  {
   "cell_type": "code",
   "execution_count": null,
   "metadata": {
    "colab": {
     "base_uri": "https://localhost:8080/"
    },
    "id": "8ZowQNmp3OzC",
    "outputId": "69faf519-8fdc-4990-b369-7efacb3af7bc"
   },
   "outputs": [
    {
     "name": "stdout",
     "output_type": "stream",
     "text": [
      "[['國立清華大學', '立校', '於', '中西', '文化', '激盪', '之', '際', '，', '不同', '學問', '的', '思辨', '，', '本土', '與', '國際', '的', '對話', '，', '滋養', '人才', '，', '學', '貫', '中', '西', '，', '貢獻', '人群', '，', '橫跨', '學術', '、', '藝術', '、', '文學', '、', '軍事', '、', '政治', '、', '經濟', '各', '領域', '，', '為', '本', '校', '傲人', '的', '傳統', '。', '學校', '歷經', '變遷', '，', '而', '弦歌', '不', '曾', '稍', '歇', '；', '於', '逆境', '中', '，', '自強', '以', '不息', '，', '於', '板蕩', '中', '，', '厚德', '以', '載物', '，', '是', '本', '校', '師生', '的', '精神', '與', '面貌', '，', '以迄', '於', '今', '。', '而', '服務科學研究所', '成立', '於', '2008年', ' ', '是', '亞洲', '第一', '個', '服務科學研究所', '，', '首開', '服務', '科學', '跨', '領域', '學習', '研究', '並', '培養', '創新', '人才', '，', '強調', '科技', '與', '人文', '的', '結合', '，', '以便', '在', '服務', '內容', '的', '發展', '，', '或是', '服務', '提供', '的', '過程', '中', '，', '提高', '服務', '滿意度', '，', '達到', '服務', '創新', '所', '帶來', '的', '價值', '。', '同時', '探討', '如何', '以', '科學化', '的', '方法', '與', '技術', '，', '增進', '服務', '相關', '產業', '與', '企業', '流程', '的', '生產力', '與', '創新', '，', '增進', '人類', '福祉', '。', '本', '所', '培育', '的', '人才', '具有', '跨', '領域', '思維', '能力', '，', '能', '將', '服務', '科學', '知識', '廣泛', '應用', '在', '各', '領域', '，', '本', '所', '學生', '畢業', '後', '就職', '，', '如同', '服科所', '本身', '多元', '發展', '的', '特性', '，', '除', '出國', '繼續', '進修', '深造', '外', '，', '皆', '能', '於', '各', '領域', '發揮', '專長', '，', '除', '網路', '產業', '、', '製造', '/', '軟體', '服務業', '、', '研究', '單位', '外', '，', '自行', '創業', '、', '加入', 'Start-up', '團隊', '或', '前進', '兩岸', '三', '地', '就職', '也', '不在少數', '。']]\n"
     ]
    }
   ],
   "source": [
    "#try to tokenize again\n",
    "word_sentence_list = ws(text, recommend_dictionary = user_dictionary)\n",
    "pos_sentence_list = pos(word_sentence_list)\n",
    "ner_sentence_list = ner(word_sentence_list, pos_sentence_list)\n",
    "\n",
    "print(word_sentence_list)"
   ]
  },
  {
   "cell_type": "code",
   "execution_count": null,
   "metadata": {
    "colab": {
     "base_uri": "https://localhost:8080/"
    },
    "id": "59Z1-4QH3SHE",
    "outputId": "669f28b4-14b2-46da-8b79-c0a31fc0e63c"
   },
   "outputs": [
    {
     "name": "stdout",
     "output_type": "stream",
     "text": [
      "'國立清華大學立校於中西文化激盪之際，不同學問的思辨，本土與國際的對話，滋養人才，學貫中西，貢獻人群，橫跨學術、藝術、文學、軍事、政治、經濟各領域，為本校傲人的傳統。學校歷經變遷，而弦歌不曾稍歇；於逆境中，自強以不息，於板蕩中，厚德以載物，是本校師生的精神與面貌，以迄於今。而服務科學研究所成立於2008年 是亞洲第一個服務科學研究所，首開服務科學跨領域學習研究並培養創新人才，強調科技與人文的結合，以便在服務內容的發展，或是服務提供的過程中，提高服務滿意度，達到服務創新所帶來的價值。同時探討如何以科學化的方法與技術，增進服務相關產業與企業流程的生產力與創新，增進人類福祉。本所培育的人才具有跨領域思維能力，能將服務科學知識廣泛應用在各領域，本所學生畢業後就職，如同服科所本身多元發展的特性，除出國繼續進修深造外，皆能於各領域發揮專長，除網路產業、製造/軟體服務業、研究單位外，自行創業、加入Start-up團隊或前進兩岸三地就職也不在少數。'\n",
      "國立清華大學(Nc)　立校(VA)　於(P)　中西(A)　文化(Na)　激盪(VAC)　之(DE)　際(Nd)　，(COMMACATEGORY)　不同(VH)　學問(Na)　的(DE)　思辨(VA)　，(COMMACATEGORY)　本土(Nc)　與(Caa)　國際(Nc)　的(DE)　對話(Na)　，(COMMACATEGORY)　滋養(VC)　人才(Na)　，(COMMACATEGORY)　學(VC)　貫(VC)　中(Nc)　西(Ncd)　，(COMMACATEGORY)　貢獻(VC)　人群(Na)　，(COMMACATEGORY)　橫跨(VJ)　學術(Na)　、(PAUSECATEGORY)　藝術(Na)　、(PAUSECATEGORY)　文學(Na)　、(PAUSECATEGORY)　軍事(Na)　、(PAUSECATEGORY)　政治(Na)　、(PAUSECATEGORY)　經濟(Na)　各(Nes)　領域(Na)　，(COMMACATEGORY)　為(VG)　本(Nes)　校(Nc)　傲人(VH)　的(DE)　傳統(Na)　。(PERIODCATEGORY)　學校(Nc)　歷經(VJ)　變遷(VH)　，(COMMACATEGORY)　而(Cbb)　弦歌(Na)　不(D)　曾(D)　稍(D)　歇(VA)　；(SEMICOLONCATEGORY)　於(P)　逆境(Na)　中(Ng)　，(COMMACATEGORY)　自強(VH)　以(P)　不息(VH)　，(COMMACATEGORY)　於(P)　板蕩(VH)　中(Ng)　，(COMMACATEGORY)　厚德(VH)　以(P)　載物(VA)　，(COMMACATEGORY)　是(SHI)　本(Nes)　校(Nc)　師生(Na)　的(DE)　精神(Na)　與(Caa)　面貌(Na)　，(COMMACATEGORY)　以迄(P)　於(P)　今(Nd)　。(PERIODCATEGORY)　而(Cbb)　服務科學研究所(Nc)　成立(VC)　於(P)　2008年(Nd)　 (WHITESPACE)　是(SHI)　亞洲(Nc)　第一(Neu)　個(Nf)　服務科學研究所(Nc)　，(COMMACATEGORY)　首開(VE)　服務(VC)　科學(Na)　跨(VC)　領域(Na)　學習(VC)　研究(VE)　並(Cbb)　培養(VC)　創新(VC)　人才(Na)　，(COMMACATEGORY)　強調(VE)　科技(Na)　與(Caa)　人文(Na)　的(DE)　結合(VHC)　，(COMMACATEGORY)　以便(Cbb)　在(P)　服務(Nv)　內容(Na)　的(DE)　發展(VC)　，(COMMACATEGORY)　或是(Caa)　服務(VC)　提供(VD)　的(DE)　過程(Na)　中(Ng)　，(COMMACATEGORY)　提高(VC)　服務(VC)　滿意度(Na)　，(COMMACATEGORY)　達到(VJ)　服務(VC)　創新(VC)　所(D)　帶來(VC)　的(DE)　價值(Na)　。(PERIODCATEGORY)　同時(Nd)　探討(VE)　如何(D)　以(P)　科學化(VHC)　的(DE)　方法(Na)　與(Caa)　技術(Na)　，(COMMACATEGORY)　增進(VC)　服務(VC)　相關(VH)　產業(Na)　與(Caa)　企業(Na)　流程(Na)　的(DE)　生產力(Na)　與(Caa)　創新(VC)　，(COMMACATEGORY)　增進(VC)　人類(Na)　福祉(Na)　。(PERIODCATEGORY)　本(Nes)　所(Nc)　培育(VC)　的(DE)　人才(Na)　具有(VJ)　跨(VC)　領域(Na)　思維(Na)　能力(Na)　，(COMMACATEGORY)　能(D)　將(P)　服務(VC)　科學(Na)　知識(Na)　廣泛(VH)　應用(VC)　在(P)　各(Nes)　領域(Na)　，(COMMACATEGORY)　本(Nes)　所(Nc)　學生(Na)　畢業(VH)　後(Ng)　就職(VA)　，(COMMACATEGORY)　如同(P)　服科所(Nc)　本身(Nh)　多元(VH)　發展(VC)　的(DE)　特性(Na)　，(COMMACATEGORY)　除(P)　出國(VA)　繼續(VF)　進修(VC)　深造(VA)　外(Ng)　，(COMMACATEGORY)　皆(D)　能(D)　於(P)　各(Nes)　領域(Na)　發揮(VJ)　專長(Na)　，(COMMACATEGORY)　除(P)　網路(Na)　產業(Na)　、(PAUSECATEGORY)　製造(VC)　/(FW)　軟體(Na)　服務業(Na)　、(PAUSECATEGORY)　研究(VE)　單位(Na)　外(Ng)　，(COMMACATEGORY)　自行(D)　創業(VA)　、(PAUSECATEGORY)　加入(VC)　Start-up(FW)　團隊(Na)　或(Caa)　前進(VA)　兩岸(Nc)　三(Neu)　地(Na)　就職(VA)　也(D)　不在少數(VH)　。(PERIODCATEGORY)　\n",
      "(147, 152, 'DATE', '2008年')\n",
      "(154, 156, 'LOC', '亞洲')\n",
      "(156, 158, 'ORDINAL', '第一')\n",
      "(396, 406, 'ORG', 'Start-up團隊')\n",
      "(409, 410, 'CARDINAL', '兩')\n",
      "(411, 412, 'CARDINAL', '三')\n"
     ]
    }
   ],
   "source": [
    "def print_word_pos_sentence(word_sentence, pos_sentence):\n",
    "    assert len(word_sentence) == len(pos_sentence)\n",
    "    for word, pos in zip(word_sentence, pos_sentence):\n",
    "        print(f\"{word}({pos})\", end=\"\\u3000\")\n",
    "    print()\n",
    "    return\n",
    "  \n",
    "for i, sentence in enumerate(text):\n",
    "    print(f\"'{sentence}'\")\n",
    "    print_word_pos_sentence(word_sentence_list[i],  pos_sentence_list[i])\n",
    "    for entity in sorted(ner_sentence_list[i]):\n",
    "        print(entity)"
   ]
  },
  {
   "cell_type": "markdown",
   "metadata": {
    "id": "yvtMp-SQT1dq"
   },
   "source": [
    "## CKIP transformers\n",
    " [https://github.com/ckiplab/ckip-transformers](https://github.com/ckiplab/ckip-transformers)"
   ]
  },
  {
   "cell_type": "code",
   "execution_count": null,
   "metadata": {
    "colab": {
     "base_uri": "https://localhost:8080/"
    },
    "id": "KfiFEbJ_JxhL",
    "outputId": "80bb9eac-71a8-44b8-dded-4ab49bb05116"
   },
   "outputs": [
    {
     "name": "stdout",
     "output_type": "stream",
     "text": [
      "Requirement already satisfied: transformers in /usr/local/lib/python3.7/dist-packages (4.17.0)\n",
      "Requirement already satisfied: requests in /usr/local/lib/python3.7/dist-packages (from transformers) (2.23.0)\n",
      "Requirement already satisfied: pyyaml>=5.1 in /usr/local/lib/python3.7/dist-packages (from transformers) (6.0)\n",
      "Requirement already satisfied: tokenizers!=0.11.3,>=0.11.1 in /usr/local/lib/python3.7/dist-packages (from transformers) (0.11.6)\n",
      "Requirement already satisfied: packaging>=20.0 in /usr/local/lib/python3.7/dist-packages (from transformers) (21.3)\n",
      "Requirement already satisfied: filelock in /usr/local/lib/python3.7/dist-packages (from transformers) (3.6.0)\n",
      "Requirement already satisfied: tqdm>=4.27 in /usr/local/lib/python3.7/dist-packages (from transformers) (4.63.0)\n",
      "Requirement already satisfied: huggingface-hub<1.0,>=0.1.0 in /usr/local/lib/python3.7/dist-packages (from transformers) (0.4.0)\n",
      "Requirement already satisfied: importlib-metadata in /usr/local/lib/python3.7/dist-packages (from transformers) (4.11.2)\n",
      "Requirement already satisfied: regex!=2019.12.17 in /usr/local/lib/python3.7/dist-packages (from transformers) (2019.12.20)\n",
      "Requirement already satisfied: numpy>=1.17 in /usr/local/lib/python3.7/dist-packages (from transformers) (1.21.5)\n",
      "Requirement already satisfied: sacremoses in /usr/local/lib/python3.7/dist-packages (from transformers) (0.0.47)\n",
      "Requirement already satisfied: typing-extensions>=3.7.4.3 in /usr/local/lib/python3.7/dist-packages (from huggingface-hub<1.0,>=0.1.0->transformers) (3.10.0.2)\n",
      "Requirement already satisfied: pyparsing!=3.0.5,>=2.0.2 in /usr/local/lib/python3.7/dist-packages (from packaging>=20.0->transformers) (3.0.7)\n",
      "Requirement already satisfied: zipp>=0.5 in /usr/local/lib/python3.7/dist-packages (from importlib-metadata->transformers) (3.7.0)\n",
      "Requirement already satisfied: idna<3,>=2.5 in /usr/local/lib/python3.7/dist-packages (from requests->transformers) (2.10)\n",
      "Requirement already satisfied: urllib3!=1.25.0,!=1.25.1,<1.26,>=1.21.1 in /usr/local/lib/python3.7/dist-packages (from requests->transformers) (1.24.3)\n",
      "Requirement already satisfied: certifi>=2017.4.17 in /usr/local/lib/python3.7/dist-packages (from requests->transformers) (2021.10.8)\n",
      "Requirement already satisfied: chardet<4,>=3.0.2 in /usr/local/lib/python3.7/dist-packages (from requests->transformers) (3.0.4)\n",
      "Requirement already satisfied: joblib in /usr/local/lib/python3.7/dist-packages (from sacremoses->transformers) (1.1.0)\n",
      "Requirement already satisfied: six in /usr/local/lib/python3.7/dist-packages (from sacremoses->transformers) (1.15.0)\n",
      "Requirement already satisfied: click in /usr/local/lib/python3.7/dist-packages (from sacremoses->transformers) (7.1.2)\n",
      "Requirement already satisfied: ckip-transformers in /usr/local/lib/python3.7/dist-packages (0.2.8)\n",
      "Requirement already satisfied: transformers>=3.5.0 in /usr/local/lib/python3.7/dist-packages (from ckip-transformers) (4.17.0)\n",
      "Requirement already satisfied: torch>=1.5.0 in /usr/local/lib/python3.7/dist-packages (from ckip-transformers) (1.10.0+cu111)\n",
      "Requirement already satisfied: tqdm>=4.27 in /usr/local/lib/python3.7/dist-packages (from ckip-transformers) (4.63.0)\n",
      "Requirement already satisfied: typing-extensions in /usr/local/lib/python3.7/dist-packages (from torch>=1.5.0->ckip-transformers) (3.10.0.2)\n",
      "Requirement already satisfied: tokenizers!=0.11.3,>=0.11.1 in /usr/local/lib/python3.7/dist-packages (from transformers>=3.5.0->ckip-transformers) (0.11.6)\n",
      "Requirement already satisfied: regex!=2019.12.17 in /usr/local/lib/python3.7/dist-packages (from transformers>=3.5.0->ckip-transformers) (2019.12.20)\n",
      "Requirement already satisfied: requests in /usr/local/lib/python3.7/dist-packages (from transformers>=3.5.0->ckip-transformers) (2.23.0)\n",
      "Requirement already satisfied: huggingface-hub<1.0,>=0.1.0 in /usr/local/lib/python3.7/dist-packages (from transformers>=3.5.0->ckip-transformers) (0.4.0)\n",
      "Requirement already satisfied: importlib-metadata in /usr/local/lib/python3.7/dist-packages (from transformers>=3.5.0->ckip-transformers) (4.11.2)\n",
      "Requirement already satisfied: sacremoses in /usr/local/lib/python3.7/dist-packages (from transformers>=3.5.0->ckip-transformers) (0.0.47)\n",
      "Requirement already satisfied: pyyaml>=5.1 in /usr/local/lib/python3.7/dist-packages (from transformers>=3.5.0->ckip-transformers) (6.0)\n",
      "Requirement already satisfied: filelock in /usr/local/lib/python3.7/dist-packages (from transformers>=3.5.0->ckip-transformers) (3.6.0)\n",
      "Requirement already satisfied: packaging>=20.0 in /usr/local/lib/python3.7/dist-packages (from transformers>=3.5.0->ckip-transformers) (21.3)\n",
      "Requirement already satisfied: numpy>=1.17 in /usr/local/lib/python3.7/dist-packages (from transformers>=3.5.0->ckip-transformers) (1.21.5)\n",
      "Requirement already satisfied: pyparsing!=3.0.5,>=2.0.2 in /usr/local/lib/python3.7/dist-packages (from packaging>=20.0->transformers>=3.5.0->ckip-transformers) (3.0.7)\n",
      "Requirement already satisfied: zipp>=0.5 in /usr/local/lib/python3.7/dist-packages (from importlib-metadata->transformers>=3.5.0->ckip-transformers) (3.7.0)\n",
      "Requirement already satisfied: idna<3,>=2.5 in /usr/local/lib/python3.7/dist-packages (from requests->transformers>=3.5.0->ckip-transformers) (2.10)\n",
      "Requirement already satisfied: urllib3!=1.25.0,!=1.25.1,<1.26,>=1.21.1 in /usr/local/lib/python3.7/dist-packages (from requests->transformers>=3.5.0->ckip-transformers) (1.24.3)\n",
      "Requirement already satisfied: certifi>=2017.4.17 in /usr/local/lib/python3.7/dist-packages (from requests->transformers>=3.5.0->ckip-transformers) (2021.10.8)\n",
      "Requirement already satisfied: chardet<4,>=3.0.2 in /usr/local/lib/python3.7/dist-packages (from requests->transformers>=3.5.0->ckip-transformers) (3.0.4)\n",
      "Requirement already satisfied: six in /usr/local/lib/python3.7/dist-packages (from sacremoses->transformers>=3.5.0->ckip-transformers) (1.15.0)\n",
      "Requirement already satisfied: click in /usr/local/lib/python3.7/dist-packages (from sacremoses->transformers>=3.5.0->ckip-transformers) (7.1.2)\n",
      "Requirement already satisfied: joblib in /usr/local/lib/python3.7/dist-packages (from sacremoses->transformers>=3.5.0->ckip-transformers) (1.1.0)\n"
     ]
    }
   ],
   "source": [
    "!pip3 install -U transformers\n",
    "!pip3 install -U ckip-transformers"
   ]
  },
  {
   "cell_type": "code",
   "execution_count": null,
   "metadata": {
    "id": "-QSjKXR0O0N0"
   },
   "outputs": [],
   "source": [
    "from transformers import (\n",
    "  BertTokenizerFast,\n",
    "  AutoModel\n",
    ")"
   ]
  },
  {
   "cell_type": "code",
   "execution_count": null,
   "metadata": {
    "colab": {
     "base_uri": "https://localhost:8080/"
    },
    "id": "gYMN_bUOO3Rn",
    "outputId": "6cd6b382-8f85-4b32-ffc2-54ac20e67c42"
   },
   "outputs": [
    {
     "name": "stderr",
     "output_type": "stream",
     "text": [
      "Some weights of the model checkpoint at ckiplab/albert-tiny-chinese-ner were not used when initializing AlbertModel: ['classifier.bias', 'classifier.weight']\n",
      "- This IS expected if you are initializing AlbertModel from the checkpoint of a model trained on another task or with another architecture (e.g. initializing a BertForSequenceClassification model from a BertForPreTraining model).\n",
      "- This IS NOT expected if you are initializing AlbertModel from the checkpoint of a model that you expect to be exactly identical (initializing a BertForSequenceClassification model from a BertForSequenceClassification model).\n",
      "Some weights of AlbertModel were not initialized from the model checkpoint at ckiplab/albert-tiny-chinese-ner and are newly initialized: ['albert.pooler.weight', 'albert.pooler.bias']\n",
      "You should probably TRAIN this model on a down-stream task to be able to use it for predictions and inference.\n"
     ]
    }
   ],
   "source": [
    "tokenizer = BertTokenizerFast.from_pretrained('bert-base-chinese')\n",
    "model = AutoModel.from_pretrained('ckiplab/albert-tiny-chinese-ner')"
   ]
  },
  {
   "cell_type": "code",
   "execution_count": null,
   "metadata": {
    "id": "xy0j6wG6K6eI"
   },
   "outputs": [],
   "source": [
    "from ckip_transformers.nlp import CkipWordSegmenter, CkipPosTagger, CkipNerChunker"
   ]
  },
  {
   "cell_type": "code",
   "execution_count": null,
   "metadata": {
    "id": "HePzBEhKPILU"
   },
   "outputs": [],
   "source": [
    "# Initialize drivers\n",
    "from ckip_transformers.nlp import CkipWordSegmenter, CkipPosTagger, CkipNerChunker\n",
    "\n",
    "ws_driver = CkipWordSegmenter(level=3)\n",
    "pos_driver = CkipPosTagger(level=3)\n",
    "ner_driver = CkipNerChunker(level=3)"
   ]
  },
  {
   "cell_type": "code",
   "execution_count": null,
   "metadata": {
    "colab": {
     "base_uri": "https://localhost:8080/"
    },
    "id": "2hoUHGDYPSTM",
    "outputId": "c01ddce8-4058-4a1e-8ad2-919e08371398"
   },
   "outputs": [
    {
     "name": "stderr",
     "output_type": "stream",
     "text": [
      "Tokenization: 100%|██████████| 1/1 [00:00<00:00, 541.69it/s]\n",
      "Inference: 100%|██████████| 1/1 [00:03<00:00,  3.93s/it]\n",
      "Tokenization: 100%|██████████| 1/1 [00:00<00:00, 793.17it/s]\n",
      "Inference: 100%|██████████| 1/1 [00:05<00:00,  5.55s/it]\n",
      "Tokenization: 100%|██████████| 1/1 [00:00<00:00, 155.38it/s]\n",
      "Inference: 100%|██████████| 1/1 [00:04<00:00,  4.92s/it]\n"
     ]
    }
   ],
   "source": [
    "ws  = ws_driver(text, use_delim=True, batch_size=256, max_length=128)\n",
    "pos = pos_driver(ws)\n",
    "ner = ner_driver(text, use_delim=True)"
   ]
  },
  {
   "cell_type": "code",
   "execution_count": null,
   "metadata": {
    "colab": {
     "base_uri": "https://localhost:8080/"
    },
    "id": "jDv69sdTPZYv",
    "outputId": "518c7484-da5f-49d5-f83f-d89030f5e8f7"
   },
   "outputs": [
    {
     "data": {
      "text/plain": [
       "[[NerToken(word='國立清華大學', ner='ORG', idx=(0, 6)),\n",
       "  NerToken(word='服務科學研究所', ner='ORG', idx=(137, 144)),\n",
       "  NerToken(word='2008年', ner='DATE', idx=(147, 152)),\n",
       "  NerToken(word='亞洲', ner='LOC', idx=(154, 156)),\n",
       "  NerToken(word='第一', ner='ORDINAL', idx=(156, 158)),\n",
       "  NerToken(word='Start-up團隊', ner='ORG', idx=(396, 406)),\n",
       "  NerToken(word='兩岸', ner='LOC', idx=(409, 411)),\n",
       "  NerToken(word='三', ner='CARDINAL', idx=(411, 412))]]"
      ]
     },
     "execution_count": 42,
     "metadata": {},
     "output_type": "execute_result"
    }
   ],
   "source": [
    "ner"
   ]
  }
 ],
 "metadata": {
  "colab": {
   "collapsed_sections": [],
   "name": "Week5_Regular_rexpression_NER.ipynb_2022",
   "provenance": [],
   "toc_visible": true
  },
  "kernelspec": {
   "display_name": "Python 3 (ipykernel)",
   "language": "python",
   "name": "python3"
  },
  "language_info": {
   "codemirror_mode": {
    "name": "ipython",
    "version": 3
   },
   "file_extension": ".py",
   "mimetype": "text/x-python",
   "name": "python",
   "nbconvert_exporter": "python",
   "pygments_lexer": "ipython3",
   "version": "3.9.7"
  }
 },
 "nbformat": 4,
 "nbformat_minor": 1
}
